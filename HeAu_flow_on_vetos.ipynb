{
 "cells": [
  {
   "cell_type": "markdown",
   "metadata": {},
   "source": [
    "import ipotrant libraries"
   ]
  },
  {
   "cell_type": "code",
   "execution_count": 1,
   "metadata": {},
   "outputs": [
    {
     "name": "stdout",
     "output_type": "stream",
     "text": [
      "Welcome to JupyROOT 6.29/01\n"
     ]
    }
   ],
   "source": [
    "import ROOT\n",
    "import math\n",
    "from array import array\n",
    "import numpy as np\n",
    "from ROOT import gROOT, AddressOf\n",
    "%jsroot on"
   ]
  },
  {
   "cell_type": "markdown",
   "metadata": {},
   "source": [
    "Set common variables"
   ]
  },
  {
   "cell_type": "code",
   "execution_count": 2,
   "metadata": {
    "ExecuteTime": {
     "end_time": "2023-06-06T13:48:15.019958422Z",
     "start_time": "2023-06-06T13:48:15.016818782Z"
    }
   },
   "outputs": [],
   "source": [
    "read_ampt_dat_files = False\n",
    "\n",
    "ampt_files_path = \"/home/yoren/bnl/AMPT/Artem_heau/output_taxi/\"\n",
    "\n",
    "N_files = 200"
   ]
  },
  {
   "cell_type": "markdown",
   "metadata": {},
   "source": [
    "Define structures"
   ]
  },
  {
   "cell_type": "code",
   "execution_count": 3,
   "metadata": {},
   "outputs": [],
   "source": [
    "gROOT.ProcessLine(\n",
    "\"struct event {\\\n",
    "  Int_t           number;\\\n",
    "  Int_t         ncharge_y;\\\n",
    "  Float_t         phi_bbc;\\\n",
    "  Float_t         phi_cnt;\\\n",
    "  Float_t         phi_fvtx;\\\n",
    "  };\"\n",
    "); \n",
    "\n",
    "\n",
    "class event:\n",
    "  \n",
    "  def __init__(self, input_array):\n",
    "    self.number = int(input_array[0])-100\n",
    "    self.check = int(input_array[1])\n",
    "    self.nch_tot = int(input_array[2])\n",
    "    self.bimp = float(input_array[3])\n",
    "    self.npart1 = int(input_array[4])\n",
    "    self.npart2 = int(input_array[5])\n",
    "    self.ncoll_ell = int(input_array[6])\n",
    "    self.ncoll = int(input_array[7])\n",
    "    self.ncoll1 = int(input_array[8])\n",
    "    self.ncharge_y = int(input_array[9])\n",
    "    self.phi_bbc = float(input_array[10])\n",
    "    self.phi_cnt = float(input_array[11])\n",
    "    self.phi_fvtx = float(input_array[12])\n",
    "  \n",
    "  \n",
    "  def __str__(self):\n",
    "    return f\"number = {self.number}, check = {self.check}, nch_tot = {self.nch_tot}, bimp = {self.bimp}, npart1 = {self.npart1}, npart2 = {self.npart2}, \"+f\"ncoll_ell = {self.ncoll_ell}, ncoll = {self.ncoll}, ncoll1 = {self.ncoll1}, ncharge_y = {self.ncharge_y}, phi_bbc = {self.phi_bbc}, phi_cnt = {self.phi_cnt}, phi_fvtx = {self.phi_fvtx},\"\n",
    "  \n",
    "  def get_values(self):\n",
    "    list = [self.number, self.ncharge_y, self.phi_bbc, self.phi_cnt, self.phi_fvtx]\n",
    "    for i in range(len(list)):\n",
    "      if list[i]>1e6 or list[i]<-5:\n",
    "        list[i]=9999\n",
    "    #arr = np.array(list)\n",
    "    return list\n",
    "  \n",
    "  def set_event(self, mystruck):\n",
    "    mystruck.number = self.number\n",
    "    mystruck.ncharge_y = self.ncharge_y\n",
    "    mystruck.phi_bbc = self.phi_bbc\n",
    "    mystruck.phi_cnt = self.phi_cnt\n",
    "    mystruck.phi_fvtx = self.phi_fvtx\n",
    "\n",
    "  \n",
    "class particles:\n",
    "  def __init__(self):\n",
    "    self.px_pi0 = []\n",
    "    self.py_pi0 = []\n",
    "    self.pz_pi0 = []\n",
    "    self.m_pi0 = []\n",
    "    self.px = []\n",
    "    self.py = []\n",
    "    self.pz = []\n",
    "    self.m = []\n",
    "\n",
    "  def __str__(self):\n",
    "    return f\"N_pi0 = {len(self.m_pi0)}, N_ch_part = {len(self.m)}\"\n",
    "  \n",
    "  def get_Nums(self):\n",
    "    return len(self.m), len(self.m_pi0)\n",
    "\n",
    "  def add_charged_particle(self, input_mom):\n",
    "    self.px.append(float(input_mom[0]))\n",
    "    self.py.append(float(input_mom[1]))\n",
    "    self.pz.append(float(input_mom[2]))\n",
    "    self.m.append(float(input_mom[3]))\n",
    "\n",
    "  def add_pi0(self, input_mom):\n",
    "    self.px_pi0.append(float(input_mom[0]))\n",
    "    self.py_pi0.append(float(input_mom[1]))\n",
    "    self.pz_pi0.append(float(input_mom[2]))\n",
    "    self.m_pi0.append(float(input_mom[3]))"
   ]
  },
  {
   "cell_type": "markdown",
   "metadata": {},
   "source": [
    "Create TTree creator"
   ]
  },
  {
   "cell_type": "code",
   "execution_count": 4,
   "metadata": {},
   "outputs": [],
   "source": [
    "event_input = [array('i', [0]), array('i', [0]), array('d', [0]), array('d', [0]), array('d', [0]), array('i', [0]), array('i', [0])]\n",
    "hadron_input = [array('d', [0]), array('d', [0]), array('d', [0]), array('d', [0])]\n",
    "pi0_input = [array('d', [0]), array('d', [0]), array('d', [0]), array('d', [0])]\n",
    "num_input1, num_input2 = array('i', [0]), array('i', [0])\n",
    "def ttree_creator(name1, name2, name3):\n",
    "    tree_event0 = ROOT.TTree(name1,name1)\n",
    "    tree_event0.Branch('number', event_input[0], 'number/I')\n",
    "    tree_event0.Branch('nhadrons', event_input[5], 'nhadrons/I')\n",
    "    tree_event0.Branch('npi0s', event_input[6], 'npi0s/I')\n",
    "    tree_event0.Branch('ncharge_y', event_input[1], 'ncharge_y/I')\n",
    "    tree_event0.Branch('phi_bbc', event_input[2], 'phi_bbc/D')\n",
    "    tree_event0.Branch('phi_cnt', event_input[3], 'phi_cnt/D')\n",
    "    tree_event0.Branch('phi_fvtx', event_input[4], 'phi_fvtx/D')\n",
    "\n",
    "\n",
    "    tree_hadron0 = ROOT.TTree(name2,name2)\n",
    "\n",
    "    tree_hadron0.Branch('number', num_input1, 'number/I')\n",
    "\n",
    "    tree_hadron0.Branch(\"px\", hadron_input[0], 'px/D')\n",
    "    tree_hadron0.Branch(\"py\", hadron_input[1], 'py/D')\n",
    "    tree_hadron0.Branch(\"pz\", hadron_input[2], 'pz/D')\n",
    "    tree_hadron0.Branch(\"m\",  hadron_input[3],  'm/D')\\\n",
    "    \n",
    "    tree_pi00 = ROOT.TTree(name3,name3)\n",
    "\n",
    "    tree_pi00.Branch('number', num_input2, 'number/I')\n",
    "\n",
    "    tree_pi00.Branch(\"px\", pi0_input[0], 'px/D')\n",
    "    tree_pi00.Branch(\"py\", pi0_input[1], 'py/D')\n",
    "    tree_pi00.Branch(\"pz\", pi0_input[2], 'pz/D')\n",
    "    tree_pi00.Branch(\"m\",  pi0_input[3],  'm/D')\n",
    "    \n",
    "    return [tree_event0, tree_hadron0, tree_pi00]\n",
    "\n",
    "\n",
    "\n",
    "    #mystruck= ROOT.event()\n",
    "    #tree.Branch(\"event\",mystruck,\"number/I:ncharge_y/I:phi_bbc/F:phi_cnt/F:phi_fvtx/F\")\n",
    "    #N=5\n",
    "    #npa = np.array(N*[ 0.2 ])\n",
    "    #tree.Branch('nparrayb', npa, 'nparrayb[' + str(N) + ']/D')\n",
    "    #tree.Branch(\"point\",event,\"number:check:nch_tot/i:bimp/F:npart1:npart2:ncoll_ell:ncoll:ncoll1:ncharge_y/I:phi_bbc:phi_cnt:phi_fvtx/F\")\n"
   ]
  },
  {
   "cell_type": "markdown",
   "metadata": {},
   "source": [
    "Create file reader"
   ]
  },
  {
   "cell_type": "code",
   "execution_count": 5,
   "metadata": {},
   "outputs": [],
   "source": [
    "def file_reader(filename, tree_event_in, tree_hadron_in, tree_pi0_in):\n",
    "    f = open(filename, \"r\")\n",
    "    part = particles()\n",
    "    for line in f:\n",
    "        line = line.split()\n",
    "        if float(line[0]) > 100:\n",
    "            event_input[5][0], event_input[6][0] = part.get_Nums()\n",
    "            if float(line[0]) > 101: tree_event_in.Fill()  \n",
    "            test = event(line)\n",
    "            npa = test.get_values()\n",
    "            for i in range(5):\n",
    "                event_input[i][0] = npa[i]\n",
    "            part = particles()\n",
    "            num_input1[0], num_input2[0] = npa[0], npa[0]\n",
    "        else :\n",
    "            if float(line[3]) == 0.1350: \n",
    "                part.add_pi0(line)\n",
    "                for i in range(4):\n",
    "                    pi0_input[i][0] = float(line[i])    \n",
    "                tree_pi0_in.Fill()            \n",
    "            else: \n",
    "                part.add_charged_particle(line)\n",
    "                for i in range(4):\n",
    "                    hadron_input[i][0] = float(line[i])    \n",
    "                tree_hadron_in.Fill()\n",
    "    event_input[5][0], event_input[6][0] = part.get_Nums()\n",
    "    tree_event_in.Fill()\n",
    "    \n",
    "    #for i in range(len(part.px)):\n",
    "        #e_input[0][i]=part.px[i]\n",
    "    #tree.Fill()\n"
   ]
  },
  {
   "cell_type": "markdown",
   "metadata": {},
   "source": [
    "Read AMPT files and create TTree"
   ]
  },
  {
   "cell_type": "code",
   "execution_count": 6,
   "metadata": {},
   "outputs": [
    {
     "name": "stdout",
     "output_type": "stream",
     "text": [
      "******************************************************************************\n",
      "*Tree    :event     : event                                                  *\n",
      "*Entries :        0 : Total =            3813 bytes  File  Size =          0 *\n",
      "*        :          : Tree compression factor =   1.00                       *\n",
      "******************************************************************************\n",
      "*Br    0 :number    : number/I                                               *\n",
      "*Entries :        0 : Total  Size=        489 bytes  One basket in memory    *\n",
      "*Baskets :        0 : Basket Size=      32000 bytes  Compression=   1.00     *\n",
      "*............................................................................*\n",
      "*Br    1 :nhadrons  : nhadrons/I                                             *\n",
      "*Entries :        0 : Total  Size=        497 bytes  One basket in memory    *\n",
      "*Baskets :        0 : Basket Size=      32000 bytes  Compression=   1.00     *\n",
      "*............................................................................*\n",
      "*Br    2 :npi0s     : npi0s/I                                                *\n",
      "*Entries :        0 : Total  Size=        485 bytes  One basket in memory    *\n",
      "*Baskets :        0 : Basket Size=      32000 bytes  Compression=   1.00     *\n",
      "*............................................................................*\n",
      "*Br    3 :ncharge_y : ncharge_y/I                                            *\n",
      "*Entries :        0 : Total  Size=        501 bytes  One basket in memory    *\n",
      "*Baskets :        0 : Basket Size=      32000 bytes  Compression=   1.00     *\n",
      "*............................................................................*\n",
      "*Br    4 :phi_bbc   : phi_bbc/D                                              *\n",
      "*Entries :        0 : Total  Size=        501 bytes  One basket in memory    *\n",
      "*Baskets :        0 : Basket Size=      32000 bytes  Compression=   1.00     *\n",
      "*............................................................................*\n",
      "*Br    5 :phi_cnt   : phi_cnt/D                                              *\n",
      "*Entries :        0 : Total  Size=        501 bytes  One basket in memory    *\n",
      "*Baskets :        0 : Basket Size=      32000 bytes  Compression=   1.00     *\n",
      "*............................................................................*\n",
      "*Br    6 :phi_fvtx  : phi_fvtx/D                                             *\n",
      "*Entries :        0 : Total  Size=        505 bytes  One basket in memory    *\n",
      "*Baskets :        0 : Basket Size=      32000 bytes  Compression=   1.00     *\n",
      "*............................................................................*\n",
      "******************************************************************************\n",
      "*Tree    :hadron    : hadron                                                 *\n",
      "*Entries :        0 : Total =            2735 bytes  File  Size =          0 *\n",
      "*        :          : Tree compression factor =   1.00                       *\n",
      "******************************************************************************\n",
      "*Br    0 :number    : number/I                                               *\n",
      "*Entries :        0 : Total  Size=        489 bytes  One basket in memory    *\n",
      "*Baskets :        0 : Basket Size=      32000 bytes  Compression=   1.00     *\n",
      "*............................................................................*\n",
      "*Br    1 :px        : px/D                                                   *\n",
      "*Entries :        0 : Total  Size=        481 bytes  One basket in memory    *\n",
      "*Baskets :        0 : Basket Size=      32000 bytes  Compression=   1.00     *\n",
      "*............................................................................*\n",
      "*Br    2 :py        : py/D                                                   *\n",
      "*Entries :        0 : Total  Size=        481 bytes  One basket in memory    *\n",
      "*Baskets :        0 : Basket Size=      32000 bytes  Compression=   1.00     *\n",
      "*............................................................................*\n",
      "*Br    3 :pz        : pz/D                                                   *\n",
      "*Entries :        0 : Total  Size=        481 bytes  One basket in memory    *\n",
      "*Baskets :        0 : Basket Size=      32000 bytes  Compression=   1.00     *\n",
      "*............................................................................*\n",
      "*Br    4 :m         : m/D                                                    *\n",
      "*Entries :        0 : Total  Size=        477 bytes  One basket in memory    *\n",
      "*Baskets :        0 : Basket Size=      32000 bytes  Compression=   1.00     *\n",
      "*............................................................................*\n",
      "******************************************************************************\n",
      "*Tree    :pi0       : pi0                                                    *\n",
      "*Entries :        0 : Total =            2729 bytes  File  Size =          0 *\n",
      "*        :          : Tree compression factor =   1.00                       *\n",
      "******************************************************************************\n",
      "*Br    0 :number    : number/I                                               *\n",
      "*Entries :        0 : Total  Size=        489 bytes  One basket in memory    *\n",
      "*Baskets :        0 : Basket Size=      32000 bytes  Compression=   1.00     *\n",
      "*............................................................................*\n",
      "*Br    1 :px        : px/D                                                   *\n",
      "*Entries :        0 : Total  Size=        481 bytes  One basket in memory    *\n",
      "*Baskets :        0 : Basket Size=      32000 bytes  Compression=   1.00     *\n",
      "*............................................................................*\n",
      "*Br    2 :py        : py/D                                                   *\n",
      "*Entries :        0 : Total  Size=        481 bytes  One basket in memory    *\n",
      "*Baskets :        0 : Basket Size=      32000 bytes  Compression=   1.00     *\n",
      "*............................................................................*\n",
      "*Br    3 :pz        : pz/D                                                   *\n",
      "*Entries :        0 : Total  Size=        481 bytes  One basket in memory    *\n",
      "*Baskets :        0 : Basket Size=      32000 bytes  Compression=   1.00     *\n",
      "*............................................................................*\n",
      "*Br    4 :m         : m/D                                                    *\n",
      "*Entries :        0 : Total  Size=        477 bytes  One basket in memory    *\n",
      "*Baskets :        0 : Basket Size=      32000 bytes  Compression=   1.00     *\n",
      "*............................................................................*\n"
     ]
    }
   ],
   "source": [
    "[tree_event, tree_hadron, tree_pi0] = ttree_creator(\"event\",\"hadron\",\"pi0\")\n",
    "if read_ampt_dat_files:  \n",
    "    for i in range(1,1+N_files):\n",
    "        filename = ampt_files_path+f\"ampt_{i}.dat\"\n",
    "        file_reader(filename, tree_event, tree_hadron, tree_pi0)\n",
    "\n",
    "tree_event.Print()\n",
    "tree_hadron.Print()\n",
    "tree_pi0.Print()\n"
   ]
  },
  {
   "cell_type": "markdown",
   "metadata": {},
   "source": [
    "Write Tree to RootFile"
   ]
  },
  {
   "cell_type": "code",
   "execution_count": 7,
   "metadata": {},
   "outputs": [],
   "source": [
    "if read_ampt_dat_files:\n",
    "  trees=[tree_event,tree_hadron,tree_pi0]\n",
    "  output_file = ROOT.TFile.Open(\"HeAu_Artem_new.root\",\"RECREATE\")\n",
    "  for tree in trees: tree.Write()\n",
    "  output_file.Close()"
   ]
  },
  {
   "cell_type": "markdown",
   "metadata": {},
   "source": [
    "Read TTree"
   ]
  },
  {
   "cell_type": "code",
   "execution_count": 8,
   "metadata": {},
   "outputs": [],
   "source": [
    "tree_read_event, tree_read_hadron, tree_read_pi0 = tree_event, tree_hadron, tree_pi0\n",
    "\n",
    "inFile = ROOT.TFile.Open('HeAu_Artem_new.root',\"read\")\n",
    "\n",
    "tree_read_event = inFile.Get(\"event\")\n",
    "tree_read_pi0 = inFile.Get(\"pi0\")\n",
    "tree_read_hadron = inFile.Get(\"hadron\")\n",
    "\n",
    "\"\"\"for ev in tree_read_event:\n",
    "     print(ev.npi0s)\n",
    "     if ev.npi0s==10: break\n",
    "for ev in tree_read_pi0:\n",
    "    if ev.m != 0.1350: print(ev.m)\n",
    "a=0\n",
    "for ev in tree_read_hadron:\n",
    "    if ev.m == 0.0005: a+=1\n",
    "    if a==10: break\n",
    "print(a)\"\"\"\n",
    "\n",
    "inFile.Close()\n"
   ]
  },
  {
   "cell_type": "code",
   "execution_count": 9,
   "metadata": {},
   "outputs": [],
   "source": [
    "random = ROOT.gRandom.Rndm\n",
    "\n",
    "def Sphere(r):\n",
    "    a, b,r2 = 0, 0, 1\n",
    "    while r2 > 0.25:\n",
    "        a  = random() - 0.5\n",
    "        b  = random() - 0.5\n",
    "        r2 =  a*a + b*b\n",
    "    z = r* ( -1. + 8.0 * r2 )\n",
    " \n",
    "    scale = 8.0 * r * (0.25 - r2)**0.5\n",
    "    x = a*scale\n",
    "    y = b*scale\n",
    "\n",
    "    return [r, x, y, z]\n"
   ]
  },
  {
   "cell_type": "code",
   "execution_count": 10,
   "metadata": {},
   "outputs": [],
   "source": [
    "def lorenz_boost(pt_origin, m=0.547):\n",
    "\n",
    "    p_tot=(pt_origin[0]**2+pt_origin[1]**2+pt_origin[2]**2)**0.5\n",
    "    p0=[(m**2+p_tot**2)**0.5,pt_origin[0],pt_origin[1],pt_origin[2]]\n",
    "    p0=np.array(p0)\n",
    "    \n",
    "    gamma = p0[0]/m\n",
    "    beta = p_tot/p0[0]\n",
    "    beta_x, beta_y, beta_z = -p0[1]/p0[0], -p0[2]/p0[0], -p0[3]/p0[0]\n",
    "#print(p0, gamma, beta, beta_x, beta_y, beta_z)\n",
    "    E1, E2 = m/2, m/2\n",
    "    p1 = Sphere(E1)\n",
    "    p2 = [E2,-p1[1],-p1[2],-p1[3]]\n",
    "    p1=np.array(p1)\n",
    "    p2=np.array(p2)\n",
    "\n",
    "    #print(p0, p1,p2)\n",
    "    boost_matrix = np.matrix(f\"{gamma} {-gamma*beta_x} {-gamma*beta_y} {-gamma*beta_z};\\\n",
    "                            {-gamma*beta_x} {1+(gamma-1)*(beta_x/beta)**2} {(gamma-1)*beta_x*beta_y/beta**2} {(gamma-1)*beta_x*beta_z/beta**2};\\\n",
    "                            {-gamma*beta_y} {(gamma-1)*beta_x*beta_y/beta**2} {1+(gamma-1)*(beta_y/beta)**2} {(gamma-1)*beta_y*beta_z/beta**2};\\\n",
    "                            {-gamma*beta_z} {(gamma-1)*beta_x*beta_z/beta**2} {(gamma-1)*beta_z*beta_y/beta**2} {1+(gamma-1)*(beta_z/beta)**2}\")\n",
    "    \n",
    "    p3 = np.dot(boost_matrix,p1)\n",
    "    p4 = np.dot(boost_matrix,p2)\n",
    "\n",
    "    p3 = [p3[0,0],p3[0,1],p3[0,2],p3[0,3]]\n",
    "    p4 = [p4[0,0],p4[0,1],p4[0,2],p4[0,3]]\n",
    "\n",
    "    return p3, p4\n",
    "    \n",
    "    #print(boost_matrix)\n",
    "    #print(p3,p4)\n",
    "    #print(p3[0,0]**2-p3[0,1]**2-p3[0,2]**2-p3[0,3]**2)\n",
    "    #for i in range(4):\n",
    "        #print(p0[i]-p3[0,i]-p4[0,i])\n",
    "\n",
    "#x,y = lorenz_boost([2,1,0.5])\n",
    "#print(x,y)"
   ]
  },
  {
   "cell_type": "code",
   "execution_count": 11,
   "metadata": {},
   "outputs": [
    {
     "name": "stdout",
     "output_type": "stream",
     "text": [
      "0.03829544464261488\n"
     ]
    }
   ],
   "source": [
    "import math\n",
    "\n",
    "def angle(vector1, vector2):\n",
    "    x1, y1, z1 = vector1[1], vector1[2], vector1[3]\n",
    "    x2, y2, z2 = vector2[1], vector2[2], vector2[3]\n",
    "    inner_product = x1*x2 + y1*y2 + z1*z2\n",
    "    len1 = math.hypot(x1, y1, z1)\n",
    "    len2 = math.hypot(x2, y2, z2)\n",
    "    #print(inner_product,len1,len2)\n",
    "    rel = inner_product/(len1*len2)\n",
    "    if abs(rel)>1:\n",
    "        rel = 1\n",
    "    return math.acos(rel)\n",
    "\n",
    "veto_angle = math.atan(20./522)\n",
    "print(veto_angle)"
   ]
  },
  {
   "cell_type": "code",
   "execution_count": 12,
   "metadata": {},
   "outputs": [],
   "source": [
    "def inv_mass(vector1, vector2):\n",
    "    e1, px1, py1, pz1 = vector1[0], vector1[1], vector1[2], vector1[3]\n",
    "    e2, px2, py2, pz2 = vector2[0], vector2[1], vector2[2], vector2[3]\n",
    "    m2 = (e1+e2)**2 - (px1+px2)**2 - (py1+py2)**2 - (pz1+pz2)**2\n",
    "    if m2<0: m2=0\n",
    "    return math.sqrt(m2)"
   ]
  },
  {
   "cell_type": "code",
   "execution_count": 13,
   "metadata": {},
   "outputs": [
    {
     "name": "stdout",
     "output_type": "stream",
     "text": [
      "500000\n"
     ]
    }
   ],
   "source": [
    "\n",
    "hist_eta = ROOT.TH1D(\"hist_eta\",\"hist_eta\",100,0,10)\n",
    "veto_eta = ROOT.TH1D(\"veto_eta\",\"veto_eta\",100,0,10)\n",
    "\n",
    "\n",
    "inFile = ROOT.TFile.Open('HeAu_Artem_new.root',\"read\")\n",
    "\n",
    "tree_read_event = inFile.Get(\"event\")\n",
    "tree_read_pi0 = inFile.Get(\"pi0\")\n",
    "tree_read_hadron = inFile.Get(\"hadron\")\n",
    "\n",
    "Nev = tree_read_event.GetEntries()\n",
    "hadron_input = [array('d', [0]), array('d', [0]), array('d', [0]), array('d', [0])]\n",
    "pi0_input = [array('d', [0]), array('d', [0]), array('d', [0]), array('d', [0])]\n",
    "num_inputs = [array('i', [0]), array('i', [0])]\n",
    "tree_read_hadron.SetBranchAddress('number', num_inputs[0])\n",
    "tree_read_pi0.SetBranchAddress('number', num_inputs[1])\n",
    "tree_read_hadron.SetBranchAddress('px', hadron_input[0])\n",
    "tree_read_hadron.SetBranchAddress('py', hadron_input[1])\n",
    "tree_read_hadron.SetBranchAddress('pz', hadron_input[2])\n",
    "tree_read_pi0.SetBranchAddress('px', pi0_input[0])\n",
    "tree_read_pi0.SetBranchAddress('py', pi0_input[1])\n",
    "tree_read_pi0.SetBranchAddress('pz', pi0_input[2])\n",
    "\n",
    "print(tree_read_event.GetEntries())\n",
    "\n",
    "ievent = 0\n",
    "ih_init = 0\n",
    "ipi0_init = 0\n",
    "for ev in tree_read_event:\n",
    "    \n",
    "    npi0s = ev.npi0s\n",
    "    nhadrons = ev.nhadrons\n",
    "    ievent0=ev.number\n",
    "\n",
    "    hadrons_in_event=[]\n",
    "    for ihadron in range(ih_init,ih_init+nhadrons):\n",
    "        tree_read_hadron.GetEntry(ihadron)\n",
    "        pt = (hadron_input[0][0]**2+hadron_input[1][0]**2)**0.5\n",
    "        if pt<0.1: continue\n",
    "        hadrons_in_event.append([0,hadron_input[0][0],hadron_input[1][0],hadron_input[2][0]])\n",
    "\n",
    "    ih_init+=nhadrons\n",
    "\n",
    "    for ipi0 in range(ipi0_init,ipi0_init+npi0s):\n",
    "        tree_read_pi0.GetEntry(ipi0)\n",
    "        p1, p2 = lorenz_boost([pi0_input[0][0],pi0_input[1][0],pi0_input[2][0]])\n",
    "        pi0_pt = (pi0_input[0][0]**2+pi0_input[1][0]**2)**0.5\n",
    "        if pi0_pt<0.099: continue\n",
    "        hist_eta.Fill(pi0_pt)\n",
    "        flag = False\n",
    "        for hadron in hadrons_in_event:\n",
    "            if angle(hadron, p1)<veto_angle or angle(hadron, p2)<veto_angle: flag = True\n",
    "        if flag: continue\n",
    "        veto_eta.Fill(pi0_pt)\n",
    "        \n",
    "    ipi0_init+=npi0s\n",
    "    \n",
    "    if ievent > 500000: break\n",
    "    ievent+=1\n",
    "\n",
    "inFile.Close()"
   ]
  },
  {
   "cell_type": "code",
   "execution_count": 26,
   "metadata": {},
   "outputs": [
    {
     "name": "stderr",
     "output_type": "stream",
     "text": [
      "Warning in <TROOT::Append>: Replacing existing TH1: ratio (Potential memory leak).\n",
      "Warning in <TROOT::Append>: Replacing existing TH1: divider (Potential memory leak).\n",
      "Warning in <TCanvas::Constructor>: Deleting canvas with same name: c1\n",
      "Warning in <TH1D::Rebin>: ngroup=3 is not an exact divider of nbins=100.\n",
      "Warning in <TH1D::Rebin>: ngroup=3 is not an exact divider of nbins=100.\n",
      "Info in <TCanvas::Print>: png file output/kek.png has been created\n"
     ]
    },
    {
     "data": {
      "text/html": [
       "\n",
       "\n",
       "<div id=\"root_plot_1696348556579\"\n",
       "     style=\"width: 1436px; height: 692px\">\n",
       "</div>\n",
       "<script>\n",
       "\n",
       "function display_root_plot_1696348556579(Core) {\n",
       "   let obj = Core.parse({\"_typename\":\"TCanvas\",\"fUniqueID\":0,\"fBits\":3342344,\"fLineColor\":1,\"fLineStyle\":1,\"fLineWidth\":1,\"fFillColor\":0,\"fFillStyle\":1001,\"fLeftMargin\":0.1,\"fRightMargin\":0.1,\"fBottomMargin\":0.1,\"fTopMargin\":0.1,\"fXfile\":2,\"fYfile\":2,\"fAfile\":1,\"fXstat\":0.99,\"fYstat\":0.99,\"fAstat\":2,\"fFrameFillColor\":0,\"fFrameLineColor\":1,\"fFrameFillStyle\":1001,\"fFrameLineStyle\":1,\"fFrameLineWidth\":1,\"fFrameBorderSize\":1,\"fFrameBorderMode\":0,\"fX1\":0,\"fY1\":0,\"fX2\":1,\"fY2\":1,\"fXtoAbsPixelk\":5e-5,\"fXtoPixelk\":5e-5,\"fXtoPixel\":1436,\"fYtoAbsPixelk\":692.00005,\"fYtoPixelk\":692.00005,\"fYtoPixel\":-692,\"fUtoAbsPixelk\":5e-5,\"fUtoPixelk\":5e-5,\"fUtoPixel\":1436,\"fVtoAbsPixelk\":692.00005,\"fVtoPixelk\":692,\"fVtoPixel\":-692,\"fAbsPixeltoXk\":0,\"fPixeltoXk\":0,\"fPixeltoX\":6.96378830083565e-4,\"fAbsPixeltoYk\":1,\"fPixeltoYk\":0,\"fPixeltoY\":-0.00144508670520231,\"fXlowNDC\":0,\"fYlowNDC\":0,\"fXUpNDC\":1,\"fYUpNDC\":1,\"fWNDC\":1,\"fHNDC\":1,\"fAbsXlowNDC\":0,\"fAbsYlowNDC\":0,\"fAbsWNDC\":1,\"fAbsHNDC\":1,\"fUxmin\":0,\"fUymin\":0,\"fUxmax\":1,\"fUymax\":1,\"fTheta\":30,\"fPhi\":30,\"fAspectRatio\":0,\"fNumber\":0,\"fTickx\":0,\"fTicky\":0,\"fLogx\":0,\"fLogy\":0,\"fLogz\":0,\"fPadPaint\":0,\"fCrosshair\":0,\"fCrosshairPos\":0,\"fBorderSize\":2,\"fBorderMode\":0,\"fModified\":false,\"fGridx\":false,\"fGridy\":false,\"fAbsCoord\":false,\"fEditable\":true,\"fFixedAspectRatio\":false,\"fPrimitives\":{\"_typename\":\"TList\",\"name\":\"TList\",\"arr\":[{\"_typename\":\"TPad\",\"fUniqueID\":0,\"fBits\":9,\"fLineColor\":1,\"fLineStyle\":1,\"fLineWidth\":1,\"fFillColor\":0,\"fFillStyle\":1001,\"fLeftMargin\":0.1,\"fRightMargin\":0.1,\"fBottomMargin\":0.1,\"fTopMargin\":0.1,\"fXfile\":2,\"fYfile\":2,\"fAfile\":1,\"fXstat\":0.99,\"fYstat\":0.99,\"fAstat\":2,\"fFrameFillColor\":0,\"fFrameLineColor\":1,\"fFrameFillStyle\":1001,\"fFrameLineStyle\":1,\"fFrameLineWidth\":1,\"fFrameBorderSize\":1,\"fFrameBorderMode\":0,\"fX1\":-1.25000009313226,\"fY1\":-76201.3931774461,\"fX2\":11.2500000931323,\"fY2\":685812.493177446,\"fXtoAbsPixelk\":83.2880538516523,\"fXtoPixelk\":68.9280541726233,\"fXtoPixel\":55.1423992296695,\"fYtoAbsPixelk\":617.26404608159,\"fYtoPixelk\":610.344046236264,\"fYtoPixel\":-8.89957535489726e-4,\"fUtoAbsPixelk\":14.360049679029,\"fUtoPixelk\":5e-5,\"fUtoPixel\":689.280000641942,\"fVtoAbsPixelk\":685.080050154674,\"fVtoPixelk\":678.160000309348,\"fVtoPixel\":-678.160000309348,\"fAbsPixeltoXk\":-1.51041675761614,\"fPixeltoXk\":-1.25000009313226,\"fPixeltoX\":0.0181348656201007,\"fAbsPixeltoYk\":693588.14490168,\"fPixeltoYk\":-76201.3931774461,\"fPixeltoY\":-1123.64911821295,\"fXlowNDC\":0.00999999977648258,\"fYlowNDC\":0.00999999977648258,\"fXUpNDC\":0.490000000223517,\"fYUpNDC\":0.990000000223517,\"fWNDC\":0.480000000447035,\"fHNDC\":0.980000000447035,\"fAbsXlowNDC\":0.00999999977648258,\"fAbsYlowNDC\":0.00999999977648258,\"fAbsWNDC\":0.480000000447035,\"fAbsHNDC\":0.980000000447035,\"fUxmin\":0,\"fUymin\":0,\"fUxmax\":10,\"fUymax\":609611.1,\"fTheta\":30,\"fPhi\":30,\"fAspectRatio\":0,\"fNumber\":1,\"fTickx\":0,\"fTicky\":0,\"fLogx\":0,\"fLogy\":0,\"fLogz\":0,\"fPadPaint\":0,\"fCrosshair\":0,\"fCrosshairPos\":0,\"fBorderSize\":2,\"fBorderMode\":0,\"fModified\":false,\"fGridx\":false,\"fGridy\":false,\"fAbsCoord\":false,\"fEditable\":true,\"fFixedAspectRatio\":false,\"fPrimitives\":{\"_typename\":\"TList\",\"name\":\"TList\",\"arr\":[{\"_typename\":\"TFrame\",\"fUniqueID\":0,\"fBits\":8,\"fLineColor\":1,\"fLineStyle\":1,\"fLineWidth\":1,\"fFillColor\":0,\"fFillStyle\":1001,\"fX1\":0,\"fY1\":0,\"fX2\":10,\"fY2\":609611.1,\"fBorderSize\":1,\"fBorderMode\":0},{\"_typename\":\"TH1D\",\"fUniqueID\":0,\"fBits\":8,\"fName\":\"hist_eta\",\"fTitle\":\"hist_eta\",\"fLineColor\":602,\"fLineStyle\":1,\"fLineWidth\":1,\"fFillColor\":0,\"fFillStyle\":1001,\"fMarkerColor\":1,\"fMarkerStyle\":1,\"fMarkerSize\":1,\"fNcells\":102,\"fXaxis\":{\"_typename\":\"TAxis\",\"fUniqueID\":0,\"fBits\":0,\"fName\":\"xaxis\",\"fTitle\":\"\",\"fNdivisions\":510,\"fAxisColor\":1,\"fLabelColor\":1,\"fLabelFont\":42,\"fLabelOffset\":0.005,\"fLabelSize\":0.035,\"fTickLength\":0.03,\"fTitleOffset\":1,\"fTitleSize\":0.035,\"fTitleColor\":1,\"fTitleFont\":42,\"fNbins\":100,\"fXmin\":0,\"fXmax\":10,\"fXbins\":[],\"fFirst\":0,\"fLast\":0,\"fBits2\":0,\"fTimeDisplay\":false,\"fTimeFormat\":\"\",\"fLabels\":null,\"fModLabs\":null},\"fYaxis\":{\"_typename\":\"TAxis\",\"fUniqueID\":0,\"fBits\":0,\"fName\":\"yaxis\",\"fTitle\":\"\",\"fNdivisions\":510,\"fAxisColor\":1,\"fLabelColor\":1,\"fLabelFont\":42,\"fLabelOffset\":0.005,\"fLabelSize\":0.035,\"fTickLength\":0.03,\"fTitleOffset\":0,\"fTitleSize\":0.035,\"fTitleColor\":1,\"fTitleFont\":42,\"fNbins\":1,\"fXmin\":0,\"fXmax\":1,\"fXbins\":[],\"fFirst\":0,\"fLast\":0,\"fBits2\":0,\"fTimeDisplay\":false,\"fTimeFormat\":\"\",\"fLabels\":null,\"fModLabs\":null},\"fZaxis\":{\"_typename\":\"TAxis\",\"fUniqueID\":0,\"fBits\":0,\"fName\":\"zaxis\",\"fTitle\":\"\",\"fNdivisions\":510,\"fAxisColor\":1,\"fLabelColor\":1,\"fLabelFont\":42,\"fLabelOffset\":0.005,\"fLabelSize\":0.035,\"fTickLength\":0.03,\"fTitleOffset\":1,\"fTitleSize\":0.035,\"fTitleColor\":1,\"fTitleFont\":42,\"fNbins\":1,\"fXmin\":0,\"fXmax\":1,\"fXbins\":[],\"fFirst\":0,\"fLast\":0,\"fBits2\":0,\"fTimeDisplay\":false,\"fTimeFormat\":\"\",\"fLabels\":null,\"fModLabs\":null},\"fBarOffset\":0,\"fBarWidth\":1000,\"fEntries\":2750188,\"fTsumw\":2750186,\"fTsumw2\":2750186,\"fTsumwx\":1184510.52685727,\"fTsumwx2\":762445.147382255,\"fMaximum\":-1111,\"fMinimum\":-1111,\"fNormFactor\":0,\"fContour\":[],\"fSumw2\":[],\"fOption\":\"\",\"fFunctions\":{\"_typename\":\"TList\",\"name\":\"TList\",\"arr\":[{\"_typename\":\"TPaveStats\",\"fUniqueID\":0,\"fBits\":9,\"fLineColor\":1,\"fLineStyle\":1,\"fLineWidth\":1,\"fFillColor\":0,\"fFillStyle\":1001,\"fX1\":8.50000025331975,\"fY1\":514359.373289552,\"fX2\":11.0000003278256,\"fY2\":636281.592381161,\"fX1NDC\":0.780000016093254,\"fY1NDC\":0.775000005960464,\"fX2NDC\":0.980000019073486,\"fY2NDC\":0.935000002384186,\"fBorderSize\":1,\"fInit\":1,\"fShadowColor\":1,\"fCornerRadius\":0,\"fOption\":\"brNDC\",\"fName\":\"stats\",\"fTextAngle\":0,\"fTextSize\":0,\"fTextAlign\":12,\"fTextColor\":1,\"fTextFont\":42,\"fLabel\":\"\",\"fLongest\":18,\"fMargin\":0.05,\"fLines\":{\"_typename\":\"TList\",\"name\":\"TList\",\"arr\":[{\"_typename\":\"TLatex\",\"fUniqueID\":0,\"fBits\":0,\"fName\":\"\",\"fTitle\":\"hist_eta\",\"fTextAngle\":0,\"fTextSize\":0.0368,\"fTextAlign\":0,\"fTextColor\":0,\"fTextFont\":0,\"fX\":0,\"fY\":0,\"fLineColor\":1,\"fLineStyle\":1,\"fLineWidth\":2,\"fLimitFactorSize\":3,\"fOriginSize\":0.0367999991774559},{\"_typename\":\"TLatex\",\"fUniqueID\":0,\"fBits\":0,\"fName\":\"\",\"fTitle\":\"Entries = 2750188\",\"fTextAngle\":0,\"fTextSize\":0,\"fTextAlign\":0,\"fTextColor\":0,\"fTextFont\":0,\"fX\":0,\"fY\":0,\"fLineColor\":1,\"fLineStyle\":1,\"fLineWidth\":2,\"fLimitFactorSize\":3,\"fOriginSize\":0.0231469832360744},{\"_typename\":\"TLatex\",\"fUniqueID\":0,\"fBits\":0,\"fName\":\"\",\"fTitle\":\"Mean  = 0.4307\",\"fTextAngle\":0,\"fTextSize\":0,\"fTextAlign\":0,\"fTextColor\":0,\"fTextFont\":0,\"fX\":0,\"fY\":0,\"fLineColor\":1,\"fLineStyle\":1,\"fLineWidth\":2,\"fLimitFactorSize\":3,\"fOriginSize\":0.0231469832360744},{\"_typename\":\"TLatex\",\"fUniqueID\":0,\"fBits\":0,\"fName\":\"\",\"fTitle\":\"Std Dev   = 0.3029\",\"fTextAngle\":0,\"fTextSize\":0,\"fTextAlign\":0,\"fTextColor\":0,\"fTextFont\":0,\"fX\":0,\"fY\":0,\"fLineColor\":1,\"fLineStyle\":1,\"fLineWidth\":2,\"fLimitFactorSize\":3,\"fOriginSize\":0.0231469832360744}],\"opt\":[\"\",\"\",\"\",\"\"]},\"fOptFit\":0,\"fOptStat\":1111,\"fFitFormat\":\"5.4g\",\"fStatFormat\":\"6.4g\",\"fParent\":{\"$ref\":5}}],\"opt\":[\"brNDC\"]},\"fBufferSize\":0,\"fBuffer\":[],\"fBinStatErrOpt\":0,\"fStatOverflows\":2,\"fArray\":{\"$arr\":\"Float64\",\"len\":102,\"p\":1,\"v\":[4102,551684,580582,461170,339606,241183,170688,119549,83588,57799,39844,27869,19923,14140,9850,7171,5241,3876,2812,2140,1541,1286,922,745,574,415,340,272,227,168,142,127,98,77,75,66,44,33,35,21,24,18,14,17,16,10,8,7,8,5,3,3,3,1,3,1,1,2,2,1,2,0,2,1,0,2,1,0,0,0,0,1,1,0,0,0,0,0,0,1,0,0,0,0,0,0,0,1,0,1,0,0,0,0,0,0,0,0,1,0,2]}},{\"_typename\":\"TH1D\",\"fUniqueID\":0,\"fBits\":8,\"fName\":\"veto_eta\",\"fTitle\":\"veto_eta\",\"fLineColor\":2,\"fLineStyle\":1,\"fLineWidth\":1,\"fFillColor\":0,\"fFillStyle\":1001,\"fMarkerColor\":1,\"fMarkerStyle\":1,\"fMarkerSize\":1,\"fNcells\":102,\"fXaxis\":{\"_typename\":\"TAxis\",\"fUniqueID\":0,\"fBits\":0,\"fName\":\"xaxis\",\"fTitle\":\"\",\"fNdivisions\":510,\"fAxisColor\":1,\"fLabelColor\":1,\"fLabelFont\":42,\"fLabelOffset\":0.005,\"fLabelSize\":0.035,\"fTickLength\":0.03,\"fTitleOffset\":1,\"fTitleSize\":0.035,\"fTitleColor\":1,\"fTitleFont\":42,\"fNbins\":100,\"fXmin\":0,\"fXmax\":10,\"fXbins\":[],\"fFirst\":0,\"fLast\":0,\"fBits2\":0,\"fTimeDisplay\":false,\"fTimeFormat\":\"\",\"fLabels\":null,\"fModLabs\":null},\"fYaxis\":{\"_typename\":\"TAxis\",\"fUniqueID\":0,\"fBits\":0,\"fName\":\"yaxis\",\"fTitle\":\"\",\"fNdivisions\":510,\"fAxisColor\":1,\"fLabelColor\":1,\"fLabelFont\":42,\"fLabelOffset\":0.005,\"fLabelSize\":0.035,\"fTickLength\":0.03,\"fTitleOffset\":0,\"fTitleSize\":0.035,\"fTitleColor\":1,\"fTitleFont\":42,\"fNbins\":1,\"fXmin\":0,\"fXmax\":1,\"fXbins\":[],\"fFirst\":0,\"fLast\":0,\"fBits2\":0,\"fTimeDisplay\":false,\"fTimeFormat\":\"\",\"fLabels\":null,\"fModLabs\":null},\"fZaxis\":{\"_typename\":\"TAxis\",\"fUniqueID\":0,\"fBits\":0,\"fName\":\"zaxis\",\"fTitle\":\"\",\"fNdivisions\":510,\"fAxisColor\":1,\"fLabelColor\":1,\"fLabelFont\":42,\"fLabelOffset\":0.005,\"fLabelSize\":0.035,\"fTickLength\":0.03,\"fTitleOffset\":1,\"fTitleSize\":0.035,\"fTitleColor\":1,\"fTitleFont\":42,\"fNbins\":1,\"fXmin\":0,\"fXmax\":1,\"fXbins\":[],\"fFirst\":0,\"fLast\":0,\"fBits2\":0,\"fTimeDisplay\":false,\"fTimeFormat\":\"\",\"fLabels\":null,\"fModLabs\":null},\"fBarOffset\":0,\"fBarWidth\":1000,\"fEntries\":2710370,\"fTsumw\":2710368,\"fTsumw2\":2710368,\"fTsumwx\":1165858.96165846,\"fTsumwx2\":749145.907971955,\"fMaximum\":-1111,\"fMinimum\":-1111,\"fNormFactor\":0,\"fContour\":[],\"fSumw2\":[],\"fOption\":\"\",\"fFunctions\":{\"_typename\":\"TList\",\"name\":\"TList\",\"arr\":[],\"opt\":[]},\"fBufferSize\":0,\"fBuffer\":[],\"fBinStatErrOpt\":0,\"fStatOverflows\":2,\"fArray\":{\"$arr\":\"Float64\",\"len\":102,\"p\":1,\"v\":[4053,544618,572897,454721,334615,237491,167953,117614,82202,56739,39150,27347,19517,13845,9661,6996,5123,3797,2729,2082,1514,1260,906,733,566,397,329,265,221,165,140,124,97,77,74,65,42,33,34,20,24,18,14,16,16,10,8,7,7,5,2,3,3,0,3,1,1,2,2,1,2,0,2,1,0,2,1,0,0,0,0,1,1,0,0,0,0,0,0,1,0,0,0,0,0,0,0,1],\"p1\":99,\"v1\":[1,0,2]}},{\"_typename\":\"TPaveText\",\"fUniqueID\":0,\"fBits\":9,\"fLineColor\":1,\"fLineStyle\":1,\"fLineWidth\":1,\"fFillColor\":0,\"fFillStyle\":0,\"fX1\":3.67809886721071,\"fY1\":637505.922298004,\"fX2\":6.32190113278929,\"fY2\":682002.427379237,\"fX1NDC\":0.394247910952686,\"fY1NDC\":0.93660670527867,\"fX2NDC\":0.605752089047314,\"fY2NDC\":0.995000004768372,\"fBorderSize\":0,\"fInit\":1,\"fShadowColor\":1,\"fCornerRadius\":0,\"fOption\":\"blNDC\",\"fName\":\"title\",\"fTextAngle\":0,\"fTextSize\":0,\"fTextAlign\":22,\"fTextColor\":1,\"fTextFont\":42,\"fLabel\":\"\",\"fLongest\":8,\"fMargin\":0.05,\"fLines\":{\"_typename\":\"TList\",\"name\":\"TList\",\"arr\":[{\"_typename\":\"TLatex\",\"fUniqueID\":0,\"fBits\":0,\"fName\":\"\",\"fTitle\":\"hist_eta\",\"fTextAngle\":0,\"fTextSize\":0,\"fTextAlign\":0,\"fTextColor\":0,\"fTextFont\":0,\"fX\":0,\"fY\":0,\"fLineColor\":1,\"fLineStyle\":1,\"fLineWidth\":2,\"fLimitFactorSize\":3,\"fOriginSize\":0.0496343038976192}],\"opt\":[\"\"]}}],\"opt\":[\"\",\"\",\"same\",\"blNDC\"]},\"fExecs\":{\"_typename\":\"TList\",\"name\":\"TList\",\"arr\":[],\"opt\":[]},\"fName\":\"c1_1\",\"fTitle\":\"c1_1\",\"fNumPaletteColor\":0,\"fNextPaletteColor\":0},{\"_typename\":\"TPad\",\"fUniqueID\":0,\"fBits\":9,\"fLineColor\":1,\"fLineStyle\":1,\"fLineWidth\":1,\"fFillColor\":0,\"fFillStyle\":1001,\"fLeftMargin\":0.1,\"fRightMargin\":0.1,\"fBottomMargin\":0.1,\"fTopMargin\":0.1,\"fXfile\":2,\"fYfile\":2,\"fAfile\":1,\"fXstat\":0.99,\"fYstat\":0.99,\"fAstat\":2,\"fFrameFillColor\":0,\"fFrameLineColor\":1,\"fFrameFillStyle\":1001,\"fFrameLineStyle\":1,\"fFrameLineWidth\":1,\"fFrameBorderSize\":1,\"fFrameBorderMode\":0,\"fX1\":-1.23750009220094,\"fY1\":-0.131250009778888,\"fX2\":11.1375000922009,\"fY2\":1.18125000977889,\"fXtoAbsPixelk\":801.288053851652,\"fXtoPixelk\":68.9280541726233,\"fXtoPixel\":55.6993931612824,\"fYtoAbsPixelk\":617.26404608159,\"fYtoPixelk\":610.344046236264,\"fYtoPixel\":-516.693325869696,\"fUtoAbsPixelk\":732.360049679029,\"fUtoPixelk\":5e-5,\"fUtoPixel\":689.280000641942,\"fVtoAbsPixelk\":685.080050154674,\"fVtoPixelk\":678.160000309348,\"fVtoPixel\":-678.160000309348,\"fAbsPixeltoXk\":-14.3859377701199,\"fPixeltoXk\":-1.23750009220094,\"fPixeltoX\":0.0179535169638997,\"fAbsPixeltoYk\":1.19464286681585,\"fPixeltoYk\":-0.131250009778888,\"fPixeltoY\":-0.0019353840081383,\"fXlowNDC\":0.509999999776483,\"fYlowNDC\":0.00999999977648258,\"fXUpNDC\":0.990000000223517,\"fYUpNDC\":0.990000000223517,\"fWNDC\":0.480000000447035,\"fHNDC\":0.980000000447035,\"fAbsXlowNDC\":0.509999999776483,\"fAbsYlowNDC\":0.00999999977648258,\"fAbsWNDC\":0.480000000447035,\"fAbsHNDC\":0.980000000447035,\"fUxmin\":0,\"fUymin\":0,\"fUxmax\":9.9,\"fUymax\":1.05,\"fTheta\":30,\"fPhi\":30,\"fAspectRatio\":0,\"fNumber\":2,\"fTickx\":0,\"fTicky\":0,\"fLogx\":0,\"fLogy\":0,\"fLogz\":0,\"fPadPaint\":0,\"fCrosshair\":0,\"fCrosshairPos\":0,\"fBorderSize\":2,\"fBorderMode\":0,\"fModified\":false,\"fGridx\":false,\"fGridy\":false,\"fAbsCoord\":false,\"fEditable\":true,\"fFixedAspectRatio\":false,\"fPrimitives\":{\"_typename\":\"TList\",\"name\":\"TList\",\"arr\":[{\"_typename\":\"TFrame\",\"fUniqueID\":0,\"fBits\":8,\"fLineColor\":1,\"fLineStyle\":1,\"fLineWidth\":1,\"fFillColor\":0,\"fFillStyle\":1001,\"fX1\":0,\"fY1\":0,\"fX2\":9.9,\"fY2\":1.05,\"fBorderSize\":1,\"fBorderMode\":0},{\"_typename\":\"TH1D\",\"fUniqueID\":0,\"fBits\":8,\"fName\":\"ratio\",\"fTitle\":\"ratio\",\"fLineColor\":602,\"fLineStyle\":1,\"fLineWidth\":1,\"fFillColor\":0,\"fFillStyle\":1001,\"fMarkerColor\":6,\"fMarkerStyle\":21,\"fMarkerSize\":1,\"fNcells\":35,\"fXaxis\":{\"_typename\":\"TAxis\",\"fUniqueID\":0,\"fBits\":0,\"fName\":\"xaxis\",\"fTitle\":\"\",\"fNdivisions\":510,\"fAxisColor\":1,\"fLabelColor\":1,\"fLabelFont\":42,\"fLabelOffset\":0.005,\"fLabelSize\":0.035,\"fTickLength\":0.03,\"fTitleOffset\":1,\"fTitleSize\":0.035,\"fTitleColor\":1,\"fTitleFont\":42,\"fNbins\":33,\"fXmin\":0,\"fXmax\":9.9,\"fXbins\":[],\"fFirst\":1,\"fLast\":100,\"fBits2\":0,\"fTimeDisplay\":false,\"fTimeFormat\":\"\",\"fLabels\":null,\"fModLabs\":null},\"fYaxis\":{\"_typename\":\"TAxis\",\"fUniqueID\":0,\"fBits\":0,\"fName\":\"yaxis\",\"fTitle\":\"\",\"fNdivisions\":510,\"fAxisColor\":1,\"fLabelColor\":1,\"fLabelFont\":42,\"fLabelOffset\":0.005,\"fLabelSize\":0.035,\"fTickLength\":0.03,\"fTitleOffset\":0,\"fTitleSize\":0.035,\"fTitleColor\":1,\"fTitleFont\":42,\"fNbins\":1,\"fXmin\":0,\"fXmax\":1,\"fXbins\":[],\"fFirst\":0,\"fLast\":0,\"fBits2\":0,\"fTimeDisplay\":false,\"fTimeFormat\":\"\",\"fLabels\":null,\"fModLabs\":null},\"fZaxis\":{\"_typename\":\"TAxis\",\"fUniqueID\":0,\"fBits\":0,\"fName\":\"zaxis\",\"fTitle\":\"\",\"fNdivisions\":510,\"fAxisColor\":1,\"fLabelColor\":1,\"fLabelFont\":42,\"fLabelOffset\":0.005,\"fLabelSize\":0.035,\"fTickLength\":0.03,\"fTitleOffset\":1,\"fTitleSize\":0.035,\"fTitleColor\":1,\"fTitleFont\":42,\"fNbins\":1,\"fXmin\":0,\"fXmax\":1,\"fXbins\":[],\"fFirst\":0,\"fLast\":0,\"fBits2\":0,\"fTimeDisplay\":false,\"fTimeFormat\":\"\",\"fLabels\":null,\"fModLabs\":null},\"fBarOffset\":0,\"fBarWidth\":1000,\"fEntries\":26.9417087925703,\"fTsumw\":26.9417087925703,\"fTsumw2\":26.9417087925703,\"fTsumwx\":113.830132306655,\"fTsumwx2\":656.979090297288,\"fMaximum\":-1111,\"fMinimum\":-1111,\"fNormFactor\":0,\"fContour\":[],\"fSumw2\":[],\"fOption\":\"\",\"fFunctions\":{\"_typename\":\"TList\",\"name\":\"TList\",\"arr\":[{\"_typename\":\"TPaveStats\",\"fUniqueID\":0,\"fBits\":9,\"fLineColor\":1,\"fLineStyle\":1,\"fLineWidth\":1,\"fFillColor\":0,\"fFillStyle\":1001,\"fX1\":8.41500025078655,\"fY1\":0.885937513201498,\"fX2\":10.8900003245473,\"fY2\":1.09593751163688,\"fX1NDC\":0.780000016093254,\"fY1NDC\":0.775000005960464,\"fX2NDC\":0.980000019073486,\"fY2NDC\":0.935000002384186,\"fBorderSize\":1,\"fInit\":1,\"fShadowColor\":1,\"fCornerRadius\":0,\"fOption\":\"brNDC\",\"fName\":\"stats\",\"fTextAngle\":0,\"fTextSize\":0,\"fTextAlign\":12,\"fTextColor\":1,\"fTextFont\":42,\"fLabel\":\"\",\"fLongest\":18,\"fMargin\":0.05,\"fLines\":{\"_typename\":\"TList\",\"name\":\"TList\",\"arr\":[{\"_typename\":\"TLatex\",\"fUniqueID\":0,\"fBits\":0,\"fName\":\"\",\"fTitle\":\"ratio\",\"fTextAngle\":0,\"fTextSize\":0.0368,\"fTextAlign\":0,\"fTextColor\":0,\"fTextFont\":0,\"fX\":0,\"fY\":0,\"fLineColor\":1,\"fLineStyle\":1,\"fLineWidth\":2,\"fLimitFactorSize\":3,\"fOriginSize\":0.0367999991774559},{\"_typename\":\"TLatex\",\"fUniqueID\":0,\"fBits\":0,\"fName\":\"\",\"fTitle\":\"Entries = 27     \",\"fTextAngle\":0,\"fTextSize\":0,\"fTextAlign\":0,\"fTextColor\":0,\"fTextFont\":0,\"fX\":0,\"fY\":0,\"fLineColor\":1,\"fLineStyle\":1,\"fLineWidth\":2,\"fLimitFactorSize\":3,\"fOriginSize\":0.0259228982031345},{\"_typename\":\"TLatex\",\"fUniqueID\":0,\"fBits\":0,\"fName\":\"\",\"fTitle\":\"Mean  =  4.225\",\"fTextAngle\":0,\"fTextSize\":0,\"fTextAlign\":0,\"fTextColor\":0,\"fTextFont\":0,\"fX\":0,\"fY\":0,\"fLineColor\":1,\"fLineStyle\":1,\"fLineWidth\":2,\"fLimitFactorSize\":3,\"fOriginSize\":0.0259228982031345},{\"_typename\":\"TLatex\",\"fUniqueID\":0,\"fBits\":0,\"fName\":\"\",\"fTitle\":\"Std Dev   =  2.556\",\"fTextAngle\":0,\"fTextSize\":0,\"fTextAlign\":0,\"fTextColor\":0,\"fTextFont\":0,\"fX\":0,\"fY\":0,\"fLineColor\":1,\"fLineStyle\":1,\"fLineWidth\":2,\"fLimitFactorSize\":3,\"fOriginSize\":0.0259228982031345}],\"opt\":[\"\",\"\",\"\",\"\"]},\"fOptFit\":0,\"fOptStat\":1111,\"fFitFormat\":\"5.4g\",\"fStatFormat\":\"6.4g\",\"fParent\":{\"$ref\":28}}],\"opt\":[\"brNDC\"]},\"fBufferSize\":0,\"fBuffer\":[],\"fBinStatErrOpt\":0,\"fStatOverflows\":2,\"fArray\":{\"$arr\":\"Float64\",\"len\":35,\"p\":1,\"v\":[0.986976050011968,0.985477355634915,0.983799906373303,0.981866275734591,0.979732653200647,0.977161100196464,0.974125981826582,0.981713511683034,0.972159518434913,0.976011994002999,0.983651226158038,0.990825688073395,0.973214285714286,0.984126984126984,0.978723404255319,1,0.875,0.857142857142857],\"v1\":1,\"n1\":7,\"p2\":27,\"v2\":[1,0,0,0.5,0,0,1,1]}},{\"_typename\":\"TPaveText\",\"fUniqueID\":0,\"fBits\":9,\"fLineColor\":1,\"fLineStyle\":1,\"fLineWidth\":1,\"fFillColor\":0,\"fFillStyle\":0,\"fX1\":4.15299311200974,\"fY1\":1.10250001378823,\"fX2\":5.74700688799026,\"fY2\":1.17468751593959,\"fX1NDC\":0.43559540395039,\"fY1NDC\":0.940000003948808,\"fX2NDC\":0.56440459604961,\"fY2NDC\":0.995000004768372,\"fBorderSize\":0,\"fInit\":1,\"fShadowColor\":1,\"fCornerRadius\":0,\"fOption\":\"blNDC\",\"fName\":\"title\",\"fTextAngle\":0,\"fTextSize\":0,\"fTextAlign\":22,\"fTextColor\":1,\"fTextFont\":42,\"fLabel\":\"\",\"fLongest\":5,\"fMargin\":0.05,\"fLines\":{\"_typename\":\"TList\",\"name\":\"TList\",\"arr\":[{\"_typename\":\"TLatex\",\"fUniqueID\":0,\"fBits\":0,\"fName\":\"\",\"fTitle\":\"ratio\",\"fTextAngle\":0,\"fTextSize\":0,\"fTextAlign\":0,\"fTextColor\":0,\"fTextFont\":0,\"fX\":0,\"fY\":0,\"fLineColor\":1,\"fLineStyle\":1,\"fLineWidth\":2,\"fLimitFactorSize\":3,\"fOriginSize\":0.0467500016093254}],\"opt\":[\"\"]}}],\"opt\":[\"\",\"p\",\"blNDC\"]},\"fExecs\":{\"_typename\":\"TList\",\"name\":\"TList\",\"arr\":[],\"opt\":[]},\"fName\":\"c1_2\",\"fTitle\":\"c1_2\",\"fNumPaletteColor\":0,\"fNextPaletteColor\":0},{\"_typename\":\"TStyle\",\"fUniqueID\":0,\"fBits\":0,\"fName\":\"Modern\",\"fTitle\":\"Modern Style\",\"fLineColor\":1,\"fLineStyle\":1,\"fLineWidth\":1,\"fFillColor\":19,\"fFillStyle\":1001,\"fMarkerColor\":1,\"fMarkerStyle\":1,\"fMarkerSize\":1,\"fTextAngle\":0,\"fTextSize\":0.05,\"fTextAlign\":11,\"fTextColor\":1,\"fTextFont\":62,\"fXaxis\":{\"_typename\":\"TAttAxis\",\"fNdivisions\":510,\"fAxisColor\":1,\"fLabelColor\":1,\"fLabelFont\":42,\"fLabelOffset\":0.005,\"fLabelSize\":0.035,\"fTickLength\":0.03,\"fTitleOffset\":1,\"fTitleSize\":0.035,\"fTitleColor\":1,\"fTitleFont\":42},\"fYaxis\":{\"_typename\":\"TAttAxis\",\"fNdivisions\":510,\"fAxisColor\":1,\"fLabelColor\":1,\"fLabelFont\":42,\"fLabelOffset\":0.005,\"fLabelSize\":0.035,\"fTickLength\":0.03,\"fTitleOffset\":0,\"fTitleSize\":0.035,\"fTitleColor\":1,\"fTitleFont\":42},\"fZaxis\":{\"_typename\":\"TAttAxis\",\"fNdivisions\":510,\"fAxisColor\":1,\"fLabelColor\":1,\"fLabelFont\":42,\"fLabelOffset\":0.005,\"fLabelSize\":0.035,\"fTickLength\":0.03,\"fTitleOffset\":1,\"fTitleSize\":0.035,\"fTitleColor\":1,\"fTitleFont\":42},\"fBarWidth\":1,\"fBarOffset\":0,\"fColorModelPS\":0,\"fDrawBorder\":0,\"fOptLogx\":0,\"fOptLogy\":0,\"fOptLogz\":0,\"fOptDate\":0,\"fOptStat\":1111,\"fOptTitle\":1,\"fOptFile\":0,\"fOptFit\":0,\"fShowEventStatus\":0,\"fShowEditor\":0,\"fShowToolBar\":0,\"fNumberContours\":20,\"fAttDate\":{\"_typename\":\"TAttText\",\"fTextAngle\":0,\"fTextSize\":0.025,\"fTextAlign\":11,\"fTextColor\":1,\"fTextFont\":62},\"fDateX\":0.01,\"fDateY\":0.01,\"fEndErrorSize\":2,\"fErrorX\":0.5,\"fFuncColor\":2,\"fFuncStyle\":1,\"fFuncWidth\":2,\"fGridColor\":0,\"fGridStyle\":3,\"fGridWidth\":1,\"fLegendBorderSize\":1,\"fLegendFillColor\":0,\"fLegendFont\":42,\"fLegendTextSize\":0,\"fHatchesLineWidth\":1,\"fHatchesSpacing\":1,\"fFrameFillColor\":0,\"fFrameLineColor\":1,\"fFrameFillStyle\":1001,\"fFrameLineStyle\":1,\"fFrameLineWidth\":1,\"fFrameBorderSize\":1,\"fFrameBorderMode\":0,\"fHistFillColor\":0,\"fHistLineColor\":602,\"fHistFillStyle\":1001,\"fHistLineStyle\":1,\"fHistLineWidth\":1,\"fHistMinimumZero\":false,\"fHistTopMargin\":0.05,\"fCanvasPreferGL\":false,\"fCanvasColor\":0,\"fCanvasBorderSize\":2,\"fCanvasBorderMode\":0,\"fCanvasDefH\":500,\"fCanvasDefW\":700,\"fCanvasDefX\":10,\"fCanvasDefY\":10,\"fPadColor\":0,\"fPadBorderSize\":2,\"fPadBorderMode\":0,\"fPadBottomMargin\":0.1,\"fPadTopMargin\":0.1,\"fPadLeftMargin\":0.1,\"fPadRightMargin\":0.1,\"fPadGridX\":false,\"fPadGridY\":false,\"fPadTickX\":0,\"fPadTickY\":0,\"fPaperSizeX\":20,\"fPaperSizeY\":26,\"fScreenFactor\":1,\"fStatColor\":0,\"fStatTextColor\":1,\"fStatBorderSize\":1,\"fStatFont\":42,\"fStatFontSize\":0,\"fStatStyle\":1001,\"fStatFormat\":\"6.4g\",\"fStatX\":0.98,\"fStatY\":0.935,\"fStatW\":0.2,\"fStatH\":0.16,\"fStripDecimals\":true,\"fTitleAlign\":23,\"fTitleColor\":0,\"fTitleTextColor\":1,\"fTitleBorderSize\":0,\"fTitleFont\":42,\"fTitleFontSize\":0.05,\"fTitleStyle\":0,\"fTitleX\":0.5,\"fTitleY\":0.995,\"fTitleW\":0,\"fTitleH\":0,\"fLegoInnerR\":0.5,\"fLineStyles\":[\"\",\"  \",\" 12 12\",\" 4 8\",\" 12 16 4 16\",\" 20 12 4 12\",\" 20 12 4 12 4 12 4 12\",\" 20 20\",\" 20 12 4 12 4 12\",\" 80 20\",\" 80 40 4 40\",\"  \",\"  \",\"  \",\"  \",\"  \",\"  \",\"  \",\"  \",\"  \",\"  \",\"  \",\"  \",\"  \",\"  \",\"  \",\"  \",\"  \",\"  \",\"  \"],\"fHeaderPS\":\"\",\"fTitlePS\":\"\",\"fFitFormat\":\"5.4g\",\"fPaintTextFormat\":\"g\",\"fLineScalePS\":3,\"fJoinLinePS\":0,\"fCapLinePS\":0,\"fTimeOffset\":788918400,\"fImageScaling\":1,\"fCandleWhiskerRange\":1,\"fCandleBoxRange\":0.5,\"fCandleScaled\":false,\"fViolinScaled\":true,\"fXAxisExpXOffset\":0,\"fXAxisExpYOffset\":0,\"fYAxisExpXOffset\":0,\"fYAxisExpYOffset\":0,\"fAxisMaxDigits\":5}],\"opt\":[\"\",\"\",\"\"]},\"fExecs\":null,\"fName\":\"c1\",\"fTitle\":\"c1\",\"fNumPaletteColor\":0,\"fNextPaletteColor\":0,\"fDISPLAY\":\"$DISPLAY\",\"fDoubleBuffer\":0,\"fRetained\":true,\"fXsizeUser\":0,\"fYsizeUser\":0,\"fXsizeReal\":20,\"fYsizeReal\":10,\"fWindowTopX\":0,\"fWindowTopY\":0,\"fWindowWidth\":0,\"fWindowHeight\":0,\"fCw\":1436,\"fCh\":692,\"fCatt\":{\"_typename\":\"TAttCanvas\",\"fXBetween\":2,\"fYBetween\":2,\"fTitleFromTop\":1.2,\"fXdate\":0.2,\"fYdate\":0.3,\"fAdate\":1},\"kMoveOpaque\":true,\"kResizeOpaque\":true,\"fHighLightColor\":2,\"fBatch\":true,\"kShowEventStatus\":false,\"kAutoExec\":true,\"kMenuBar\":true});\n",
       "   Core.settings.HandleKeys = false;\n",
       "   Core.draw(\"root_plot_1696348556579\", obj, \"\");\n",
       "}\n",
       "\n",
       "function script_load_root_plot_1696348556579(src, on_error) {\n",
       "    let script = document.createElement('script');\n",
       "    script.src = src;\n",
       "    script.onload = function() { display_root_plot_1696348556579(JSROOT); };\n",
       "    script.onerror = function() { script.remove(); on_error(); };\n",
       "    document.head.appendChild(script);\n",
       "}\n",
       "\n",
       "if (typeof requirejs !== 'undefined') {\n",
       "\n",
       "    // We are in jupyter notebooks, use require.js which should be configured already\n",
       "    requirejs.config({\n",
       "       paths: { 'JSRootCore' : [ 'build/jsroot', 'https://root.cern/js/7.2.1/build/jsroot', 'https://jsroot.gsi.de/7.2.1/build/jsroot' ] }\n",
       "    })(['JSRootCore'],  function(Core) {\n",
       "       display_root_plot_1696348556579(Core);\n",
       "    });\n",
       "\n",
       "} else if (typeof JSROOT !== 'undefined') {\n",
       "\n",
       "   // JSROOT already loaded, just use it\n",
       "   display_root_plot_1696348556579(JSROOT);\n",
       "\n",
       "} else {\n",
       "\n",
       "    // We are in jupyterlab without require.js, directly loading jsroot\n",
       "    // Jupyterlab might be installed in a different base_url so we need to know it.\n",
       "    try {\n",
       "        var base_url = JSON.parse(document.getElementById('jupyter-config-data').innerHTML).baseUrl;\n",
       "    } catch(_) {\n",
       "        var base_url = '/';\n",
       "    }\n",
       "\n",
       "    // Try loading a local version of requirejs and fallback to cdn if not possible.\n",
       "    script_load_root_plot_1696348556579(base_url + 'static/build/jsroot.js', function(){\n",
       "        console.error('Fail to load JSROOT locally, please check your jupyter_notebook_config.py file');\n",
       "        script_load_root_plot_1696348556579('https://root.cern/js/7.2.1/build/jsroot.js', function(){\n",
       "            document.getElementById(\"root_plot_1696348556579\").innerHTML = \"Failed to load JSROOT\";\n",
       "        });\n",
       "    });\n",
       "}\n",
       "\n",
       "</script>\n"
      ],
      "text/plain": [
       "<IPython.core.display.HTML object>"
      ]
     },
     "metadata": {},
     "output_type": "display_data"
    }
   ],
   "source": [
    "ratio = ROOT.TH1D(\"ratio\",\"ratio\",100,0,10)\n",
    "divider = ROOT.TH1D(\"divider\",\"divider\",100,0,10)\n",
    "\n",
    "c1 = ROOT.TCanvas(\"c1\",\"c1\",720*2,720)\n",
    "c1.Divide(2,1)\n",
    "\n",
    "c1.cd(1)\n",
    "hist_eta.Draw()\n",
    "veto_eta.Draw(\"same\")\n",
    "veto_eta.SetLineColor(2)\n",
    "\n",
    "c1.cd(2)\n",
    "ratio.Add(veto_eta)\n",
    "divider.Add(hist_eta)\n",
    "ratio.Rebin(3)\n",
    "divider.Rebin(3)\n",
    "ratio.Divide(divider)\n",
    "#ratio.Scale(1)\n",
    "ratio.Draw(\"p\")\n",
    "ratio.SetMarkerStyle(21)\n",
    "ratio.SetMarkerColor(6)\n",
    "\n",
    "c1.Draw()\n",
    "c1.SaveAs(\"output/kek.png\")"
   ]
  },
  {
   "cell_type": "code",
   "execution_count": 17,
   "metadata": {},
   "outputs": [],
   "source": [
    "hists=[hist_eta, veto_eta, ratio]\n",
    "output_file = ROOT.TFile.Open(\"output/HeAu_Artem_hists.root\",\"RECREATE\")\n",
    "for hist in hists: hist.Write()\n",
    "output_file.Close()"
   ]
  },
  {
   "cell_type": "code",
   "execution_count": 15,
   "metadata": {
    "scrolled": true,
    "tags": []
   },
   "outputs": [
    {
     "ename": "NameError",
     "evalue": "name 'nThread' is not defined",
     "output_type": "error",
     "traceback": [
      "\u001b[0;31m---------------------------------------------------------------------------\u001b[0m",
      "\u001b[0;31mNameError\u001b[0m                                 Traceback (most recent call last)",
      "\u001b[1;32m/home/yoren/yumvd.Yandex.Disk/Yura/Modeling/AMPT/HeAu_flow_on_vetos.ipynb Cell 23\u001b[0m line \u001b[0;36m4\n\u001b[1;32m      <a href='vscode-notebook-cell:/home/yoren/yumvd.Yandex.Disk/Yura/Modeling/AMPT/HeAu_flow_on_vetos.ipynb#X31sZmlsZQ%3D%3D?line=0'>1</a>\u001b[0m \u001b[39m#second(156,5000)\u001b[39;00m\n\u001b[1;32m      <a href='vscode-notebook-cell:/home/yoren/yumvd.Yandex.Disk/Yura/Modeling/AMPT/HeAu_flow_on_vetos.ipynb#X31sZmlsZQ%3D%3D?line=1'>2</a>\u001b[0m \u001b[39mimport\u001b[39;00m \u001b[39mmultiprocess\u001b[39;00m \u001b[39mas\u001b[39;00m \u001b[39mmp\u001b[39;00m\n\u001b[0;32m----> <a href='vscode-notebook-cell:/home/yoren/yumvd.Yandex.Disk/Yura/Modeling/AMPT/HeAu_flow_on_vetos.ipynb#X31sZmlsZQ%3D%3D?line=3'>4</a>\u001b[0m Ntr \u001b[39m=\u001b[39m nThread\n\u001b[1;32m      <a href='vscode-notebook-cell:/home/yoren/yumvd.Yandex.Disk/Yura/Modeling/AMPT/HeAu_flow_on_vetos.ipynb#X31sZmlsZQ%3D%3D?line=4'>5</a>\u001b[0m Nev \u001b[39m=\u001b[39m nEvents\n\u001b[1;32m      <a href='vscode-notebook-cell:/home/yoren/yumvd.Yandex.Disk/Yura/Modeling/AMPT/HeAu_flow_on_vetos.ipynb#X31sZmlsZQ%3D%3D?line=5'>6</a>\u001b[0m seed0 \u001b[39m=\u001b[39m \u001b[39m15156\u001b[39m\n",
      "\u001b[0;31mNameError\u001b[0m: name 'nThread' is not defined"
     ]
    }
   ],
   "source": [
    "#second(156,5000)\n",
    "import multiprocess as mp\n",
    "\n",
    "Ntr = nThread\n",
    "Nev = nEvents\n",
    "seed0 = 15156\n",
    "seed_iter = 43324\n",
    "\n",
    "pn_ids = [int(2212), int(2112)]\n",
    "\n",
    "projectile_params = [pn_ids[int(1.34*i/(Ntr))] for i in range(Ntr)]\n",
    "target_params = [pn_ids[min(int(4*i/Ntr), 1)] for i in range(Ntr)]\n",
    "print(projectile_params, target_params)\n",
    "\n",
    "pool = mp.Pool(Ntr)\n",
    "hist_array = pool.starmap(pythia8_runner, [(seed0+i*seed_iter, Nev, 2212, 2212) for i in range(Ntr)])\n",
    "#hist_array = pool.starmap(pythia8_runner, [(seed0+i*seed_iter, Nev, 1000020040, 1000791970) for i in range(Ntr)]) #1000020030\n",
    "#hist_array = pool.starmap(pythia8_runner, [(seed0+i*seed_iter, Nev, projectile_params[i], target_params[i]) for i in range(Ntr)])\n",
    "pool.close()"
   ]
  },
  {
   "cell_type": "code",
   "execution_count": null,
   "metadata": {},
   "outputs": [
    {
     "ename": "NameError",
     "evalue": "name 'hist_array' is not defined",
     "output_type": "error",
     "traceback": [
      "\u001b[0;31m---------------------------------------------------------------------------\u001b[0m",
      "\u001b[0;31mNameError\u001b[0m                                 Traceback (most recent call last)",
      "\u001b[1;32m/home/yoren/yumvd.Yandex.Disk/Yura/Modeling/AMPT/HeAu_flow_on_vetos.ipynb Cell 24\u001b[0m line \u001b[0;36m1\n\u001b[0;32m----> <a href='vscode-notebook-cell:/home/yoren/yumvd.Yandex.Disk/Yura/Modeling/AMPT/HeAu_flow_on_vetos.ipynb#X31sZmlsZQ%3D%3D?line=0'>1</a>\u001b[0m hist_Nch \u001b[39m=\u001b[39m hist_array[\u001b[39m0\u001b[39m][\u001b[39m0\u001b[39m]\n\u001b[1;32m      <a href='vscode-notebook-cell:/home/yoren/yumvd.Yandex.Disk/Yura/Modeling/AMPT/HeAu_flow_on_vetos.ipynb#X31sZmlsZQ%3D%3D?line=1'>2</a>\u001b[0m \u001b[39mfor\u001b[39;00m i \u001b[39min\u001b[39;00m \u001b[39mrange\u001b[39m(\u001b[39m1\u001b[39m, Ntr):\n\u001b[1;32m      <a href='vscode-notebook-cell:/home/yoren/yumvd.Yandex.Disk/Yura/Modeling/AMPT/HeAu_flow_on_vetos.ipynb#X31sZmlsZQ%3D%3D?line=2'>3</a>\u001b[0m     hist_Nch\u001b[39m.\u001b[39mAdd(hist_array[i][\u001b[39m0\u001b[39m])\n",
      "\u001b[0;31mNameError\u001b[0m: name 'hist_array' is not defined"
     ]
    }
   ],
   "source": [
    "hist_Nch = hist_array[0][0]\n",
    "for i in range(1, Ntr):\n",
    "    hist_Nch.Add(hist_array[i][0])\n",
    "hist_pt = hist_array[0][1]\n",
    "for i in range(1, Ntr):\n",
    "    hist_pt.Add(hist_array[i][1])\n",
    "hist_imass = hist_array[0][2]\n",
    "for i in range(1, Ntr):\n",
    "    hist_imass.Add(hist_array[i][2])\n",
    "hist_Nch_mid = hist_array[0][3]\n",
    "for i in range(1, Ntr):\n",
    "    hist_Nch_mid.Add(hist_array[i][3])"
   ]
  }
 ],
 "metadata": {
  "kernelspec": {
   "display_name": "Python 3 (ipykernel)",
   "language": "python",
   "name": "python3"
  },
  "language_info": {
   "codemirror_mode": {
    "name": "ipython",
    "version": 3
   },
   "file_extension": ".py",
   "mimetype": "text/x-python",
   "name": "python",
   "nbconvert_exporter": "python",
   "pygments_lexer": "ipython3",
   "version": "3.10.12"
  }
 },
 "nbformat": 4,
 "nbformat_minor": 4
}
