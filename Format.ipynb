{
 "cells": [
  {
   "cell_type": "code",
   "execution_count": 1,
   "id": "99d1c4d6",
   "metadata": {},
   "outputs": [
    {
     "name": "stdout",
     "output_type": "stream",
     "text": [
      "Welcome to JupyROOT 6.26/10\n"
     ]
    }
   ],
   "source": [
    "import ROOT as root\n",
    "from array import array"
   ]
  },
  {
   "cell_type": "code",
   "execution_count": 2,
   "id": "6f9a9147",
   "metadata": {},
   "outputs": [],
   "source": [
    "def Format_Graph( g,  Mstyle,  Msize,  Mcolor,  Lwidth,  Lcolor,  Malpha,  Lalpha):\n",
    "    g.SetMarkerStyle(Mstyle)\n",
    "    g.SetMarkerSize(Msize)\n",
    "    g.SetMarkerColorAlpha(Mcolor,Malpha)\n",
    "    g.SetTitle(\"\")\n",
    "    #if Mcolor == 3: g.SetMarkerColorAlpha(kGreen + 2,Malpha)\n",
    "    #if Mcolor == 5: g.SetMarkerColorAlpha(kOrange + 7,Malpha)\n",
    "    g.SetLineWidth(Lwidth)\n",
    "    g.SetLineColorAlpha(Lcolor,Lalpha)\n",
    "    #if Lcolor == 3: g.SetLineColorAlpha(kGreen + 2,Lalpha)\n",
    "    #if Lcolor == 5: g.SetLineColorAlpha(kOrange + 7,Lalpha)\n"
   ]
  },
  {
   "cell_type": "code",
   "execution_count": 3,
   "id": "ec3641ef",
   "metadata": {},
   "outputs": [],
   "source": [
    "def Format_Graph_Shade( g, x, low, up, Lcolor,  Lalpha):\n",
    "    g.SetTitle(\"\")\n",
    "    N = len(low)\n",
    "    for i in range(N):\n",
    "        if low[i] < up[i]:\n",
    "            low[i] = 0\n",
    "            up[i] = 0\n",
    "            \n",
    "    for i in range(N):\n",
    "            g.SetPoint(i,x[i],low[i]);\n",
    "            g.SetPoint(N + i, x[N-i-1],up[N-i-1]);\n",
    "        \n",
    "    g.SetFillStyle(1001);\n",
    "    g.SetFillColorAlpha(Lcolor, Lalpha);\n",
    "    \n",
    "    #g.SetLineWidth(Lwidth)\n",
    "    #g.SetLineColorAlpha(Lcolor,Lalpha)\n",
    "    #if Lcolor == 3: g.SetFillColorAlpha(kGreen + 2,Lalpha)\n",
    "    #if Lcolor == 5: g.SetFillColorAlpha(kOrange + 7,Lalpha)"
   ]
  },
  {
   "cell_type": "code",
   "execution_count": 4,
   "id": "422c101c",
   "metadata": {},
   "outputs": [],
   "source": [
    "def DrawTypeC( syst,  abc,  width,  Lwidth,  Lcolor,  Lalpha):\n",
    "    \n",
    "    xxx = array( 'd', [abc + 0.0, 1e30])\n",
    "    \n",
    "    yyy = array( 'd', [1, 1e30])\n",
    "    \n",
    "    del_yyy =  array( 'd', [syst + 0.0, 0])\n",
    "    \n",
    "    del_xxx =  array( 'd', [width + 0.0 , 0])\n",
    "    \n",
    "    gr_typeC = root.TGraphErrors(1,xxx,yyy,del_xxx,del_yyy);\n",
    "    gr_typeC.SetMarkerSize(0)\n",
    "    if (Lalpha == 0):\n",
    "        gr_typeC.SetLineWidth(Lwidth)\n",
    "        gr_typeC.SetLineColor(Lcolor)\n",
    "        gr_typeC.SetFillStyle(0)\n",
    "    else:    \n",
    "        gr_typeC.SetLineWidth(0)\n",
    "        gr_typeC.SetFillColorAlpha(Lcolor,Lalpha)\n",
    "    \n",
    "    #gr_typeC.Draw(\"2P\")\n",
    "    \n",
    "    return gr_typeC\n",
    "   "
   ]
  },
  {
   "cell_type": "code",
   "execution_count": 5,
   "id": "c3b1f0a8",
   "metadata": {},
   "outputs": [],
   "source": [
    "def Format_Pad_old( left,  right,  min_boarder,  max_boarder,  title_x,  title_y,  offset_x,  offset_y,  Tsize,  Lsize, title):\n",
    "    second = root.TH1F(\"sec\", \"sec\", 100, left, right)\n",
    "    second.SetMinimum(min_boarder)\n",
    "    second.SetMaximum(max_boarder)\n",
    "    second.SetStats(0)\n",
    "    \n",
    "    xaxis = second.GetXaxis()\n",
    "    yaxis = second.GetYaxis()\n",
    "    \n",
    "    xaxis.SetTitle(title_x)\n",
    "    xaxis.CenterTitle(1)\n",
    "    xaxis.SetTitleFont(42)\n",
    "    xaxis.SetTitleSize(Tsize)\n",
    "    xaxis.SetTitleOffset(offset_x)\n",
    "    \n",
    "    xaxis.SetLabelFont(42)\n",
    "    xaxis.SetLabelSize(Lsize)\n",
    "    xaxis.SetTickSize(0.035)\n",
    "    \n",
    "    \n",
    "    yaxis.SetTitle(title_y)\n",
    "    yaxis.CenterTitle(1)\n",
    "    yaxis.SetTitleFont(42)\n",
    "    yaxis.SetTitleSize(Tsize*1.5)\n",
    "    yaxis.SetTitleOffset(offset_y)\n",
    "    \n",
    "    yaxis.SetLabelFont(42)\n",
    "    yaxis.SetLabelSize(Lsize)\n",
    "    yaxis.SetTickSize(0.035)\n",
    "    \n",
    "    second.SetTitle(title)\n",
    "    second.SetTitleFont(42)\n",
    "    second.SetFillColorAlpha(0,0)\n",
    "\n",
    "    second.Draw()\n",
    "    \n",
    "    return second\n"
   ]
  },
  {
   "cell_type": "code",
   "execution_count": null,
   "id": "be9e4d33",
   "metadata": {},
   "outputs": [],
   "source": [
    "def Unity_Line(left, right):\n",
    "    levelwide = root.TLine()\n",
    "    levelwide.SetLineWidth(1)\n",
    "    levelwide.SetLineColor(1)\n",
    "    levelwide.SetLineStyle(7)\n",
    "    \n",
    "    levelwide.DrawLine(left, 1, right, 1)"
   ]
  },
  {
   "cell_type": "code",
   "execution_count": 6,
   "id": "48aaf35e",
   "metadata": {},
   "outputs": [],
   "source": [
    "def Format_Func( f,  LineWidth, LineColor,  LineStyle=1,  Lalpha=1):\n",
    "    f.SetLineColorAlpha(LineColor,Lalpha)\n",
    "    f.SetLineWidth(LineWidth)\n",
    "    f.SetLineStyle(LineStyle)"
   ]
  }
 ],
 "metadata": {
  "kernelspec": {
   "display_name": "Python 3 (ipykernel)",
   "language": "python",
   "name": "python3"
  },
  "language_info": {
   "codemirror_mode": {
    "name": "ipython",
    "version": 3
   },
   "file_extension": ".py",
   "mimetype": "text/x-python",
   "name": "python",
   "nbconvert_exporter": "python",
   "pygments_lexer": "ipython3",
   "version": "3.8.10"
  }
 },
 "nbformat": 4,
 "nbformat_minor": 5
}
