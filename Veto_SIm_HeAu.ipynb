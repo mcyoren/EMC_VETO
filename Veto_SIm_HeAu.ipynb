{
 "cells": [
  {
   "cell_type": "markdown",
   "metadata": {},
   "source": [
    "import ipotrant libraries"
   ]
  },
  {
   "cell_type": "code",
   "execution_count": 1,
   "metadata": {},
   "outputs": [
    {
     "name": "stdout",
     "output_type": "stream",
     "text": [
      "Welcome to JupyROOT 6.29/01\n"
     ]
    }
   ],
   "source": [
    "import ROOT\n",
    "import math\n",
    "from array import array\n",
    "import numpy as np\n",
    "#from ROOT import gROOT, AddressOf\n",
    "import multiprocess as mp\n",
    "%jsroot on"
   ]
  },
  {
   "cell_type": "markdown",
   "metadata": {},
   "source": [
    "Set common variables"
   ]
  },
  {
   "cell_type": "code",
   "execution_count": 2,
   "metadata": {
    "ExecuteTime": {
     "end_time": "2023-06-06T13:48:15.019958422Z",
     "start_time": "2023-06-06T13:48:15.016818782Z"
    }
   },
   "outputs": [],
   "source": [
    "files_path = \"/home/yoren/bnl/PHENIX/Trees/\"\n",
    "file_names = [\"Tree_orig\",\"Tree_0\",\"Tree_1\",\"Tree_2\",\"Tree_3\",\"Trees_6M\",\"Trees_6M\",\"Trees_6M\",\"Trees_6M\"]\n",
    "treenames = [\"AnalysisTree\",\"AnalysisTreeEmbed\",\"AnalysisTreeEmbed\",\"AnalysisTreeEmbed\",\"AnalysisTreeEmbed\",\"AnalysisTree\",\"AnalysisTree\",\"AnalysisTree\",\"AnalysisTree\"]\n",
    "outnames = [\"HeAu_sim_hists_orig\",\"HeAu_sim_hists_embed_0\",\"HeAu_sim_hists_embed_1\",\"HeAu_sim_hists_embed_2\",\"HeAu_sim_hists_embed_3\"\\\n",
    "            ,\"HeAu_sim_hists_6M_0\",\"HeAu_sim_hists_6M_1\",\"HeAu_sim_hists_6M_2\",\"HeAu_sim_hists_6M_3\"]\n",
    "E_def_core_cut = 0.500\n",
    "Chi2_def_cut = 3\n",
    "alpha_def_cut = 0.6\n",
    "distance_def_cut = 8\n",
    "\n",
    "Option = 8"
   ]
  },
  {
   "cell_type": "code",
   "execution_count": 3,
   "metadata": {},
   "outputs": [],
   "source": [
    "class photon:\n",
    "  def __init__(self, i, E, x, y, z, vertex, arm, sec, chi2, id):\n",
    "    self.i = i\n",
    "    self.E = E\n",
    "    self.x = x\n",
    "    self.y = y\n",
    "    self.z = z\n",
    "    self.vertex = vertex\n",
    "    self.arm = arm\n",
    "    self.sec = sec\n",
    "    self.chi2 = chi2\n",
    "    self.id = id\n",
    "    self.r = (self.x**2+self.y**2+(self.z-self.vertex)**2)**0.5+0.001\n",
    "    self.px = self.E * self.x / self.r\n",
    "    self.py = self.E * self.y / self.r\n",
    "    self.pz = self.E * (self.z-self.vertex) / self.r\n",
    "    self.pt = (self.px**2+self.py**2)**0.5\n",
    "\n",
    "  def __str__(self):\n",
    "    return f\"i={self.i}, px={round(self.px,1)}, py={round(self.py,1)}, pz={round(self.pz,1)}, \\\n",
    "    pt={round(self.pt,1)}, E={round(self.E,1)}, x={round(self.x,1)}, y={round(self.y,1)}, z={round(self.z,1)}, \\\n",
    "      arm={self.arm}, sec={self.sec}, chi2={round(self.chi2,1)}, id={self.id}\""
   ]
  },
  {
   "cell_type": "code",
   "execution_count": 4,
   "metadata": {},
   "outputs": [],
   "source": [
    "class hadron:\n",
    "  def __init__(self, i, x, y, z, id):\n",
    "    self.i = i\n",
    "    self.x = x\n",
    "    self.y = y\n",
    "    self.z = z\n",
    "    self.id = id\n",
    "\n",
    "  def __str__(self):\n",
    "    return f\"i={self.i}, x={self.x}, y={self.y}, z={self.z}, id={self.id}\""
   ]
  },
  {
   "cell_type": "markdown",
   "metadata": {},
   "source": [
    "Define structures"
   ]
  },
  {
   "cell_type": "code",
   "execution_count": 5,
   "metadata": {},
   "outputs": [],
   "source": [
    "def is_photon_good(photon):\n",
    "    if photon.E > E_def_core_cut and photon.chi2 < Chi2_def_cut: return True\n",
    "    return False"
   ]
  },
  {
   "cell_type": "code",
   "execution_count": 6,
   "metadata": {},
   "outputs": [],
   "source": [
    "def is_hadron_good(hadron):\n",
    "    if hadron.x<-900 or hadron.y<-900 or hadron.z<-900: return False\n",
    "    return True"
   ]
  },
  {
   "cell_type": "code",
   "execution_count": 7,
   "metadata": {},
   "outputs": [],
   "source": [
    "def alpha(photon1, photon2):\n",
    "    alpha = abs(photon1.E-photon2.E)/(photon1.E+photon2.E)\n",
    "    return alpha"
   ]
  },
  {
   "cell_type": "code",
   "execution_count": 8,
   "metadata": {},
   "outputs": [],
   "source": [
    "def Distance(photon1, photon2):\n",
    "    Distance = ((photon1.x-photon2.x)**2+(photon1.y-photon2.y)**2+(photon1.z-photon2.z)**2)**0.5\n",
    "    return Distance"
   ]
  },
  {
   "cell_type": "code",
   "execution_count": 9,
   "metadata": {},
   "outputs": [],
   "source": [
    "def is_pair_good(photon1, photon2):\n",
    "    if photon1.arm == photon2.arm and abs(photon1.sec-photon2.sec) < 2: \n",
    "        if alpha(photon1, photon2) < alpha_def_cut and Distance(photon1, photon2) > distance_def_cut: return True\n",
    "    return False"
   ]
  },
  {
   "cell_type": "code",
   "execution_count": 10,
   "metadata": {},
   "outputs": [],
   "source": [
    "def inv_mass(photon1, photon2):\n",
    "    e1, px1, py1, pz1 = photon1.E, photon1.px, photon1.py, photon1.pz\n",
    "    e2, px2, py2, pz2 = photon2.E, photon2.px, photon2.py, photon2.pz\n",
    "    m2 = (e1+e2)**2 - (px1+px2)**2 - (py1+py2)**2 - (pz1+pz2)**2\n",
    "    if m2<0: return 0\n",
    "    return math.sqrt(m2)"
   ]
  },
  {
   "cell_type": "code",
   "execution_count": 11,
   "metadata": {},
   "outputs": [],
   "source": [
    "dphi_mean_fits_name, dphi_sigma_fits_name = \"fit_mean_functions_emc_min_r_dphi_0-88%\", \"fit_functions_sigma_emc_min_r_dphi_0-88%\"\n",
    "dzed_mean_fits_name, dzed_sigma_fits_name = \"fit_mean_functions_emc_min_r_dz_0-88%\", \"fit_functions_sigma_emc_min_r_dz_0-88%\"\n",
    "inFileFuncs = ROOT.TFile.Open(\"input/HeAu_emcid.root\",\"read\")\n",
    "dphi_mean_fits, dphi_sigma_fits = inFileFuncs.Get(dphi_mean_fits_name), inFileFuncs.Get(dphi_sigma_fits_name)\n",
    "dzed_mean_fits, dzed_sigma_fits = inFileFuncs.Get(dzed_mean_fits_name), inFileFuncs.Get(dzed_sigma_fits_name)"
   ]
  },
  {
   "cell_type": "code",
   "execution_count": 12,
   "metadata": {},
   "outputs": [],
   "source": [
    "class real_event:\n",
    "  \n",
    "  def __init__(self,N_hadrons):\n",
    "    self.N_hadrons = N_hadrons\n",
    "    self.hadron = []\n",
    "  \n",
    "  def __str__(self):\n",
    "    return f\"N_hadrons = {self.N_hadrons}\"\n",
    "  \n",
    "  def add_hadron(self, hadron):\n",
    "    self.hadron.append(hadron)\n",
    "  \n",
    "  def set_N_good_hadrons(self):\n",
    "    self.N_hadrons = len(self.hadron)"
   ]
  },
  {
   "cell_type": "code",
   "execution_count": 13,
   "metadata": {},
   "outputs": [],
   "source": [
    "def get_real_events(ii):\n",
    "    inFileCharged = ROOT.TFile.Open(\"input/tracks_new.root\",\"read\")\n",
    "    tree_real_event = inFileCharged.Get(f\"TracksTree{(ii-4)%5}\")\n",
    "    N_real_ev = tree_real_event.GetEntries()\n",
    "    my_real_events=[]\n",
    "\n",
    "    #def get_real_event(tree_real_event, ievent):\n",
    "    my_real_events=[]\n",
    "    for ev in tree_real_event:\n",
    "        N_ch = len(ev.trk_emc_x)\n",
    "        my_real_event = real_event(N_ch)\n",
    "        for ihadron in range(N_ch):\n",
    "            my_real_hadron = hadron(0,ev.trk_emc_x[ihadron],ev.trk_emc_y[ihadron],ev.trk_emc_z[ihadron],ev.trk_emc_id[ihadron])\n",
    "            if is_hadron_good(my_real_hadron):\n",
    "                my_real_event.add_hadron(my_real_hadron)\n",
    "        my_real_event.set_N_good_hadrons()\n",
    "        my_real_events.append(my_real_event)\n",
    "\n",
    "    return my_real_events, N_real_ev"
   ]
  },
  {
   "cell_type": "code",
   "execution_count": 14,
   "metadata": {},
   "outputs": [],
   "source": [
    "def is_charged_vetoed(photon, event):\n",
    "    r_min = 10\n",
    "    for hadron in event.hadron:\n",
    "        dphi = math.atan2(photon.y, photon.x) - math.atan2(hadron.y, hadron.x)\n",
    "        dzed = photon.z - hadron.z\n",
    "        pt = photon.pt\n",
    "        if pt<0.5: pt = 0.5\n",
    "        if pt>15: pt =15\n",
    "        sdphi = (dphi - dphi_mean_fits.Eval(pt))/dphi_sigma_fits.Eval(pt)\n",
    "        sdzed = (dzed - dzed_mean_fits.Eval(pt))/dzed_sigma_fits.Eval(pt)\n",
    "        r = (sdphi**2+sdzed**2)**0.5\n",
    "        if r < r_min: r_min = r\n",
    "    if r_min < 3: return True\n",
    "    return False"
   ]
  },
  {
   "cell_type": "code",
   "execution_count": 15,
   "metadata": {},
   "outputs": [],
   "source": [
    "def is_charged_vetoed_sigma(photon, event):\n",
    "\n",
    "    for hadron in event.hadron:\n",
    "        dphi = math.atan2(photon.y, photon.x) - math.atan2(hadron.y, hadron.x)\n",
    "        dzed = photon.z - hadron.z\n",
    "        sdphi = (dphi - dphi_mean_fits.Eval(photon.pt))/dphi_sigma_fits.Eval(photon.pt)\n",
    "        sdzed = (dzed - dzed_mean_fits.Eval(photon.pt))/dzed_sigma_fits.Eval(photon.pt)\n",
    "    \n",
    "        if abs(sdphi) < 2 or abs(sdzed) < 2 : return True\n",
    "    return False"
   ]
  },
  {
   "cell_type": "code",
   "execution_count": 16,
   "metadata": {},
   "outputs": [],
   "source": [
    "class event:\n",
    "  \n",
    "  def __init__(self, i, N_photons, N_hadrons, vertex):\n",
    "    self.i = i\n",
    "    self.N_photons = N_photons\n",
    "    self.N_hadrons = N_hadrons\n",
    "    self.vertex = vertex\n",
    "    self.N_good_photons = self.N_photons\n",
    "    self.N_good_hadrons = self.N_hadrons\n",
    "    self.photon = []\n",
    "    self.hadron = []\n",
    "    self.m_inv = []  \n",
    "  \n",
    "  def __str__(self):\n",
    "    return f\"i = {self.i}, vertex = {round(self.vertex)}, N_photons = {self.N_photons}, N_hadrons = {self.N_hadrons}, N_good_photons = {self.N_good_photons}, N_good_hadrons = {self.N_good_hadrons}\"\n",
    "  \n",
    "  def add_hadron(self, hadron):\n",
    "    self.hadron.append(hadron)\n",
    "\n",
    "  def add_photon(self, photon):\n",
    "    self.photon.append(photon)\n",
    "  \n",
    "  def set_N_good_photons(self):\n",
    "    self.N_good_photons = len(self.photon)\n",
    "  \n",
    "  def set_N_good_hadrons(self):\n",
    "    self.N_good_hadrons = len(self.hadron)\n",
    "  \n",
    "  def get_inv_masses(self):\n",
    "    for iphoton1 in range(min(self.N_good_photons,200)):\n",
    "      for iphoton2 in range(iphoton1+1,min(self.N_good_photons,200)):\n",
    "        photon1 = self.photon[iphoton1]\n",
    "        photon2 = self.photon[iphoton2]\n",
    "        if is_pair_good(photon1,photon2):\n",
    "          self.m_inv.append([inv_mass(photon1,photon2), photon1.pt + photon2.pt, self.vertex])\n",
    "    return self.m_inv"
   ]
  },
  {
   "cell_type": "markdown",
   "metadata": {},
   "source": [
    "Create TTree creator"
   ]
  },
  {
   "cell_type": "code",
   "execution_count": 17,
   "metadata": {},
   "outputs": [],
   "source": [
    "class pool:\n",
    "  \n",
    "  def __init__(self, depth, VTX):\n",
    "    self.depth = depth\n",
    "    self.VTX = VTX\n",
    "    self.N_events = [0]*(len(self.VTX)-1)\n",
    "    self.photons_in_event = [ [] for _ in range(len(self.VTX)-1)]\n",
    "    self.m_inv = []  \n",
    "  \n",
    "  def __str__(self):\n",
    "    return f\"depth = {self.depth}\"\n",
    "  \n",
    "\n",
    "  def add_photons(self, event):\n",
    "    for i in range(len(self.N_events)):\n",
    "      if(event.vertex> self.VTX[i], event.vertex < self.VTX[i+1]): \n",
    "        self.N_events[i]+=1\n",
    "        self.photons_in_event[i].append(event.photon)\n",
    "\n",
    "  \n",
    "  def get_inv_masses(self):\n",
    "    is_filled = False\n",
    "    for iev in range(len(self.N_events)):\n",
    "      if self.N_events[iev]>=self.depth:\n",
    "        self.m_inv = []\n",
    "        is_filled = True\n",
    "        for iphoton1 in range(len(self.photons_in_event[iev][0])):\n",
    "          for second_event in range(1,self.depth):\n",
    "            for iphoton2 in range(len(self.photons_in_event[iev][second_event])):\n",
    "              photon1 = self.photons_in_event[iev][0][iphoton1]\n",
    "              photon2 = self.photons_in_event[iev][second_event][iphoton2]\n",
    "              if is_pair_good(photon1,photon2):\n",
    "                self.m_inv.append([inv_mass(photon1,photon2), photon1.pt + photon2.pt, 0.5*(photon1.vertex + photon2.vertex)])\n",
    "        self.N_events[iev] = self.depth-1\n",
    "        self.photons_in_event[iev].pop(0)\n",
    "    if is_filled: return self.m_inv\n",
    "    else: return []\n"
   ]
  },
  {
   "cell_type": "markdown",
   "metadata": {},
   "source": [
    "Create file reader"
   ]
  },
  {
   "cell_type": "code",
   "execution_count": 18,
   "metadata": {},
   "outputs": [],
   "source": [
    "def hist_creator(nameFG = \"hist_inv_mass_FG\", nameBG = \"hist_inv_mass_BG\", nameP = \"hist_pt_orig\"):\n",
    "    hist_inv_mass_FG = ROOT.TH3D(nameFG,nameFG,1000,0,1,40,0,20,60,-30,30)\n",
    "    hist_inv_mass_FG.SetDirectory(ROOT.nullptr)\n",
    "    hist_inv_mass_BG = ROOT.TH3D(nameBG,nameBG,1000,0,1,40,0,20,60,-30,30)\n",
    "    hist_inv_mass_BG.SetDirectory(ROOT.nullptr)\n",
    "    hist_pt_orig = ROOT.TH2D(nameP,nameP,40,0,20,60,-30,30)\n",
    "    hist_pt_orig.SetDirectory(ROOT.nullptr)\n",
    "\n",
    "    return [hist_inv_mass_FG, hist_inv_mass_BG, hist_pt_orig]"
   ]
  },
  {
   "cell_type": "code",
   "execution_count": 19,
   "metadata": {},
   "outputs": [],
   "source": [
    "def main_func(ii, Ntr, jj):\n",
    "\n",
    "    [hist_inv_mass_FG, hist_inv_mass_BG, hist_pt_orig] = hist_creator(f\"hist_inv_mass_FG{ii}\", f\"hist_inv_mass_BG{ii}\", f\"hist_pt_orig{ii}\")\n",
    "    if ii>4: my_real_events, N_real_ev = get_real_events(ii)\n",
    "    inFile = ROOT.TFile.Open(files_path+file_names[ii]+'.root',\"read\")\n",
    "    tree_read_event = inFile.Get(treenames[ii])\n",
    "    Nev = tree_read_event.GetEntries()\n",
    "    Low, High = int(Nev/Ntr*jj), int(Nev/Ntr*(jj+1))\n",
    "    print(Nev)\n",
    "    \n",
    "    my_pool = pool(3,[-30,-8,8, 30])\n",
    "    for ievent in range(Low,High):\n",
    "        tree_read_event.GetEntry(ievent)\n",
    "        ev = tree_read_event\n",
    "        my_event  = event(ievent, ev.n_gammas, ev.n_charged, ev.bbc_vertex)    \n",
    "        hist_pt_orig.Fill((ev.p_orig[0]**2+ev.p_orig[1]**2)**0.5,ev.bbc_vertex)\n",
    "        \n",
    "        for ihadron in range(ev.n_charged):\n",
    "            my_hadron = hadron(ihadron,ev.trk_emcxs[ihadron],ev.trk_emcys[ihadron],ev.trk_emczs[ihadron],ev.trk_ids[ihadron])\n",
    "            if is_hadron_good(my_hadron):\n",
    "                my_event.add_hadron(my_hadron)\n",
    "        my_event.set_N_good_hadrons()\n",
    "        \n",
    "        for iphoton in range(my_event.N_photons):\n",
    "            my_photon = photon(iphoton, ev.g_es[iphoton], ev.g_xs[iphoton], ev.g_ys[iphoton], ev.g_zs[iphoton], ev.bbc_vertex, ev.g_arms[iphoton], ev.g_secs[iphoton], ev.g_chi2s[iphoton], ev.g_ids[iphoton])\n",
    "            #my_real_event = get_real_event(tree_real_event,ievent%N_real_ev)\n",
    "            if is_photon_good(my_photon):\n",
    "                if ii<5 or (not is_charged_vetoed(my_photon, my_event) and not is_charged_vetoed(my_photon, my_real_events[ievent%N_real_ev])):\n",
    "                    my_event.add_photon(my_photon)\n",
    "        my_event.set_N_good_photons()\n",
    "        if my_event.N_good_photons>0: my_pool.add_photons(my_event)\n",
    "        \n",
    "        my_inv_masses = my_event.get_inv_masses()\n",
    "        my_inv_masses_bg = my_pool.get_inv_masses()\n",
    "        for my_inv_mass in my_inv_masses:\n",
    "            hist_inv_mass_FG.Fill(my_inv_mass[0],my_inv_mass[1],my_inv_mass[2])\n",
    "        for my_inv_mass_bg in my_inv_masses_bg:\n",
    "            hist_inv_mass_BG.Fill(my_inv_mass_bg[0],my_inv_mass_bg[1],my_inv_mass_bg[2])\n",
    "\n",
    "    inFile.Close()\n",
    "    print(\"all good\", Low, High)\n",
    "\n",
    "    return [hist_inv_mass_FG, hist_inv_mass_BG, hist_pt_orig, High-Low]"
   ]
  },
  {
   "cell_type": "code",
   "execution_count": 20,
   "metadata": {},
   "outputs": [
    {
     "name": "stdout",
     "output_type": "stream",
     "text": [
      "[(8, 4, 0), (8, 4, 1), (8, 4, 2), (8, 4, 3)]\n",
      "5990000\n",
      "5990000\n",
      "5990000\n",
      "5990000\n",
      "all good 4492500 5990000\n",
      "all good 2995000 4492500\n",
      "all good 1497500 2995000\n",
      "all good 0 1497500\n"
     ]
    }
   ],
   "source": [
    "Ntr = 4\n",
    "params = [(Option, Ntr, i) for i in range(Ntr)]\n",
    "print(params)\n",
    "pool = mp.Pool(Ntr)\n",
    "output_array = pool.starmap(main_func, params)\n",
    "pool.close()"
   ]
  },
  {
   "cell_type": "code",
   "execution_count": 21,
   "metadata": {},
   "outputs": [],
   "source": [
    "[hist_inv_mass_FG, hist_inv_mass_BG, hist_pt_orig, Nev] = [output_array[0][0], output_array[0][1], output_array[0][2], output_array[0][3]]\n",
    "for i in range(1, len(output_array)):\n",
    "    hist_inv_mass_FG.Add(output_array[i][0])\n",
    "    hist_inv_mass_BG.Add(output_array[i][1])\n",
    "    hist_pt_orig.Add(output_array[i][2])\n",
    "    Nev+=output_array[i][3]"
   ]
  },
  {
   "cell_type": "code",
   "execution_count": 22,
   "metadata": {},
   "outputs": [],
   "source": [
    "FileOut = ROOT.TFile(\"input/\"+outnames[Option]+\".root\",\"recreate\")\n",
    "hist_inv_mass_FG.Write()\n",
    "hist_inv_mass_BG.Write()\n",
    "hist_pt_orig.Write()\n",
    "FileOut.Close()"
   ]
  },
  {
   "cell_type": "code",
   "execution_count": 23,
   "metadata": {},
   "outputs": [
    {
     "name": "stdout",
     "output_type": "stream",
     "text": [
      "105.65618192030708 5990000\n"
     ]
    },
    {
     "name": "stderr",
     "output_type": "stream",
     "text": [
      "Info in <TCanvas::Print>: png file output/kek.png has been created\n"
     ]
    },
    {
     "data": {
      "text/html": [
       "\n",
       "\n",
       "<div id=\"root_plot_1699487271008\"\n",
       "     style=\"width: 716px; height: 692px\">\n",
       "</div>\n",
       "<script>\n",
       "\n",
       "function display_root_plot_1699487271008(Core) {\n",
       "   let obj = Core.parse({\"_typename\":\"TCanvas\",\"fUniqueID\":0,\"fBits\":3342344,\"fLineColor\":1,\"fLineStyle\":1,\"fLineWidth\":1,\"fFillColor\":0,\"fFillStyle\":1001,\"fLeftMargin\":0.1,\"fRightMargin\":0.1,\"fBottomMargin\":0.1,\"fTopMargin\":0.1,\"fXfile\":2,\"fYfile\":2,\"fAfile\":1,\"fXstat\":0.99,\"fYstat\":0.99,\"fAstat\":2,\"fFrameFillColor\":0,\"fFrameLineColor\":1,\"fFrameFillStyle\":1001,\"fFrameLineStyle\":1,\"fFrameLineWidth\":1,\"fFrameBorderSize\":1,\"fFrameBorderMode\":0,\"fX1\":-0.125000009313226,\"fY1\":-3323.51274762099,\"fX2\":1.12500000931323,\"fY2\":29911.612747621,\"fXtoAbsPixelk\":71.6000542676928,\"fXtoPixelk\":71.6000542676928,\"fXtoPixel\":572.799991464615,\"fYtoAbsPixelk\":622.800045875358,\"fYtoPixelk\":622.800045875358,\"fYtoPixel\":-0.0208213445771122,\"fUtoAbsPixelk\":5e-5,\"fUtoPixelk\":5e-5,\"fUtoPixel\":716,\"fVtoAbsPixelk\":692.00005,\"fVtoPixelk\":692,\"fVtoPixel\":-692,\"fAbsPixeltoXk\":-0.125000009313226,\"fPixeltoXk\":-0.125000009313226,\"fPixeltoX\":0.00174581008188052,\"fAbsPixeltoYk\":29911.612747621,\"fPixeltoYk\":-3323.51274762099,\"fPixeltoY\":-48.0276379989046,\"fXlowNDC\":0,\"fYlowNDC\":0,\"fXUpNDC\":1,\"fYUpNDC\":1,\"fWNDC\":1,\"fHNDC\":1,\"fAbsXlowNDC\":0,\"fAbsYlowNDC\":0,\"fAbsWNDC\":1,\"fAbsHNDC\":1,\"fUxmin\":0,\"fUymin\":0,\"fUxmax\":1,\"fUymax\":26588.1,\"fTheta\":30,\"fPhi\":30,\"fAspectRatio\":0,\"fNumber\":0,\"fTickx\":0,\"fTicky\":0,\"fLogx\":0,\"fLogy\":0,\"fLogz\":0,\"fPadPaint\":0,\"fCrosshair\":0,\"fCrosshairPos\":0,\"fBorderSize\":2,\"fBorderMode\":0,\"fModified\":false,\"fGridx\":false,\"fGridy\":false,\"fAbsCoord\":false,\"fEditable\":true,\"fFixedAspectRatio\":false,\"fPrimitives\":{\"_typename\":\"TList\",\"name\":\"TList\",\"arr\":[{\"_typename\":\"TFrame\",\"fUniqueID\":0,\"fBits\":8,\"fLineColor\":1,\"fLineStyle\":1,\"fLineWidth\":1,\"fFillColor\":0,\"fFillStyle\":1001,\"fX1\":0,\"fY1\":0,\"fX2\":1,\"fY2\":26588.1,\"fBorderSize\":1,\"fBorderMode\":0},{\"_typename\":\"TH1D\",\"fUniqueID\":0,\"fBits\":8,\"fName\":\"proj\",\"fTitle\":\"hist_inv_mass_FG8 ( Projection X )\",\"fLineColor\":602,\"fLineStyle\":1,\"fLineWidth\":1,\"fFillColor\":0,\"fFillStyle\":1001,\"fMarkerColor\":1,\"fMarkerStyle\":1,\"fMarkerSize\":1,\"fNcells\":1002,\"fXaxis\":{\"_typename\":\"TAxis\",\"fUniqueID\":0,\"fBits\":0,\"fName\":\"xaxis\",\"fTitle\":\"\",\"fNdivisions\":510,\"fAxisColor\":1,\"fLabelColor\":1,\"fLabelFont\":42,\"fLabelOffset\":0.005,\"fLabelSize\":0.035,\"fTickLength\":0.03,\"fTitleOffset\":1,\"fTitleSize\":0.035,\"fTitleColor\":1,\"fTitleFont\":42,\"fNbins\":1000,\"fXmin\":0,\"fXmax\":1,\"fXbins\":[],\"fFirst\":0,\"fLast\":0,\"fBits2\":0,\"fTimeDisplay\":false,\"fTimeFormat\":\"\",\"fLabels\":null,\"fModLabs\":null},\"fYaxis\":{\"_typename\":\"TAxis\",\"fUniqueID\":0,\"fBits\":0,\"fName\":\"yaxis\",\"fTitle\":\"\",\"fNdivisions\":510,\"fAxisColor\":1,\"fLabelColor\":1,\"fLabelFont\":42,\"fLabelOffset\":0.005,\"fLabelSize\":0.035,\"fTickLength\":0.03,\"fTitleOffset\":0,\"fTitleSize\":0.035,\"fTitleColor\":1,\"fTitleFont\":42,\"fNbins\":1,\"fXmin\":0,\"fXmax\":1,\"fXbins\":[],\"fFirst\":0,\"fLast\":0,\"fBits2\":0,\"fTimeDisplay\":false,\"fTimeFormat\":\"\",\"fLabels\":null,\"fModLabs\":null},\"fZaxis\":{\"_typename\":\"TAxis\",\"fUniqueID\":0,\"fBits\":0,\"fName\":\"zaxis\",\"fTitle\":\"\",\"fNdivisions\":510,\"fAxisColor\":1,\"fLabelColor\":1,\"fLabelFont\":42,\"fLabelOffset\":0.005,\"fLabelSize\":0.035,\"fTickLength\":0.03,\"fTitleOffset\":1,\"fTitleSize\":0.035,\"fTitleColor\":1,\"fTitleFont\":42,\"fNbins\":1,\"fXmin\":0,\"fXmax\":1,\"fXbins\":[],\"fFirst\":0,\"fLast\":0,\"fBits2\":0,\"fTimeDisplay\":false,\"fTimeFormat\":\"\",\"fLabels\":null,\"fModLabs\":null},\"fBarOffset\":0,\"fBarWidth\":1000,\"fEntries\":738719,\"fTsumw\":738717,\"fTsumw2\":738717,\"fTsumwx\":110483.6845,\"fTsumwx2\":19840.87044725,\"fMaximum\":-1111,\"fMinimum\":-1111,\"fNormFactor\":0,\"fContour\":[],\"fSumw2\":[],\"fOption\":\"\",\"fFunctions\":{\"_typename\":\"TList\",\"name\":\"TList\",\"arr\":[{\"_typename\":\"TPaveStats\",\"fUniqueID\":0,\"fBits\":9,\"fLineColor\":1,\"fLineStyle\":1,\"fLineWidth\":1,\"fFillColor\":0,\"fFillStyle\":1001,\"fX1\":0.850000025331974,\"fY1\":22433.7097092883,\"fX2\":1.10000003278256,\"fY2\":27751.329669669,\"fX1NDC\":0.780000016093254,\"fY1NDC\":0.775000005960464,\"fX2NDC\":0.980000019073486,\"fY2NDC\":0.935000002384186,\"fBorderSize\":1,\"fInit\":1,\"fShadowColor\":1,\"fCornerRadius\":0,\"fOption\":\"brNDC\",\"fName\":\"stats\",\"fTextAngle\":0,\"fTextSize\":0,\"fTextAlign\":12,\"fTextColor\":1,\"fTextFont\":42,\"fLabel\":\"\",\"fLongest\":19,\"fMargin\":0.05,\"fLines\":{\"_typename\":\"TList\",\"name\":\"TList\",\"arr\":[{\"_typename\":\"TLatex\",\"fUniqueID\":0,\"fBits\":0,\"fName\":\"\",\"fTitle\":\"proj\",\"fTextAngle\":0,\"fTextSize\":0.0368,\"fTextAlign\":0,\"fTextColor\":0,\"fTextFont\":0,\"fX\":0,\"fY\":0,\"fLineColor\":1,\"fLineStyle\":1,\"fLineWidth\":2,\"fLimitFactorSize\":3,\"fOriginSize\":0.0367999991774559},{\"_typename\":\"TLatex\",\"fUniqueID\":0,\"fBits\":0,\"fName\":\"\",\"fTitle\":\"Entries = 738719 \",\"fTextAngle\":0,\"fTextSize\":0,\"fTextAlign\":0,\"fTextColor\":0,\"fTextFont\":0,\"fX\":0,\"fY\":0,\"fLineColor\":1,\"fLineStyle\":1,\"fLineWidth\":2,\"fLimitFactorSize\":3,\"fOriginSize\":0.0236550234258175},{\"_typename\":\"TLatex\",\"fUniqueID\":0,\"fBits\":0,\"fName\":\"\",\"fTitle\":\"Mean  = 0.1496\",\"fTextAngle\":0,\"fTextSize\":0,\"fTextAlign\":0,\"fTextColor\":0,\"fTextFont\":0,\"fX\":0,\"fY\":0,\"fLineColor\":1,\"fLineStyle\":1,\"fLineWidth\":2,\"fLimitFactorSize\":3,\"fOriginSize\":0.0236550234258175},{\"_typename\":\"TLatex\",\"fUniqueID\":0,\"fBits\":0,\"fName\":\"\",\"fTitle\":\"Std Dev   = 0.06701\",\"fTextAngle\":0,\"fTextSize\":0,\"fTextAlign\":0,\"fTextColor\":0,\"fTextFont\":0,\"fX\":0,\"fY\":0,\"fLineColor\":1,\"fLineStyle\":1,\"fLineWidth\":2,\"fLimitFactorSize\":3,\"fOriginSize\":0.0236550234258175}],\"opt\":[\"\",\"\",\"\",\"\"]},\"fOptFit\":0,\"fOptStat\":1111,\"fFitFormat\":\"5.4g\",\"fStatFormat\":\"6.4g\",\"fParent\":{\"$ref\":3}}],\"opt\":[\"brNDC\"]},\"fBufferSize\":0,\"fBuffer\":[],\"fBinStatErrOpt\":0,\"fStatOverflows\":2,\"fArray\":{\"$arr\":\"Float64\",\"len\":1002,\"p\":8,\"v\":[1,7,25,27,46,76,102,102,107,134,131,146,137,150,187,205,193,221,230,238,247,293,314,341,340,348,389,421,406,462,447,491,489,503,494,510,549,536,551,558,539,620,614,605,675,621,646,608,612,611,609,634,648,704,661,690,646,687,684,643,715,712,717,726,686,725,694,753,705,710,732,742,705,729,754,720,756,744,699,759,784,734,740,823,806,777,841,767,818,835,878,914,887,971,967,965,1013,1002,1079,1079,1124,1161,1287,1331,1417,1498,1646,1819,1989,2273,2534,2914,3236,3787,4380,5249,6103,7225,8507,9815,11539,13313,14723,16598,18681,20033,21776,23128,23973,24516,25322,24959,24840,24555,23374,22829,21591,20251,18811,17588,16029,14775,13545,11939,10827,9627,8394,7379,6654,5793,5046,4268,3903,3452,2880,2450,2302,1883,1695,1453,1368,1159,1080,958,840,836,708,629,587,540,504,499,455,418,388,370,386,370,369,317,301,308,293,268,272,269,258,249,229,260,239,209,237,236,222,218,237,190,201,194,235,218,230,232,209,213,194,214,204,214,189,211,203,236,231,205,183,215,180,215,200,217,237,226,197,218,208,213,203,206,222,198,217,198,194,194,227,187,207,191,229,183,212,179,193,203,200,209,193,190,206,198,179,185,226,187,182,205,195,200,185,179,187,203,159,172,200,197,184,180,203,168,197,184,187,187,175,188,173,157,168,173,175,209,163,186,184,164,183,186,192,180,171,185,201,190,170,190,162,181,179,160,158,169,152,135,153,188,181,153,170,158,152,175,151,152,142,165,160,132,141,160,163,164,153,132,164,166,158,160,153,164,135,151,136,157,139,138,146,136,165,151,145,146,120,152,142,140,142,140,141,141,123,140,122,152,126,125,125,119,123,114,135,120,117,130,116,111,129,117,114,131,128,96,125,120,132,112,125,115,111,105,94,123,103,99,91,118,114,96,116,103,103,100,97,98,98,90,98,108,116,121,90,78,91,72,92,109,98,106,96,92,83,95,116,94,106,94,85,116,88,80,80,73,84,107,100,88,89,79,99,119,106,87,94,101,102,102,100,90,98,106,89,101,83,88,110,88,98,112,78,104,98,102,101,108,98,96,114,107,91,109,101,120,92,103,104,107,91,96,109,115,110,91,110,112,118,95,103,89,98,103,103,110,101,99,89,91,91,97,90,93,88,80,86,87,77,104,87,87,102,102,100,93,82,84,84,84,101,82,80,74,76,70,85,90,65,69,62,77,63,77,88,55,80,67,89,68,60,56,70,65,65,62,65,67,73,62,71,63,65,57,49,53,58,64,67,59,53,55,54,64,46,59,52,36,50,49,61,43,35,43,40,38,40,46,48,43,32,31,37,38,40,26,40,27,33,23,31,34,34,28,39,22,29,33,25,40,36,23,21,26,26,29,16,22,24,23,16,16,17,27,16,25,10,18,11,21,14,16,17,12,8,15,21,11,17,18,13,17,13,9,14,11,9,14,11,9,8,17,10,11,10,16,8,6,8,7,10,11,7,10,4,5,10,7,10,4,3,4,4,8,4,5,7,5,2,10,3,5,5,5,8,5,5,2,3,1,5,5,3,5,4,2,6,4,1,5,7,4,2,1,1,5,5,4,2,2,2,0,1,2,1,7,1,1,0,4,4,1,1,3,0,0,1,1,0,2,1,1,0,1,1,1,1,0,2,0,0,2,1,0,0,1],\"p1\":745,\"v1\":[1,0,0,1,0,1,0,0,2,0,0,0,0,1,1,1,1,0,0,0,1],\"p2\":777,\"v2\":[2,0,0,0,0,0,0,0,1,0,0,0,0,0,0,0,0,0,1],\"p3\":814,\"v3\":[1,0,0,0,0,0,0,1,0,0,0,0,2],\"p4\":864,\"v4\":[1,0,0,0,0,0,0,1],\"p5\":887,\"v5\":1,\"p6\":902,\"v6\":1,\"p7\":926,\"v7\":[1,0,1],\"p8\":1001,\"v8\":2}},{\"_typename\":\"TH1D\",\"fUniqueID\":0,\"fBits\":8,\"fName\":\"proj_BG\",\"fTitle\":\"hist_inv_mass_BG8 ( Projection X )\",\"fLineColor\":2,\"fLineStyle\":1,\"fLineWidth\":1,\"fFillColor\":0,\"fFillStyle\":1001,\"fMarkerColor\":1,\"fMarkerStyle\":1,\"fMarkerSize\":1,\"fNcells\":52,\"fXaxis\":{\"_typename\":\"TAxis\",\"fUniqueID\":0,\"fBits\":0,\"fName\":\"xaxis\",\"fTitle\":\"\",\"fNdivisions\":510,\"fAxisColor\":1,\"fLabelColor\":1,\"fLabelFont\":42,\"fLabelOffset\":0.005,\"fLabelSize\":0.035,\"fTickLength\":0.03,\"fTitleOffset\":1,\"fTitleSize\":0.035,\"fTitleColor\":1,\"fTitleFont\":42,\"fNbins\":50,\"fXmin\":0,\"fXmax\":1,\"fXbins\":[],\"fFirst\":1,\"fLast\":1000,\"fBits2\":0,\"fTimeDisplay\":false,\"fTimeFormat\":\"\",\"fLabels\":null,\"fModLabs\":null},\"fYaxis\":{\"_typename\":\"TAxis\",\"fUniqueID\":0,\"fBits\":0,\"fName\":\"yaxis\",\"fTitle\":\"\",\"fNdivisions\":510,\"fAxisColor\":1,\"fLabelColor\":1,\"fLabelFont\":42,\"fLabelOffset\":0.005,\"fLabelSize\":0.035,\"fTickLength\":0.03,\"fTitleOffset\":0,\"fTitleSize\":0.035,\"fTitleColor\":1,\"fTitleFont\":42,\"fNbins\":1,\"fXmin\":0,\"fXmax\":1,\"fXbins\":[],\"fFirst\":0,\"fLast\":0,\"fBits2\":0,\"fTimeDisplay\":false,\"fTimeFormat\":\"\",\"fLabels\":null,\"fModLabs\":null},\"fZaxis\":{\"_typename\":\"TAxis\",\"fUniqueID\":0,\"fBits\":0,\"fName\":\"zaxis\",\"fTitle\":\"\",\"fNdivisions\":510,\"fAxisColor\":1,\"fLabelColor\":1,\"fLabelFont\":42,\"fLabelOffset\":0.005,\"fLabelSize\":0.035,\"fTickLength\":0.03,\"fTitleOffset\":1,\"fTitleSize\":0.035,\"fTitleColor\":1,\"fTitleFont\":42,\"fNbins\":1,\"fXmin\":0,\"fXmax\":1,\"fXbins\":[],\"fFirst\":0,\"fLast\":0,\"fBits2\":0,\"fTimeDisplay\":false,\"fTimeFormat\":\"\",\"fLabels\":null,\"fModLabs\":null},\"fBarOffset\":0,\"fBarWidth\":1000,\"fEntries\":1860242,\"fTsumw\":11973.5915803542,\"fTsumw2\":194.425843904181,\"fTsumwx\":6713.22760574674,\"fTsumwx2\":4510.03875310855,\"fMaximum\":-1111,\"fMinimum\":-1111,\"fNormFactor\":0,\"fContour\":[],\"fSumw2\":{\"$arr\":\"Float64\",\"len\":52,\"p\":1,\"v\":[0.104676600898254,0.477504595029565,0.857978990737827,1.2279066256503,1.59704325350308,1.91054571815805,2.22220249967376,2.52410352745336,2.74321248298597,3.02955703859177,3.20674261996111,3.47357566809469,3.72353389895501,3.86855185989717,4.10374462564338,4.21343093791963,4.3887708361497,4.46338916877994,4.62686396111475,4.716511427879,4.77346393617628,4.84149054330915,4.89053298100959,4.89870672062634,4.91795455907866,4.90688046024307,4.89791571356665,4.91268117868076,4.88077722727349,4.9108354955415,4.86021104372169,4.81591464837935,4.72916754083395,4.76344451342028,4.6598225886016,4.6395200740697,4.58915929126978,4.53932584650966,4.50320319078407,4.38534313889107,4.33366401099168,4.31810753881788,4.25008093168501,4.25245395286407,4.2202863324369,4.16307015511971,4.08845182248947,4.04151873694819,3.98430255963101,3.97771083413364,296.062341003047]},\"fOption\":\"\",\"fFunctions\":{\"_typename\":\"TList\",\"name\":\"TList\",\"arr\":[],\"opt\":[]},\"fBufferSize\":0,\"fBuffer\":[],\"fBinStatErrOpt\":0,\"fStatOverflows\":2,\"fArray\":{\"$arr\":\"Float64\",\"len\":52,\"p\":1,\"v\":[6.44644169729369,29.4068159037755,52.8380888740394,75.6198463080521,98.352890076846,117.659739391914,136.852923488139,155.445305713331,168.938990978951,186.573337788172,197.485198797193,213.91794186435,229.311460073505,238.24229869696,252.726495155362,259.481456732376,270.279652522553,274.87497494153,284.942465753425,290.46334781156,293.970731707317,298.160106916138,301.180354159706,301.683728700301,302.869094553959,302.187103240895,301.635015035082,302.544336785834,300.579552288673,302.43067156699,299.312996992984,296.585031740728,291.242766455062,293.353691947878,286.97220180421,285.721884396926,282.620447711326,279.551486802539,277.326896090879,270.068559973271,266.88593384564,265.927898429669,261.738523220849,261.884664216505,259.903641830939,256.380020046776,251.784697627798,248.89435349148,245.370731707317,244.96478449716,18232.8104243234]}},{\"_typename\":\"TPaveText\",\"fUniqueID\":0,\"fBits\":9,\"fLineColor\":1,\"fLineStyle\":1,\"fLineWidth\":1,\"fFillColor\":0,\"fFillStyle\":0,\"fX1\":0.0624999934807416,\"fY1\":27728.2764826682,\"fX2\":0.937500006519258,\"fY2\":29745.4372786222,\"fX1NDC\":0.15,\"fY1NDC\":0.934306363149874,\"fX2NDC\":0.85,\"fY2NDC\":0.995000004768372,\"fBorderSize\":0,\"fInit\":1,\"fShadowColor\":1,\"fCornerRadius\":0,\"fOption\":\"blNDC\",\"fName\":\"title\",\"fTextAngle\":0,\"fTextSize\":0,\"fTextAlign\":22,\"fTextColor\":1,\"fTextFont\":42,\"fLabel\":\"\",\"fLongest\":34,\"fMargin\":0.05,\"fLines\":{\"_typename\":\"TList\",\"name\":\"TList\",\"arr\":[{\"_typename\":\"TLatex\",\"fUniqueID\":0,\"fBits\":0,\"fName\":\"\",\"fTitle\":\"hist_inv_mass_FG8 ( Projection X )\",\"fTextAngle\":0,\"fTextSize\":0,\"fTextAlign\":0,\"fTextColor\":0,\"fTextFont\":0,\"fX\":0,\"fY\":0,\"fLineColor\":1,\"fLineStyle\":1,\"fLineWidth\":2,\"fLimitFactorSize\":3,\"fOriginSize\":0.0460119321942329}],\"opt\":[\"\"]}},{\"_typename\":\"TStyle\",\"fUniqueID\":0,\"fBits\":0,\"fName\":\"Modern\",\"fTitle\":\"Modern Style\",\"fLineColor\":1,\"fLineStyle\":1,\"fLineWidth\":1,\"fFillColor\":19,\"fFillStyle\":1001,\"fMarkerColor\":1,\"fMarkerStyle\":1,\"fMarkerSize\":1,\"fTextAngle\":0,\"fTextSize\":0.05,\"fTextAlign\":11,\"fTextColor\":1,\"fTextFont\":62,\"fXaxis\":{\"_typename\":\"TAttAxis\",\"fNdivisions\":510,\"fAxisColor\":1,\"fLabelColor\":1,\"fLabelFont\":42,\"fLabelOffset\":0.005,\"fLabelSize\":0.035,\"fTickLength\":0.03,\"fTitleOffset\":1,\"fTitleSize\":0.035,\"fTitleColor\":1,\"fTitleFont\":42},\"fYaxis\":{\"_typename\":\"TAttAxis\",\"fNdivisions\":510,\"fAxisColor\":1,\"fLabelColor\":1,\"fLabelFont\":42,\"fLabelOffset\":0.005,\"fLabelSize\":0.035,\"fTickLength\":0.03,\"fTitleOffset\":0,\"fTitleSize\":0.035,\"fTitleColor\":1,\"fTitleFont\":42},\"fZaxis\":{\"_typename\":\"TAttAxis\",\"fNdivisions\":510,\"fAxisColor\":1,\"fLabelColor\":1,\"fLabelFont\":42,\"fLabelOffset\":0.005,\"fLabelSize\":0.035,\"fTickLength\":0.03,\"fTitleOffset\":1,\"fTitleSize\":0.035,\"fTitleColor\":1,\"fTitleFont\":42},\"fBarWidth\":1,\"fBarOffset\":0,\"fColorModelPS\":0,\"fDrawBorder\":0,\"fOptLogx\":0,\"fOptLogy\":0,\"fOptLogz\":0,\"fOptDate\":0,\"fOptStat\":1111,\"fOptTitle\":1,\"fOptFile\":0,\"fOptFit\":0,\"fShowEventStatus\":0,\"fShowEditor\":0,\"fShowToolBar\":0,\"fNumberContours\":20,\"fAttDate\":{\"_typename\":\"TAttText\",\"fTextAngle\":0,\"fTextSize\":0.025,\"fTextAlign\":11,\"fTextColor\":1,\"fTextFont\":62},\"fDateX\":0.01,\"fDateY\":0.01,\"fEndErrorSize\":2,\"fErrorX\":0.5,\"fFuncColor\":2,\"fFuncStyle\":1,\"fFuncWidth\":2,\"fGridColor\":0,\"fGridStyle\":3,\"fGridWidth\":1,\"fLegendBorderSize\":1,\"fLegendFillColor\":0,\"fLegendFont\":42,\"fLegendTextSize\":0,\"fHatchesLineWidth\":1,\"fHatchesSpacing\":1,\"fFrameFillColor\":0,\"fFrameLineColor\":1,\"fFrameFillStyle\":1001,\"fFrameLineStyle\":1,\"fFrameLineWidth\":1,\"fFrameBorderSize\":1,\"fFrameBorderMode\":0,\"fHistFillColor\":0,\"fHistLineColor\":602,\"fHistFillStyle\":1001,\"fHistLineStyle\":1,\"fHistLineWidth\":1,\"fHistMinimumZero\":false,\"fHistTopMargin\":0.05,\"fCanvasPreferGL\":false,\"fCanvasColor\":0,\"fCanvasBorderSize\":2,\"fCanvasBorderMode\":0,\"fCanvasDefH\":500,\"fCanvasDefW\":700,\"fCanvasDefX\":10,\"fCanvasDefY\":10,\"fPadColor\":0,\"fPadBorderSize\":2,\"fPadBorderMode\":0,\"fPadBottomMargin\":0.1,\"fPadTopMargin\":0.1,\"fPadLeftMargin\":0.1,\"fPadRightMargin\":0.1,\"fPadGridX\":false,\"fPadGridY\":false,\"fPadTickX\":0,\"fPadTickY\":0,\"fPaperSizeX\":20,\"fPaperSizeY\":26,\"fScreenFactor\":1,\"fStatColor\":0,\"fStatTextColor\":1,\"fStatBorderSize\":1,\"fStatFont\":42,\"fStatFontSize\":0,\"fStatStyle\":1001,\"fStatFormat\":\"6.4g\",\"fStatX\":0.98,\"fStatY\":0.935,\"fStatW\":0.2,\"fStatH\":0.16,\"fStripDecimals\":true,\"fTitleAlign\":23,\"fTitleColor\":0,\"fTitleTextColor\":1,\"fTitleBorderSize\":0,\"fTitleFont\":42,\"fTitleFontSize\":0.05,\"fTitleStyle\":0,\"fTitleX\":0.5,\"fTitleY\":0.995,\"fTitleW\":0,\"fTitleH\":0,\"fLegoInnerR\":0.5,\"fLineStyles\":[\"\",\"  \",\" 12 12\",\" 4 8\",\" 12 16 4 16\",\" 20 12 4 12\",\" 20 12 4 12 4 12 4 12\",\" 20 20\",\" 20 12 4 12 4 12\",\" 80 20\",\" 80 40 4 40\",\"  \",\"  \",\"  \",\"  \",\"  \",\"  \",\"  \",\"  \",\"  \",\"  \",\"  \",\"  \",\"  \",\"  \",\"  \",\"  \",\"  \",\"  \",\"  \"],\"fHeaderPS\":\"\",\"fTitlePS\":\"\",\"fFitFormat\":\"5.4g\",\"fPaintTextFormat\":\"g\",\"fLineScalePS\":3,\"fJoinLinePS\":0,\"fCapLinePS\":0,\"fTimeOffset\":788918400,\"fImageScaling\":1,\"fCandleWhiskerRange\":1,\"fCandleBoxRange\":0.5,\"fCandleScaled\":false,\"fViolinScaled\":true,\"fXAxisExpXOffset\":0,\"fXAxisExpYOffset\":0,\"fYAxisExpXOffset\":0,\"fYAxisExpYOffset\":0,\"fAxisMaxDigits\":5}],\"opt\":[\"\",\"\",\"same\",\"blNDC\",\"\"]},\"fExecs\":null,\"fName\":\"c1\",\"fTitle\":\"c1\",\"fNumPaletteColor\":0,\"fNextPaletteColor\":0,\"fDISPLAY\":\"$DISPLAY\",\"fDoubleBuffer\":0,\"fRetained\":true,\"fXsizeUser\":0,\"fYsizeUser\":0,\"fXsizeReal\":20,\"fYsizeReal\":20,\"fWindowTopX\":0,\"fWindowTopY\":0,\"fWindowWidth\":0,\"fWindowHeight\":0,\"fCw\":716,\"fCh\":692,\"fCatt\":{\"_typename\":\"TAttCanvas\",\"fXBetween\":2,\"fYBetween\":2,\"fTitleFromTop\":1.2,\"fXdate\":0.2,\"fYdate\":0.3,\"fAdate\":1},\"kMoveOpaque\":true,\"kResizeOpaque\":true,\"fHighLightColor\":2,\"fBatch\":true,\"kShowEventStatus\":false,\"kAutoExec\":true,\"kMenuBar\":true});\n",
       "   Core.settings.HandleKeys = false;\n",
       "   Core.draw(\"root_plot_1699487271008\", obj, \"\");\n",
       "}\n",
       "\n",
       "function script_load_root_plot_1699487271008(src, on_error) {\n",
       "    let script = document.createElement('script');\n",
       "    script.src = src;\n",
       "    script.onload = function() { display_root_plot_1699487271008(JSROOT); };\n",
       "    script.onerror = function() { script.remove(); on_error(); };\n",
       "    document.head.appendChild(script);\n",
       "}\n",
       "\n",
       "if (typeof requirejs !== 'undefined') {\n",
       "\n",
       "    // We are in jupyter notebooks, use require.js which should be configured already\n",
       "    requirejs.config({\n",
       "       paths: { 'JSRootCore' : [ 'build/jsroot', 'https://root.cern/js/7.2.1/build/jsroot', 'https://jsroot.gsi.de/7.2.1/build/jsroot' ] }\n",
       "    })(['JSRootCore'],  function(Core) {\n",
       "       display_root_plot_1699487271008(Core);\n",
       "    });\n",
       "\n",
       "} else if (typeof JSROOT !== 'undefined') {\n",
       "\n",
       "   // JSROOT already loaded, just use it\n",
       "   display_root_plot_1699487271008(JSROOT);\n",
       "\n",
       "} else {\n",
       "\n",
       "    // We are in jupyterlab without require.js, directly loading jsroot\n",
       "    // Jupyterlab might be installed in a different base_url so we need to know it.\n",
       "    try {\n",
       "        var base_url = JSON.parse(document.getElementById('jupyter-config-data').innerHTML).baseUrl;\n",
       "    } catch(_) {\n",
       "        var base_url = '/';\n",
       "    }\n",
       "\n",
       "    // Try loading a local version of requirejs and fallback to cdn if not possible.\n",
       "    script_load_root_plot_1699487271008(base_url + 'static/build/jsroot.js', function(){\n",
       "        console.error('Fail to load JSROOT locally, please check your jupyter_notebook_config.py file');\n",
       "        script_load_root_plot_1699487271008('https://root.cern/js/7.2.1/build/jsroot.js', function(){\n",
       "            document.getElementById(\"root_plot_1699487271008\").innerHTML = \"Failed to load JSROOT\";\n",
       "        });\n",
       "    });\n",
       "}\n",
       "\n",
       "</script>\n"
      ],
      "text/plain": [
       "<IPython.core.display.HTML object>"
      ]
     },
     "metadata": {},
     "output_type": "display_data"
    }
   ],
   "source": [
    "\n",
    "c1 = ROOT.TCanvas(\"c1\",\"c1\",720,720)\n",
    "hist = hist_inv_mass_FG.ProjectionX(\"proj\",1,39,1,59)\n",
    "hist_BG = hist_inv_mass_BG.ProjectionX(\"proj_BG\",1,39,1,59)\n",
    "hist.Draw()\n",
    "hist_BG.Scale(hist.Integral(hist.FindBin(0.2),hist.FindBin(0.25))/hist_BG.Integral(hist.FindBin(0.2),hist.FindBin(0.25)))\n",
    "hist_BG.SetLineColor(2)\n",
    "hist_BG.Rebin(20)\n",
    "hist_BG.Scale(1./20)\n",
    "hist_BG.Draw('same')\n",
    "\n",
    "integralFG = hist.Integral(hist.FindBin(0.10),hist.FindBin(0.18))\n",
    "integralBG = hist_BG.Integral(hist_BG.FindBin(0.10),hist_BG.FindBin(0.18))\n",
    "integral = (integralFG - integralBG)/Nev*1000\n",
    "print(integral, Nev)\n",
    "\n",
    "c1.Draw()\n",
    "c1.SaveAs(\"output/kek.png\")"
   ]
  },
  {
   "cell_type": "code",
   "execution_count": 24,
   "metadata": {},
   "outputs": [
    {
     "name": "stdout",
     "output_type": "stream",
     "text": [
      "TFile**\t\toutput/HeAu_sim_hists_veto_6M_3.root\t\n",
      " TFile*\t\toutput/HeAu_sim_hists_veto_6M_3.root\t\n",
      "  KEY: TH3D\thist_inv_mass_FG8;1\thist_inv_mass_FG8\n",
      "  KEY: TH3D\thist_inv_mass_BG8;1\thist_inv_mass_BG8\n",
      "  KEY: TH2D\thist_pt_orig8;1\thist_pt_orig8\n"
     ]
    }
   ],
   "source": [
    "FileOut = ROOT.TFile(\"input/\"+outnames[Option]+\".root\")\n",
    "FileOut.ls()"
   ]
  }
 ],
 "metadata": {
  "kernelspec": {
   "display_name": "Python 3",
   "language": "python",
   "name": "python3"
  },
  "language_info": {
   "codemirror_mode": {
    "name": "ipython",
    "version": 3
   },
   "file_extension": ".py",
   "mimetype": "text/x-python",
   "name": "python",
   "nbconvert_exporter": "python",
   "pygments_lexer": "ipython3",
   "version": "3.10.12"
  }
 },
 "nbformat": 4,
 "nbformat_minor": 4
}
