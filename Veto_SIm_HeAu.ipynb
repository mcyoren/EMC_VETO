{
 "cells": [
  {
   "cell_type": "markdown",
   "metadata": {},
   "source": [
    "import ipotrant libraries"
   ]
  },
  {
   "cell_type": "code",
   "execution_count": 110,
   "metadata": {},
   "outputs": [],
   "source": [
    "import ROOT\n",
    "import math\n",
    "from array import array\n",
    "import numpy as np\n",
    "#from ROOT import gROOT, AddressOf\n",
    "import multiprocess as mp\n",
    "%jsroot on"
   ]
  },
  {
   "cell_type": "markdown",
   "metadata": {},
   "source": [
    "Set common variables"
   ]
  },
  {
   "cell_type": "code",
   "execution_count": 111,
   "metadata": {
    "ExecuteTime": {
     "end_time": "2023-06-06T13:48:15.019958422Z",
     "start_time": "2023-06-06T13:48:15.016818782Z"
    }
   },
   "outputs": [],
   "source": [
    "files_path = \"/home/yoren/bnl/PHENIX/Trees/\"\n",
    "file_names = [\"Tree_orig\",\"Tree_0\",\"Tree_3\",\"Trees_6M\",\"Tree_0\",\"Tree_3\"]\n",
    "treenames = [\"AnalysisTree\",\"AnalysisTreeEmbed\",\"AnalysisTreeEmbed\",\"AnalysisTree\",\"AnalysisTree\",\"AnalysisTree\"]\n",
    "outnames = [\"HeAu_sim_hists_orig\",\"HeAu_sim_hists_embed_0\",\"HeAu_sim_hists_embed_3\",\"HeAu_sim_hists_orig_6M\",\"HeAu_sim_hists_veto_6M_0\",\"HeAu_sim_hists_veto_6M_3\"]\n",
    "E_def_core_cut = 0.500\n",
    "Chi2_def_cut = 3\n",
    "alpha_def_cut = 0.6\n",
    "distance_def_cut = 8"
   ]
  },
  {
   "cell_type": "code",
   "execution_count": 112,
   "metadata": {},
   "outputs": [],
   "source": [
    "class photon:\n",
    "  def __init__(self, i, E, x, y, z, vertex, arm, sec, chi2, id):\n",
    "    self.i = i\n",
    "    self.E = E\n",
    "    self.x = x\n",
    "    self.y = y\n",
    "    self.z = z\n",
    "    self.vertex = vertex\n",
    "    self.arm = arm\n",
    "    self.sec = sec\n",
    "    self.chi2 = chi2\n",
    "    self.id = id\n",
    "    self.r = (self.x**2+self.y**2+(self.z-self.vertex)**2)**0.5+0.001\n",
    "    self.px = self.E * self.x / self.r\n",
    "    self.py = self.E * self.y / self.r\n",
    "    self.pz = self.E * (self.z-self.vertex) / self.r\n",
    "    self.pt = (self.px**2+self.py**2)**0.5\n",
    "\n",
    "  def __str__(self):\n",
    "    return f\"i={self.i}, px={round(self.px,1)}, py={round(self.py,1)}, pz={round(self.pz,1)}, \\\n",
    "    pt={round(self.pt,1)}, E={round(self.E,1)}, x={round(self.x,1)}, y={round(self.y,1)}, z={round(self.z,1)}, \\\n",
    "      arm={self.arm}, sec={self.sec}, chi2={round(self.chi2,1)}, id={self.id}\""
   ]
  },
  {
   "cell_type": "code",
   "execution_count": 113,
   "metadata": {},
   "outputs": [],
   "source": [
    "class hadron:\n",
    "  def __init__(self, i, x, y, z, id):\n",
    "    self.i = i\n",
    "    self.x = x\n",
    "    self.y = y\n",
    "    self.z = z\n",
    "    self.id = id\n",
    "\n",
    "  def __str__(self):\n",
    "    return f\"i={self.i}, x={self.x}, y={self.y}, z={self.z}, id={self.id}\""
   ]
  },
  {
   "cell_type": "markdown",
   "metadata": {},
   "source": [
    "Define structures"
   ]
  },
  {
   "cell_type": "code",
   "execution_count": 114,
   "metadata": {},
   "outputs": [],
   "source": [
    "def is_photon_good(photon):\n",
    "    if photon.E > E_def_core_cut and photon.chi2 < Chi2_def_cut: return True\n",
    "    return False"
   ]
  },
  {
   "cell_type": "code",
   "execution_count": 115,
   "metadata": {},
   "outputs": [],
   "source": [
    "def is_hadron_good(hadron):\n",
    "    if hadron.x<-900 or hadron.y<-900 or hadron.z<-900: return False\n",
    "    return True"
   ]
  },
  {
   "cell_type": "code",
   "execution_count": 116,
   "metadata": {},
   "outputs": [],
   "source": [
    "def alpha(photon1, photon2):\n",
    "    alpha = abs(photon1.E-photon2.E)/(photon1.E+photon2.E)\n",
    "    return alpha"
   ]
  },
  {
   "cell_type": "code",
   "execution_count": 117,
   "metadata": {},
   "outputs": [],
   "source": [
    "def Distance(photon1, photon2):\n",
    "    Distance = ((photon1.x-photon2.x)**2+(photon1.y-photon2.y)**2+(photon1.z-photon2.z)**2)**0.5\n",
    "    return Distance"
   ]
  },
  {
   "cell_type": "code",
   "execution_count": 118,
   "metadata": {},
   "outputs": [],
   "source": [
    "def is_pair_good(photon1, photon2):\n",
    "    if photon1.arm == photon2.arm and abs(photon1.sec-photon2.sec) < 2: \n",
    "        if alpha(photon1, photon2) < alpha_def_cut and Distance(photon1, photon2) > distance_def_cut: return True\n",
    "    return False"
   ]
  },
  {
   "cell_type": "code",
   "execution_count": 119,
   "metadata": {},
   "outputs": [],
   "source": [
    "def inv_mass(photon1, photon2):\n",
    "    e1, px1, py1, pz1 = photon1.E, photon1.px, photon1.py, photon1.pz\n",
    "    e2, px2, py2, pz2 = photon2.E, photon2.px, photon2.py, photon2.pz\n",
    "    m2 = (e1+e2)**2 - (px1+px2)**2 - (py1+py2)**2 - (pz1+pz2)**2\n",
    "    if m2<0: return 0\n",
    "    return math.sqrt(m2)"
   ]
  },
  {
   "cell_type": "code",
   "execution_count": 120,
   "metadata": {},
   "outputs": [],
   "source": [
    "dphi_mean_fits_name, dphi_sigma_fits_name = \"fit_mean_functions_emc_min_r_dphi_0-88%\", \"fit_functions_sigma_emc_min_r_dphi_0-88%\"\n",
    "dzed_mean_fits_name, dzed_sigma_fits_name = \"fit_mean_functions_emc_min_r_dz_0-88%\", \"fit_functions_sigma_emc_min_r_dz_0-88%\"\n",
    "inFileFuncs = ROOT.TFile.Open(\"input/HeAu_emcid.root\",\"read\")\n",
    "dphi_mean_fits, dphi_sigma_fits = inFileFuncs.Get(dphi_mean_fits_name), inFileFuncs.Get(dphi_sigma_fits_name)\n",
    "dzed_mean_fits, dzed_sigma_fits = inFileFuncs.Get(dzed_mean_fits_name), inFileFuncs.Get(dzed_sigma_fits_name)"
   ]
  },
  {
   "cell_type": "code",
   "execution_count": 121,
   "metadata": {},
   "outputs": [],
   "source": [
    "class real_event:\n",
    "  \n",
    "  def __init__(self,N_hadrons):\n",
    "    self.N_hadrons = N_hadrons\n",
    "    self.hadron = []\n",
    "  \n",
    "  def __str__(self):\n",
    "    return f\"N_hadrons = {self.N_hadrons}\"\n",
    "  \n",
    "  def add_hadron(self, hadron):\n",
    "    self.hadron.append(hadron)\n",
    "  \n",
    "  def set_N_good_hadrons(self):\n",
    "    self.N_hadrons = len(self.hadron)"
   ]
  },
  {
   "cell_type": "code",
   "execution_count": 122,
   "metadata": {},
   "outputs": [],
   "source": [
    "def get_real_event(tree_real_event, ievent):\n",
    "    tree_real_event.GetEntry(ievent)\n",
    "    ev = tree_real_event\n",
    "    N_ch = len(ev.trk_emc_x)\n",
    "    my_real_event = real_event(N_ch)\n",
    "    for ihadron in range(N_ch):\n",
    "        my_real_hadron = hadron(0,ev.trk_emc_x[ihadron],ev.trk_emc_y[ihadron],ev.trk_emc_z[ihadron],ev.trk_emc_id[ihadron])\n",
    "        if is_hadron_good(my_real_hadron):\n",
    "            my_real_event.add_hadron(my_real_hadron)\n",
    "    my_real_event.set_N_good_hadrons()\n",
    "    return my_real_event\n"
   ]
  },
  {
   "cell_type": "code",
   "execution_count": 123,
   "metadata": {},
   "outputs": [],
   "source": [
    "def is_charged_vetoed(photon, event):\n",
    "    r_min = 10\n",
    "    for hadron in event.hadron:\n",
    "        dphi = math.atan2(photon.y, photon.x) - math.atan2(hadron.y, hadron.x)\n",
    "        dzed = photon.z - hadron.z\n",
    "        sdphi = (dphi - dphi_mean_fits.Eval(photon.pt))/dphi_sigma_fits.Eval(photon.pt)\n",
    "        sdzed = (dzed - dzed_mean_fits.Eval(photon.pt))/dzed_sigma_fits.Eval(photon.pt)\n",
    "        r = (sdphi**2+sdzed**2)**0.5\n",
    "        if r < r_min: r_min = r\n",
    "    if r_min < 3: return True\n",
    "    return False"
   ]
  },
  {
   "cell_type": "code",
   "execution_count": 124,
   "metadata": {},
   "outputs": [],
   "source": [
    "def is_charged_vetoed_sigma(photon, event):\n",
    "\n",
    "    for hadron in event.hadron:\n",
    "        dphi = math.atan2(photon.y, photon.x) - math.atan2(hadron.y, hadron.x)\n",
    "        dzed = photon.z - hadron.z\n",
    "        sdphi = (dphi - dphi_mean_fits.Eval(photon.pt))/dphi_sigma_fits.Eval(photon.pt)\n",
    "        sdzed = (dzed - dzed_mean_fits.Eval(photon.pt))/dzed_sigma_fits.Eval(photon.pt)\n",
    "    \n",
    "        if sdphi > 2 or sdzed > 2 : return True\n",
    "    return False"
   ]
  },
  {
   "cell_type": "code",
   "execution_count": 125,
   "metadata": {},
   "outputs": [],
   "source": [
    "class event:\n",
    "  \n",
    "  def __init__(self, i, N_photons, N_hadrons, vertex):\n",
    "    self.i = i\n",
    "    self.N_photons = N_photons\n",
    "    self.N_hadrons = N_hadrons\n",
    "    self.vertex = vertex\n",
    "    self.N_good_photons = self.N_photons\n",
    "    self.N_good_hadrons = self.N_hadrons\n",
    "    self.photon = []\n",
    "    self.hadron = []\n",
    "    self.m_inv = []  \n",
    "  \n",
    "  def __str__(self):\n",
    "    return f\"i = {self.i}, vertex = {round(self.vertex)}, N_photons = {self.N_photons}, N_hadrons = {self.N_hadrons}, N_good_photons = {self.N_good_photons}, N_good_hadrons = {self.N_good_hadrons}\"\n",
    "  \n",
    "  def add_hadron(self, hadron):\n",
    "    self.hadron.append(hadron)\n",
    "\n",
    "  def add_photon(self, photon):\n",
    "    self.photon.append(photon)\n",
    "  \n",
    "  def set_N_good_photons(self):\n",
    "    self.N_good_photons = len(self.photon)\n",
    "  \n",
    "  def set_N_good_hadrons(self):\n",
    "    self.N_good_hadrons = len(self.hadron)\n",
    "  \n",
    "  def get_inv_masses(self):\n",
    "    for iphoton1 in range(min(self.N_good_photons,200)):\n",
    "      for iphoton2 in range(iphoton1+1,min(self.N_good_photons,200)):\n",
    "        photon1 = self.photon[iphoton1]\n",
    "        photon2 = self.photon[iphoton2]\n",
    "        if is_pair_good(photon1,photon2):\n",
    "          self.m_inv.append([inv_mass(photon1,photon2), photon1.pt + photon2.pt, self.vertex])\n",
    "    return self.m_inv"
   ]
  },
  {
   "cell_type": "markdown",
   "metadata": {},
   "source": [
    "Create TTree creator"
   ]
  },
  {
   "cell_type": "code",
   "execution_count": 126,
   "metadata": {},
   "outputs": [],
   "source": [
    "class pool:\n",
    "  \n",
    "  def __init__(self, depth, VTX):\n",
    "    self.depth = depth\n",
    "    self.VTX = VTX\n",
    "    self.N_events = [0]*(len(self.VTX)-1)\n",
    "    self.photons_in_event = [ [] for _ in range(len(self.VTX)-1)]\n",
    "    self.m_inv = []  \n",
    "  \n",
    "  def __str__(self):\n",
    "    return f\"depth = {self.depth}\"\n",
    "  \n",
    "\n",
    "  def add_photons(self, event):\n",
    "    for i in range(len(self.N_events)):\n",
    "      if(event.vertex> self.VTX[i], event.vertex < self.VTX[i+1]): \n",
    "        self.N_events[i]+=1\n",
    "        self.photons_in_event[i].append(event.photon)\n",
    "\n",
    "  \n",
    "  def get_inv_masses(self):\n",
    "    is_filled = False\n",
    "    for iev in range(len(self.N_events)):\n",
    "      if self.N_events[iev]>=self.depth:\n",
    "        self.m_inv = []\n",
    "        is_filled = True\n",
    "        for iphoton1 in range(len(self.photons_in_event[iev][0])):\n",
    "          for second_event in range(1,self.depth):\n",
    "            for iphoton2 in range(len(self.photons_in_event[iev][second_event])):\n",
    "              photon1 = self.photons_in_event[iev][0][iphoton1]\n",
    "              photon2 = self.photons_in_event[iev][second_event][iphoton2]\n",
    "              if is_pair_good(photon1,photon2):\n",
    "                self.m_inv.append([inv_mass(photon1,photon2), photon1.pt + photon2.pt, 0.5*(photon1.vertex + photon2.vertex)])\n",
    "        self.N_events[iev] = self.depth-1\n",
    "        self.photons_in_event[iev].pop(0)\n",
    "    if is_filled: return self.m_inv\n",
    "    else: return []\n"
   ]
  },
  {
   "cell_type": "markdown",
   "metadata": {},
   "source": [
    "Create file reader"
   ]
  },
  {
   "cell_type": "code",
   "execution_count": 127,
   "metadata": {},
   "outputs": [],
   "source": [
    "def hist_creator(nameFG = \"hist_inv_mass_FG\", nameBG = \"hist_inv_mass_BG\", nameP = \"hist_pt_orig\"):\n",
    "    hist_inv_mass_FG = ROOT.TH3D(nameFG,nameFG,1000,0,1,40,0,20,60,-30,30)\n",
    "    hist_inv_mass_FG.SetDirectory(ROOT.nullptr)\n",
    "    hist_inv_mass_BG = ROOT.TH3D(nameBG,nameBG,1000,0,1,40,0,20,60,-30,30)\n",
    "    hist_inv_mass_BG.SetDirectory(ROOT.nullptr)\n",
    "    hist_pt_orig = ROOT.TH2D(nameP,nameP,40,0,20,60,-30,30)\n",
    "    hist_pt_orig.SetDirectory(ROOT.nullptr)\n",
    "\n",
    "    return [hist_inv_mass_FG, hist_inv_mass_BG, hist_pt_orig]"
   ]
  },
  {
   "cell_type": "code",
   "execution_count": 128,
   "metadata": {},
   "outputs": [],
   "source": [
    "def main_func(ii, Ntr, jj):\n",
    "\n",
    "    [hist_inv_mass_FG, hist_inv_mass_BG, hist_pt_orig] = hist_creator(f\"hist_inv_mass_FG{ii}\", f\"hist_inv_mass_BG{ii}\", f\"hist_pt_orig{ii}\")\n",
    "\n",
    "    inFileCharged = ROOT.TFile.Open(\"input/tracks_new.root\",\"read\")\n",
    "    tree_real_event = inFileCharged.Get(f\"TracksTree{1}\")\n",
    "    N_real_ev = tree_real_event.GetEntries()\n",
    "\n",
    "    inFile = ROOT.TFile.Open(files_path+file_names[ii]+'.root',\"read\")\n",
    "    tree_read_event = inFile.Get(treenames[ii])\n",
    "    Nev = tree_read_event.GetEntries()\n",
    "    Low = int(Nev/Ntr*jj)\n",
    "    High = int(Nev/Ntr*(jj+1))\n",
    "    print(Nev)\n",
    "    \n",
    "    my_pool = pool(3,[-30,-8,8, 30])\n",
    "    for ievent in range(Low,High):\n",
    "        tree_read_event.GetEntry(ievent)\n",
    "        ev = tree_read_event\n",
    "        my_event  = event(ievent, ev.n_gammas, ev.n_charged, ev.bbc_vertex)    \n",
    "        hist_pt_orig.Fill((ev.p_orig[0]**2+ev.p_orig[1]**2)**0.5,ev.bbc_vertex)\n",
    "        \n",
    "        for ihadron in range(ev.n_charged):\n",
    "            my_hadron = hadron(ihadron,ev.trk_emcxs[ihadron],ev.trk_emcys[ihadron],ev.trk_emczs[ihadron],ev.trk_ids[ihadron])\n",
    "            if is_hadron_good(my_hadron):\n",
    "                my_event.add_hadron(my_hadron)\n",
    "            #print(my_hadron)\n",
    "        my_event.set_N_good_hadrons()\n",
    "\n",
    "        for iphoton in range(my_event.N_photons):\n",
    "            my_photon = photon(iphoton, ev.g_es[iphoton], ev.g_xs[iphoton], ev.g_ys[iphoton], ev.g_zs[iphoton], ev.bbc_vertex, ev.g_arms[iphoton], ev.g_secs[iphoton], ev.g_chi2s[iphoton], ev.g_ids[iphoton])\n",
    "            #print(ev.tower_ids[iphoton])\n",
    "            my_real_event = get_real_event(tree_real_event,ievent%N_real_ev)\n",
    "            if is_photon_good(my_photon): #and not is_charged_vetoed(my_photon, my_event) and not is_charged_vetoed(my_photon, my_real_event)\n",
    "                my_event.add_photon(my_photon)\n",
    "                #print(my_photon)\n",
    "        my_event.set_N_good_photons()\n",
    "        if my_event.N_good_photons>0: my_pool.add_photons(my_event)\n",
    "        \n",
    "        my_inv_masses = my_event.get_inv_masses()\n",
    "        my_inv_masses_bg = my_pool.get_inv_masses()\n",
    "        for my_inv_mass in my_inv_masses:\n",
    "            hist_inv_mass_FG.Fill(my_inv_mass[0],my_inv_mass[1],my_inv_mass[2])\n",
    "        for my_inv_mass_bg in my_inv_masses_bg:\n",
    "            hist_inv_mass_BG.Fill(my_inv_mass_bg[0],my_inv_mass_bg[1],my_inv_mass_bg[2])\n",
    "\n",
    "    inFile.Close()\n",
    "    print(\"all good\", Low, High)\n",
    "\n",
    "    return [hist_inv_mass_FG, hist_inv_mass_BG, hist_pt_orig, High-Low]"
   ]
  },
  {
   "cell_type": "code",
   "execution_count": 129,
   "metadata": {},
   "outputs": [
    {
     "name": "stdout",
     "output_type": "stream",
     "text": [
      "[(1, 4, 0), (1, 4, 1), (1, 4, 2), (1, 4, 3)]\n",
      "1990000\n",
      "1990000\n",
      "1990000\n",
      "1990000\n",
      "all good 995000 1492500\n",
      "all good 1492500 1990000\n",
      "all good 497500 995000\n",
      "all good 0 497500\n"
     ]
    }
   ],
   "source": [
    "Option = 1\n",
    "Ntr = 4\n",
    "params = [(Option, Ntr, i) for i in range(Ntr)]\n",
    "print(params)\n",
    "pool = mp.Pool(Ntr)\n",
    "output_array = pool.starmap(main_func, params)\n",
    "pool.close()"
   ]
  },
  {
   "cell_type": "code",
   "execution_count": 130,
   "metadata": {},
   "outputs": [],
   "source": [
    "[hist_inv_mass_FG, hist_inv_mass_BG, hist_pt_orig, Nev] = [output_array[0][0], output_array[0][1], output_array[0][2], output_array[0][3]]\n",
    "for i in range(1, len(output_array[0])):\n",
    "    hist_inv_mass_FG.Add(output_array[i][0])\n",
    "    hist_inv_mass_BG.Add(output_array[i][1])\n",
    "    hist_pt_orig.Add(output_array[i][2])\n",
    "    Nev+=output_array[i][3]"
   ]
  },
  {
   "cell_type": "code",
   "execution_count": 131,
   "metadata": {},
   "outputs": [],
   "source": [
    "FileOut = ROOT.TFile(\"output/\"+outnames[Option]+\".root\",\"recreate\")\n",
    "hist_inv_mass_FG.Write()\n",
    "hist_inv_mass_BG.Write()\n",
    "hist_pt_orig.Write()\n",
    "FileOut.Close()"
   ]
  },
  {
   "cell_type": "code",
   "execution_count": 132,
   "metadata": {},
   "outputs": [
    {
     "name": "stdout",
     "output_type": "stream",
     "text": [
      "114.88649681584947 1990000\n"
     ]
    },
    {
     "name": "stderr",
     "output_type": "stream",
     "text": [
      "Warning in <TCanvas::Constructor>: Deleting canvas with same name: c1\n",
      "Info in <TCanvas::Print>: png file output/kek.png has been created\n"
     ]
    },
    {
     "data": {
      "text/html": [
       "\n",
       "\n",
       "<div id=\"root_plot_1699447699307\"\n",
       "     style=\"width: 716px; height: 692px\">\n",
       "</div>\n",
       "<script>\n",
       "\n",
       "function display_root_plot_1699447699307(Core) {\n",
       "   let obj = Core.parse({\"_typename\":\"TCanvas\",\"fUniqueID\":0,\"fBits\":3342344,\"fLineColor\":1,\"fLineStyle\":1,\"fLineWidth\":1,\"fFillColor\":0,\"fFillStyle\":1001,\"fLeftMargin\":0.1,\"fRightMargin\":0.1,\"fBottomMargin\":0.1,\"fTopMargin\":0.1,\"fXfile\":2,\"fYfile\":2,\"fAfile\":1,\"fXstat\":0.99,\"fYstat\":0.99,\"fAstat\":2,\"fFrameFillColor\":0,\"fFrameLineColor\":1,\"fFrameFillStyle\":1001,\"fFrameLineStyle\":1,\"fFrameLineWidth\":1,\"fFrameBorderSize\":1,\"fFrameBorderMode\":0,\"fX1\":-0.125000009313226,\"fY1\":-1051.31257832889,\"fX2\":1.12500000931323,\"fY2\":9461.81257832889,\"fXtoAbsPixelk\":71.6000542676928,\"fXtoPixelk\":71.6000542676928,\"fXtoPixel\":572.799991464615,\"fYtoAbsPixelk\":622.800045875358,\"fYtoPixelk\":622.800045875358,\"fYtoPixel\":-0.0658224828191804,\"fUtoAbsPixelk\":5e-5,\"fUtoPixelk\":5e-5,\"fUtoPixel\":716,\"fVtoAbsPixelk\":692.00005,\"fVtoPixelk\":692,\"fVtoPixel\":-692,\"fAbsPixeltoXk\":-0.125000009313226,\"fPixeltoXk\":-0.125000009313226,\"fPixeltoX\":0.00174581008188052,\"fAbsPixeltoYk\":9461.81257832889,\"fPixeltoYk\":-1051.31257832889,\"fPixeltoY\":-15.1923773940141,\"fXlowNDC\":0,\"fYlowNDC\":0,\"fXUpNDC\":1,\"fYUpNDC\":1,\"fWNDC\":1,\"fHNDC\":1,\"fAbsXlowNDC\":0,\"fAbsYlowNDC\":0,\"fAbsWNDC\":1,\"fAbsHNDC\":1,\"fUxmin\":0,\"fUymin\":0,\"fUxmax\":1,\"fUymax\":8410.5,\"fTheta\":30,\"fPhi\":30,\"fAspectRatio\":0,\"fNumber\":0,\"fTickx\":0,\"fTicky\":0,\"fLogx\":0,\"fLogy\":0,\"fLogz\":0,\"fPadPaint\":0,\"fCrosshair\":0,\"fCrosshairPos\":0,\"fBorderSize\":2,\"fBorderMode\":0,\"fModified\":false,\"fGridx\":false,\"fGridy\":false,\"fAbsCoord\":false,\"fEditable\":true,\"fFixedAspectRatio\":false,\"fPrimitives\":{\"_typename\":\"TList\",\"name\":\"TList\",\"arr\":[{\"_typename\":\"TFrame\",\"fUniqueID\":0,\"fBits\":8,\"fLineColor\":1,\"fLineStyle\":1,\"fLineWidth\":1,\"fFillColor\":0,\"fFillStyle\":1001,\"fX1\":0,\"fY1\":0,\"fX2\":1,\"fY2\":8410.5,\"fBorderSize\":1,\"fBorderMode\":0},{\"_typename\":\"TH1D\",\"fUniqueID\":0,\"fBits\":8,\"fName\":\"proj\",\"fTitle\":\"hist_inv_mass_FG1 ( Projection X )\",\"fLineColor\":602,\"fLineStyle\":1,\"fLineWidth\":1,\"fFillColor\":0,\"fFillStyle\":1001,\"fMarkerColor\":1,\"fMarkerStyle\":1,\"fMarkerSize\":1,\"fNcells\":1002,\"fXaxis\":{\"_typename\":\"TAxis\",\"fUniqueID\":0,\"fBits\":0,\"fName\":\"xaxis\",\"fTitle\":\"\",\"fNdivisions\":510,\"fAxisColor\":1,\"fLabelColor\":1,\"fLabelFont\":42,\"fLabelOffset\":0.005,\"fLabelSize\":0.035,\"fTickLength\":0.03,\"fTitleOffset\":1,\"fTitleSize\":0.035,\"fTitleColor\":1,\"fTitleFont\":42,\"fNbins\":1000,\"fXmin\":0,\"fXmax\":1,\"fXbins\":[],\"fFirst\":1,\"fLast\":1000,\"fBits2\":0,\"fTimeDisplay\":false,\"fTimeFormat\":\"\",\"fLabels\":null,\"fModLabs\":null},\"fYaxis\":{\"_typename\":\"TAxis\",\"fUniqueID\":0,\"fBits\":0,\"fName\":\"yaxis\",\"fTitle\":\"\",\"fNdivisions\":510,\"fAxisColor\":1,\"fLabelColor\":1,\"fLabelFont\":42,\"fLabelOffset\":0.005,\"fLabelSize\":0.035,\"fTickLength\":0.03,\"fTitleOffset\":0,\"fTitleSize\":0.035,\"fTitleColor\":1,\"fTitleFont\":42,\"fNbins\":1,\"fXmin\":0,\"fXmax\":1,\"fXbins\":[],\"fFirst\":0,\"fLast\":0,\"fBits2\":0,\"fTimeDisplay\":false,\"fTimeFormat\":\"\",\"fLabels\":null,\"fModLabs\":null},\"fZaxis\":{\"_typename\":\"TAxis\",\"fUniqueID\":0,\"fBits\":0,\"fName\":\"zaxis\",\"fTitle\":\"\",\"fNdivisions\":510,\"fAxisColor\":1,\"fLabelColor\":1,\"fLabelFont\":42,\"fLabelOffset\":0.005,\"fLabelSize\":0.035,\"fTickLength\":0.03,\"fTitleOffset\":1,\"fTitleSize\":0.035,\"fTitleColor\":1,\"fTitleFont\":42,\"fNbins\":1,\"fXmin\":0,\"fXmax\":1,\"fXbins\":[],\"fFirst\":0,\"fLast\":0,\"fBits2\":0,\"fTimeDisplay\":false,\"fTimeFormat\":\"\",\"fLabels\":null,\"fModLabs\":null},\"fBarOffset\":0,\"fBarWidth\":1000,\"fEntries\":394503,\"fTsumw\":394485,\"fTsumw2\":394485,\"fTsumwx\":87002.1925,\"fTsumwx2\":27060.97467725,\"fMaximum\":-1111,\"fMinimum\":-1111,\"fNormFactor\":0,\"fContour\":[],\"fSumw2\":[],\"fOption\":\"\",\"fFunctions\":{\"_typename\":\"TList\",\"name\":\"TList\",\"arr\":[{\"_typename\":\"TPaveStats\",\"fUniqueID\":0,\"fBits\":9,\"fLineColor\":1,\"fLineStyle\":1,\"fLineWidth\":1,\"fFillColor\":0,\"fFillStyle\":1001,\"fX1\":0.850000025331974,\"fY1\":7096.359480744,\"fX2\":1.10000003278256,\"fY2\":8778.45946821138,\"fX1NDC\":0.780000016093254,\"fY1NDC\":0.775000005960464,\"fX2NDC\":0.980000019073486,\"fY2NDC\":0.935000002384186,\"fBorderSize\":1,\"fInit\":1,\"fShadowColor\":1,\"fCornerRadius\":0,\"fOption\":\"brNDC\",\"fName\":\"stats\",\"fTextAngle\":0,\"fTextSize\":0,\"fTextAlign\":12,\"fTextColor\":1,\"fTextFont\":42,\"fLabel\":\"\",\"fLongest\":18,\"fMargin\":0.05,\"fLines\":{\"_typename\":\"TList\",\"name\":\"TList\",\"arr\":[{\"_typename\":\"TLatex\",\"fUniqueID\":0,\"fBits\":0,\"fName\":\"\",\"fTitle\":\"proj\",\"fTextAngle\":0,\"fTextSize\":0.0368,\"fTextAlign\":0,\"fTextColor\":0,\"fTextFont\":0,\"fX\":0,\"fY\":0,\"fLineColor\":1,\"fLineStyle\":1,\"fLineWidth\":2,\"fLimitFactorSize\":3,\"fOriginSize\":0.0367999991774559},{\"_typename\":\"TLatex\",\"fUniqueID\":0,\"fBits\":0,\"fName\":\"\",\"fTitle\":\"Entries = 394503 \",\"fTextAngle\":0,\"fTextSize\":0,\"fTextAlign\":0,\"fTextColor\":0,\"fTextFont\":0,\"fX\":0,\"fY\":0,\"fLineColor\":1,\"fLineStyle\":1,\"fLineWidth\":2,\"fLimitFactorSize\":3,\"fOriginSize\":0.0236550234258175},{\"_typename\":\"TLatex\",\"fUniqueID\":0,\"fBits\":0,\"fName\":\"\",\"fTitle\":\"Mean  = 0.2205\",\"fTextAngle\":0,\"fTextSize\":0,\"fTextAlign\":0,\"fTextColor\":0,\"fTextFont\":0,\"fX\":0,\"fY\":0,\"fLineColor\":1,\"fLineStyle\":1,\"fLineWidth\":2,\"fLimitFactorSize\":3,\"fOriginSize\":0.0236550234258175},{\"_typename\":\"TLatex\",\"fUniqueID\":0,\"fBits\":0,\"fName\":\"\",\"fTitle\":\"Std Dev   = 0.1413\",\"fTextAngle\":0,\"fTextSize\":0,\"fTextAlign\":0,\"fTextColor\":0,\"fTextFont\":0,\"fX\":0,\"fY\":0,\"fLineColor\":1,\"fLineStyle\":1,\"fLineWidth\":2,\"fLimitFactorSize\":3,\"fOriginSize\":0.0236550234258175}],\"opt\":[\"\",\"\",\"\",\"\"]},\"fOptFit\":0,\"fOptStat\":1111,\"fFitFormat\":\"5.4g\",\"fStatFormat\":\"6.4g\",\"fParent\":{\"$ref\":3}}],\"opt\":[\"brNDC\"]},\"fBufferSize\":0,\"fBuffer\":[],\"fBinStatErrOpt\":0,\"fStatOverflows\":2,\"fArray\":{\"$arr\":\"Float64\",\"len\":1002,\"p\":8,\"v\":[1,2,11,26,35,40,63,54,60,81,73,96,101,91,143,112,118,118,144,134,153,181,152,187,186,180,180,210,190,222,215,231,244,233,212,241,265,262,235,260,248,257,284,280,300,288,261,290,298,319,295,299,309,326,297,285,326,287,321,325,363,344,362,340,369,330,323,378,364,340,335,342,394,363,337,361,378,364,356,366,374,368,361,391,378,373,419,401,432,389,428,483,461,464,476,477,487,524,526,507,535,565,610,647,702,712,775,806,864,981,1076,1223,1335,1529,1764,2048,2282,2743,3122,3593,4142,4785,5170,5787,6202,6570,7004,7332,7708,7782,8010,7841,7782,7662,7635,7376,7050,6725,6476,6011,5663,5374,4956,4581,4133,3836,3498,3149,2870,2502,2263,1967,1837,1617,1575,1336,1168,1117,1015,907,822,767,716,641,674,638,570,580,561,502,484,458,477,454,439,464,460,464,482,481,432,461,418,424,406,437,397,403,379,416,401,415,391,424,420,426,372,397,426,424,411,405,393,401,384,410,405,461,413,430,421,445,465,392,414,415,429,423,390,388,410,427,410,409,424,448,396,401,421,393,392,403,446,384,421,459,447,440,403,445,439,406,364,408,411,417,377,388,393,406,406,387,372,386,405,401,403,393,383,404,390,412,402,409,378,399,392,366,395,389,368,388,404,348,375,372,388,380,388,357,361,379,376,361,329,343,375,372,360,375,337,333,355,338,358,357,319,357,354,316,326,339,318,334,339,372,345,384,357,308,337,324,309,326,342,322,302,318,286,291,287,308,331,317,322,317,308,318,350,309,285,311,336,293,289,310,310,307,310,259,315,300,304,312,277,276,288,309,261,268,317,266,273,276,278,335,280,239,276,257,261,264,272,251,295,261,273,268,226,277,254,253,251,282,255,264,298,288,252,247,273,245,257,256,255,218,251,262,253,247,240,259,242,238,276,246,222,265,224,245,240,252,243,238,265,226,270,260,246,270,256,250,271,259,249,277,278,275,288,282,286,284,306,292,297,286,336,294,307,269,339,300,319,327,298,325,360,330,331,341,374,376,332,367,360,367,347,329,362,371,372,361,401,366,377,380,412,377,389,393,417,405,419,409,434,408,389,376,377,393,398,388,436,454,450,398,414,416,430,402,418,391,409,393,442,412,358,412,416,401,372,432,392,389,402,398,388,399,384,368,379,383,365,362,391,360,411,372,330,354,373,352,316,302,334,339,326,296,326,320,344,317,337,300,299,339,286,261,290,279,238,265,281,290,281,264,252,256,264,241,244,256,221,262,235,244,234,240,234,239,205,225,206,201,218,196,191,163,210,179,200,188,172,185,188,188,159,173,154,183,154,168,150,147,148,143,134,161,142,148,135,125,135,131,122,118,120,121,108,96,101,103,116,98,102,88,83,97,87,93,75,83,81,84,79,84,73,81,63,63,60,74,83,62,68,78,61,63,62,50,48,50,57,40,48,52,54,47,37,46,33,47,41,36,40,26,37,38,26,37,21,34,26,35,25,39,33,31,25,23,19,25,30,25,15,22,20,20,26,19,15,23,19,22,18,19,15,17,19,25,23,11,16,12,15,16,19,7,11,13,12,7,12,13,12,8,13,11,12,12,5,10,10,14,6,9,11,10,12,4,10,15,12,4,4,7,4,8,6,9,2,4,3,5,4,7,2,1,7,2,4,4,5,4,4,6,2,1,2,5,5,5,4,5,2,2,1,7,3,1,2,3,0,2,2,1,2,4,1,1,2,3,1,1,2,2,0,2,4,1,1,0,2,1,2,1,0,2,0,0,1,1,2,1,1,0,1,1,1,0,0,2,0,1,1,1,1,2,1,1,0,0,1,0,0,0,1,0,1,2,2,1,1,0,1,1,0,1,1,0,0,0,1,0,2,0,1,1,1,0,0,0,1,0,0,0,1,1,0,0,1,0,0,0,0,0,0,0,1,0,0,0,0,1,0,0,1,0,0,0,1,1,0,0,1,0,0,1,1,0,0,1,1,1],\"p1\":896,\"v1\":[1,0,0,0,0,0,0,1,0,1,1,0,1,0,0,0,0,0,0,0,0,1,0,1,1,0,0,0,1],\"p2\":946,\"v2\":1,\"p3\":974,\"v3\":[1,1,0,0,0,0,0,1,0,0,0,0,0,0,0,0,1],\"p4\":1001,\"v4\":18}},{\"_typename\":\"TH1D\",\"fUniqueID\":0,\"fBits\":8,\"fName\":\"proj_BG\",\"fTitle\":\"hist_inv_mass_BG1 ( Projection X )\",\"fLineColor\":2,\"fLineStyle\":1,\"fLineWidth\":1,\"fFillColor\":0,\"fFillStyle\":1001,\"fMarkerColor\":1,\"fMarkerStyle\":1,\"fMarkerSize\":1,\"fNcells\":52,\"fXaxis\":{\"_typename\":\"TAxis\",\"fUniqueID\":0,\"fBits\":0,\"fName\":\"xaxis\",\"fTitle\":\"\",\"fNdivisions\":510,\"fAxisColor\":1,\"fLabelColor\":1,\"fLabelFont\":42,\"fLabelOffset\":0.005,\"fLabelSize\":0.035,\"fTickLength\":0.03,\"fTitleOffset\":1,\"fTitleSize\":0.035,\"fTitleColor\":1,\"fTitleFont\":42,\"fNbins\":50,\"fXmin\":0,\"fXmax\":1,\"fXbins\":[],\"fFirst\":1,\"fLast\":1000,\"fBits2\":0,\"fTimeDisplay\":false,\"fTimeFormat\":\"\",\"fLabels\":null,\"fModLabs\":null},\"fYaxis\":{\"_typename\":\"TAxis\",\"fUniqueID\":0,\"fBits\":0,\"fName\":\"yaxis\",\"fTitle\":\"\",\"fNdivisions\":510,\"fAxisColor\":1,\"fLabelColor\":1,\"fLabelFont\":42,\"fLabelOffset\":0.005,\"fLabelSize\":0.035,\"fTickLength\":0.03,\"fTitleOffset\":0,\"fTitleSize\":0.035,\"fTitleColor\":1,\"fTitleFont\":42,\"fNbins\":1,\"fXmin\":0,\"fXmax\":1,\"fXbins\":[],\"fFirst\":0,\"fLast\":0,\"fBits2\":0,\"fTimeDisplay\":false,\"fTimeFormat\":\"\",\"fLabels\":null,\"fModLabs\":null},\"fZaxis\":{\"_typename\":\"TAxis\",\"fUniqueID\":0,\"fBits\":0,\"fName\":\"zaxis\",\"fTitle\":\"\",\"fNdivisions\":510,\"fAxisColor\":1,\"fLabelColor\":1,\"fLabelFont\":42,\"fLabelOffset\":0.005,\"fLabelSize\":0.035,\"fTickLength\":0.03,\"fTitleOffset\":1,\"fTitleSize\":0.035,\"fTitleColor\":1,\"fTitleFont\":42,\"fNbins\":1,\"fXmin\":0,\"fXmax\":1,\"fXbins\":[],\"fFirst\":0,\"fLast\":0,\"fBits2\":0,\"fTimeDisplay\":false,\"fTimeFormat\":\"\",\"fLabels\":null,\"fModLabs\":null},\"fBarOffset\":0,\"fBarWidth\":1000,\"fEntries\":825848,\"fTsumw\":22163.8892145369,\"fTsumw2\":0,\"fTsumwx\":12176.8802762602,\"fTsumwx2\":8075.73059927911,\"fMaximum\":-1111,\"fMinimum\":-1111,\"fNormFactor\":0,\"fContour\":[],\"fSumw2\":{\"$arr\":\"Float64\",\"len\":52},\"fOption\":\"\",\"fFunctions\":{\"_typename\":\"TList\",\"name\":\"TList\",\"arr\":[],\"opt\":[]},\"fBufferSize\":0,\"fBuffer\":[],\"fBinStatErrOpt\":0,\"fStatOverflows\":2,\"fArray\":{\"$arr\":\"Float64\",\"len\":52,\"p\":1,\"v\":[13.4702813599062,59.7161781946073,109.127901524033,157.298124267292,194.170691676436,236.878311840563,265.929425556858,305.533294255568,333.591207502931,364.939097303634,388.77590855803,419.751348182884,459.541441969519,464.879894490035,494.427608440797,501.255861664713,521.181946072685,529.996600234467,540.23898007034,552.716060961313,563.641266119578,575.063071512309,573.511195779601,564.696541617819,567.738218053927,575.311371629543,551.847010550997,558.054513481829,556.068112543962,551.226260257913,535.024677608441,549.301934349355,529.748300117233,523.354572098476,514.353692848769,510.194665885111,515.098593200469,493.868933177022,493.496483001172,487.723505275498,469.659671746776,463.94876905041,451.161313012896,458.548241500586,451.099237983587,444.953810082063,441.539683470106,434.401055099648,427.510726846424,418.323622508792,29100.6495896835]}},{\"_typename\":\"TPaveText\",\"fUniqueID\":0,\"fBits\":9,\"fLineColor\":1,\"fLineStyle\":1,\"fLineWidth\":1,\"fFillColor\":0,\"fFillStyle\":0,\"fX1\":0.0624999934807416,\"fY1\":8771.16715212749,\"fX2\":0.937500006519258,\"fY2\":9409.24700267609,\"fX1NDC\":0.15,\"fY1NDC\":0.934306363149874,\"fX2NDC\":0.85,\"fY2NDC\":0.995000004768372,\"fBorderSize\":0,\"fInit\":1,\"fShadowColor\":1,\"fCornerRadius\":0,\"fOption\":\"blNDC\",\"fName\":\"title\",\"fTextAngle\":0,\"fTextSize\":0,\"fTextAlign\":22,\"fTextColor\":1,\"fTextFont\":42,\"fLabel\":\"\",\"fLongest\":34,\"fMargin\":0.05,\"fLines\":{\"_typename\":\"TList\",\"name\":\"TList\",\"arr\":[{\"_typename\":\"TLatex\",\"fUniqueID\":0,\"fBits\":0,\"fName\":\"\",\"fTitle\":\"hist_inv_mass_FG1 ( Projection X )\",\"fTextAngle\":0,\"fTextSize\":0,\"fTextAlign\":0,\"fTextColor\":0,\"fTextFont\":0,\"fX\":0,\"fY\":0,\"fLineColor\":1,\"fLineStyle\":1,\"fLineWidth\":2,\"fLimitFactorSize\":3,\"fOriginSize\":0.0460119321942329}],\"opt\":[\"\"]}},{\"_typename\":\"TStyle\",\"fUniqueID\":0,\"fBits\":0,\"fName\":\"Modern\",\"fTitle\":\"Modern Style\",\"fLineColor\":1,\"fLineStyle\":1,\"fLineWidth\":1,\"fFillColor\":19,\"fFillStyle\":1001,\"fMarkerColor\":1,\"fMarkerStyle\":1,\"fMarkerSize\":1,\"fTextAngle\":0,\"fTextSize\":0.05,\"fTextAlign\":11,\"fTextColor\":1,\"fTextFont\":62,\"fXaxis\":{\"_typename\":\"TAttAxis\",\"fNdivisions\":510,\"fAxisColor\":1,\"fLabelColor\":1,\"fLabelFont\":42,\"fLabelOffset\":0.005,\"fLabelSize\":0.035,\"fTickLength\":0.03,\"fTitleOffset\":1,\"fTitleSize\":0.035,\"fTitleColor\":1,\"fTitleFont\":42},\"fYaxis\":{\"_typename\":\"TAttAxis\",\"fNdivisions\":510,\"fAxisColor\":1,\"fLabelColor\":1,\"fLabelFont\":42,\"fLabelOffset\":0.005,\"fLabelSize\":0.035,\"fTickLength\":0.03,\"fTitleOffset\":0,\"fTitleSize\":0.035,\"fTitleColor\":1,\"fTitleFont\":42},\"fZaxis\":{\"_typename\":\"TAttAxis\",\"fNdivisions\":510,\"fAxisColor\":1,\"fLabelColor\":1,\"fLabelFont\":42,\"fLabelOffset\":0.005,\"fLabelSize\":0.035,\"fTickLength\":0.03,\"fTitleOffset\":1,\"fTitleSize\":0.035,\"fTitleColor\":1,\"fTitleFont\":42},\"fBarWidth\":1,\"fBarOffset\":0,\"fColorModelPS\":0,\"fDrawBorder\":0,\"fOptLogx\":0,\"fOptLogy\":0,\"fOptLogz\":0,\"fOptDate\":0,\"fOptStat\":1111,\"fOptTitle\":1,\"fOptFile\":0,\"fOptFit\":0,\"fShowEventStatus\":0,\"fShowEditor\":0,\"fShowToolBar\":0,\"fNumberContours\":20,\"fAttDate\":{\"_typename\":\"TAttText\",\"fTextAngle\":0,\"fTextSize\":0.025,\"fTextAlign\":11,\"fTextColor\":1,\"fTextFont\":62},\"fDateX\":0.01,\"fDateY\":0.01,\"fEndErrorSize\":2,\"fErrorX\":0.5,\"fFuncColor\":2,\"fFuncStyle\":1,\"fFuncWidth\":2,\"fGridColor\":0,\"fGridStyle\":3,\"fGridWidth\":1,\"fLegendBorderSize\":1,\"fLegendFillColor\":0,\"fLegendFont\":42,\"fLegendTextSize\":0,\"fHatchesLineWidth\":1,\"fHatchesSpacing\":1,\"fFrameFillColor\":0,\"fFrameLineColor\":1,\"fFrameFillStyle\":1001,\"fFrameLineStyle\":1,\"fFrameLineWidth\":1,\"fFrameBorderSize\":1,\"fFrameBorderMode\":0,\"fHistFillColor\":0,\"fHistLineColor\":602,\"fHistFillStyle\":1001,\"fHistLineStyle\":1,\"fHistLineWidth\":1,\"fHistMinimumZero\":false,\"fHistTopMargin\":0.05,\"fCanvasPreferGL\":false,\"fCanvasColor\":0,\"fCanvasBorderSize\":2,\"fCanvasBorderMode\":0,\"fCanvasDefH\":500,\"fCanvasDefW\":700,\"fCanvasDefX\":10,\"fCanvasDefY\":10,\"fPadColor\":0,\"fPadBorderSize\":2,\"fPadBorderMode\":0,\"fPadBottomMargin\":0.1,\"fPadTopMargin\":0.1,\"fPadLeftMargin\":0.1,\"fPadRightMargin\":0.1,\"fPadGridX\":false,\"fPadGridY\":false,\"fPadTickX\":0,\"fPadTickY\":0,\"fPaperSizeX\":20,\"fPaperSizeY\":26,\"fScreenFactor\":1,\"fStatColor\":0,\"fStatTextColor\":1,\"fStatBorderSize\":1,\"fStatFont\":42,\"fStatFontSize\":0,\"fStatStyle\":1001,\"fStatFormat\":\"6.4g\",\"fStatX\":0.98,\"fStatY\":0.935,\"fStatW\":0.2,\"fStatH\":0.16,\"fStripDecimals\":true,\"fTitleAlign\":23,\"fTitleColor\":0,\"fTitleTextColor\":1,\"fTitleBorderSize\":0,\"fTitleFont\":42,\"fTitleFontSize\":0.05,\"fTitleStyle\":0,\"fTitleX\":0.5,\"fTitleY\":0.995,\"fTitleW\":0,\"fTitleH\":0,\"fLegoInnerR\":0.5,\"fLineStyles\":[\"\",\"  \",\" 12 12\",\" 4 8\",\" 12 16 4 16\",\" 20 12 4 12\",\" 20 12 4 12 4 12 4 12\",\" 20 20\",\" 20 12 4 12 4 12\",\" 80 20\",\" 80 40 4 40\",\"  \",\"  \",\"  \",\"  \",\"  \",\"  \",\"  \",\"  \",\"  \",\"  \",\"  \",\"  \",\"  \",\"  \",\"  \",\"  \",\"  \",\"  \",\"  \"],\"fHeaderPS\":\"\",\"fTitlePS\":\"\",\"fFitFormat\":\"5.4g\",\"fPaintTextFormat\":\"g\",\"fLineScalePS\":3,\"fJoinLinePS\":0,\"fCapLinePS\":0,\"fTimeOffset\":788918400,\"fImageScaling\":1,\"fCandleWhiskerRange\":1,\"fCandleBoxRange\":0.5,\"fCandleScaled\":false,\"fViolinScaled\":true,\"fXAxisExpXOffset\":0,\"fXAxisExpYOffset\":0,\"fYAxisExpXOffset\":0,\"fYAxisExpYOffset\":0,\"fAxisMaxDigits\":5}],\"opt\":[\"\",\"\",\"same\",\"blNDC\",\"\"]},\"fExecs\":null,\"fName\":\"c1\",\"fTitle\":\"c1\",\"fNumPaletteColor\":0,\"fNextPaletteColor\":0,\"fDISPLAY\":\"$DISPLAY\",\"fDoubleBuffer\":0,\"fRetained\":true,\"fXsizeUser\":0,\"fYsizeUser\":0,\"fXsizeReal\":20,\"fYsizeReal\":20,\"fWindowTopX\":0,\"fWindowTopY\":0,\"fWindowWidth\":0,\"fWindowHeight\":0,\"fCw\":716,\"fCh\":692,\"fCatt\":{\"_typename\":\"TAttCanvas\",\"fXBetween\":2,\"fYBetween\":2,\"fTitleFromTop\":1.2,\"fXdate\":0.2,\"fYdate\":0.3,\"fAdate\":1},\"kMoveOpaque\":true,\"kResizeOpaque\":true,\"fHighLightColor\":2,\"fBatch\":true,\"kShowEventStatus\":false,\"kAutoExec\":true,\"kMenuBar\":true});\n",
       "   Core.settings.HandleKeys = false;\n",
       "   Core.draw(\"root_plot_1699447699307\", obj, \"\");\n",
       "}\n",
       "\n",
       "function script_load_root_plot_1699447699307(src, on_error) {\n",
       "    let script = document.createElement('script');\n",
       "    script.src = src;\n",
       "    script.onload = function() { display_root_plot_1699447699307(JSROOT); };\n",
       "    script.onerror = function() { script.remove(); on_error(); };\n",
       "    document.head.appendChild(script);\n",
       "}\n",
       "\n",
       "if (typeof requirejs !== 'undefined') {\n",
       "\n",
       "    // We are in jupyter notebooks, use require.js which should be configured already\n",
       "    requirejs.config({\n",
       "       paths: { 'JSRootCore' : [ 'build/jsroot', 'https://root.cern/js/7.2.1/build/jsroot', 'https://jsroot.gsi.de/7.2.1/build/jsroot' ] }\n",
       "    })(['JSRootCore'],  function(Core) {\n",
       "       display_root_plot_1699447699307(Core);\n",
       "    });\n",
       "\n",
       "} else if (typeof JSROOT !== 'undefined') {\n",
       "\n",
       "   // JSROOT already loaded, just use it\n",
       "   display_root_plot_1699447699307(JSROOT);\n",
       "\n",
       "} else {\n",
       "\n",
       "    // We are in jupyterlab without require.js, directly loading jsroot\n",
       "    // Jupyterlab might be installed in a different base_url so we need to know it.\n",
       "    try {\n",
       "        var base_url = JSON.parse(document.getElementById('jupyter-config-data').innerHTML).baseUrl;\n",
       "    } catch(_) {\n",
       "        var base_url = '/';\n",
       "    }\n",
       "\n",
       "    // Try loading a local version of requirejs and fallback to cdn if not possible.\n",
       "    script_load_root_plot_1699447699307(base_url + 'static/build/jsroot.js', function(){\n",
       "        console.error('Fail to load JSROOT locally, please check your jupyter_notebook_config.py file');\n",
       "        script_load_root_plot_1699447699307('https://root.cern/js/7.2.1/build/jsroot.js', function(){\n",
       "            document.getElementById(\"root_plot_1699447699307\").innerHTML = \"Failed to load JSROOT\";\n",
       "        });\n",
       "    });\n",
       "}\n",
       "\n",
       "</script>\n"
      ],
      "text/plain": [
       "<IPython.core.display.HTML object>"
      ]
     },
     "metadata": {},
     "output_type": "display_data"
    }
   ],
   "source": [
    "\n",
    "c1 = ROOT.TCanvas(\"c1\",\"c1\",720,720)\n",
    "hist = hist_inv_mass_FG.ProjectionX(\"proj\",1,39,1,59)\n",
    "hist_BG = hist_inv_mass_BG.ProjectionX(\"proj_BG\",1,39,1,59)\n",
    "hist.Draw()\n",
    "hist_BG.Scale(hist.Integral(hist.FindBin(0.2),hist.FindBin(0.25))/hist_BG.Integral(hist.FindBin(0.2),hist.FindBin(0.25)))\n",
    "hist_BG.SetLineColor(2)\n",
    "hist_BG.Rebin(20)\n",
    "hist_BG.Scale(1./20)\n",
    "hist_BG.Draw('same')\n",
    "\n",
    "integralFG = hist.Integral(hist.FindBin(0.10),hist.FindBin(0.18))\n",
    "integralBG = hist_BG.Integral(hist_BG.FindBin(0.10),hist_BG.FindBin(0.18))\n",
    "integral = (integralFG - integralBG)/Nev*1000\n",
    "print(integral, Nev)\n",
    "\n",
    "c1.Draw()\n",
    "c1.SaveAs(\"output/kek.png\")"
   ]
  },
  {
   "cell_type": "code",
   "execution_count": null,
   "metadata": {},
   "outputs": [],
   "source": []
  }
 ],
 "metadata": {
  "kernelspec": {
   "display_name": "Python 3",
   "language": "python",
   "name": "python3"
  },
  "language_info": {
   "codemirror_mode": {
    "name": "ipython",
    "version": 3
   },
   "file_extension": ".py",
   "mimetype": "text/x-python",
   "name": "python",
   "nbconvert_exporter": "python",
   "pygments_lexer": "ipython3",
   "version": "3.10.12"
  }
 },
 "nbformat": 4,
 "nbformat_minor": 4
}
