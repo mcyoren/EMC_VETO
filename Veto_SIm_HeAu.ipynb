{
 "cells": [
  {
   "cell_type": "markdown",
   "metadata": {},
   "source": [
    "import ipotrant libraries"
   ]
  },
  {
   "cell_type": "code",
   "execution_count": 1,
   "metadata": {},
   "outputs": [
    {
     "name": "stdout",
     "output_type": "stream",
     "text": [
      "Welcome to JupyROOT 6.29/01\n"
     ]
    }
   ],
   "source": [
    "import ROOT\n",
    "import math\n",
    "from array import array\n",
    "import numpy as np\n",
    "#from ROOT import gROOT, AddressOf\n",
    "import multiprocess as mp\n",
    "%jsroot on"
   ]
  },
  {
   "cell_type": "markdown",
   "metadata": {},
   "source": [
    "Set common variables"
   ]
  },
  {
   "cell_type": "code",
   "execution_count": 2,
   "metadata": {
    "ExecuteTime": {
     "end_time": "2023-06-06T13:48:15.019958422Z",
     "start_time": "2023-06-06T13:48:15.016818782Z"
    }
   },
   "outputs": [],
   "source": [
    "files_path = \"/home/yoren/bnl/PHENIX/Trees/\"\n",
    "file_names = [\"Trees_6M\",\"Tree_0\",\"Tree_1\",\"Tree_2\",\"Tree_3\",\"Trees_6M\",\"Trees_6M\",\"Trees_6M\",\"Trees_6M\",\"Trees_6M\",\"Trees_6M\",\"Trees_6M\",\"Trees_6M\",\"Tree_0\",\"Tree_1\",\"Tree_2\",\"Tree_3\"]\n",
    "treenames = [\"AnalysisTree\",\"AnalysisTreeEmbed\",\"AnalysisTreeEmbed\",\"AnalysisTreeEmbed\",\"AnalysisTreeEmbed\",\"AnalysisTree\",\"AnalysisTree\",\"AnalysisTree\",\"AnalysisTree\"\\\n",
    "             ,\"AnalysisTree\",\"AnalysisTree\",\"AnalysisTree\",\"AnalysisTree\",\"AnalysisTreeEmbed\",\"AnalysisTreeEmbed\",\"AnalysisTreeEmbed\",\"AnalysisTreeEmbed\"]\n",
    "outnames = [\"HeAu_sim_hists_orig\",\"HeAu_sim_hists_embed_0\",\"HeAu_sim_hists_embed_1\",\"HeAu_sim_hists_embed_2\",\"HeAu_sim_hists_embed_3\"\\\n",
    "            ,\"HeAu_sim_hists_6M_0\",\"HeAu_sim_hists_6M_1\",\"HeAu_sim_hists_6M_2\",\"HeAu_sim_hists_6M_3\"\\\n",
    "            ,\"HeAu_sim_hists_6M_sigma_0\",\"HeAu_sim_hists_6M_sigma_1\",\"HeAu_sim_hists_6M_sigma_2\",\"HeAu_sim_hists_6M_sigma_3\"\n",
    "            ,\"HeAu_sim_hists_6M_emcid_0\",\"HeAu_sim_hists_6M_emcid_1\",\"HeAu_sim_hists_6M_emcid_2\",\"HeAu_sim_hists_6M_emcid_3\"]\n",
    "E_def_core_cut = 0.500\n",
    "Chi2_def_cut = 3\n",
    "alpha_def_cut = 0.6\n",
    "distance_def_cut = 8\n",
    "\n",
    "Ntr = 4\n",
    "Option = 5\n",
    "IfWriteHists = True"
   ]
  },
  {
   "cell_type": "code",
   "execution_count": 3,
   "metadata": {},
   "outputs": [],
   "source": [
    "class photon:\n",
    "  def __init__(self, i, E, x, y, z, vertex, arm, sec, chi2, id):\n",
    "    self.i = i\n",
    "    self.E = E\n",
    "    self.x = x\n",
    "    self.y = y\n",
    "    self.z = z\n",
    "    self.vertex = vertex\n",
    "    self.arm = arm\n",
    "    self.sec = sec\n",
    "    self.chi2 = chi2\n",
    "    self.id = id\n",
    "    self.r = (self.x**2+self.y**2+(self.z-self.vertex)**2)**0.5+0.001\n",
    "    self.px = self.E * self.x / self.r\n",
    "    self.py = self.E * self.y / self.r\n",
    "    self.pz = self.E * (self.z-self.vertex) / self.r\n",
    "    self.pt = (self.px**2+self.py**2)**0.5\n",
    "\n",
    "  def __str__(self):\n",
    "    return f\"i={self.i}, px={round(self.px,1)}, py={round(self.py,1)}, pz={round(self.pz,1)}, \\\n",
    "    pt={round(self.pt,1)}, E={round(self.E,1)}, x={round(self.x,1)}, y={round(self.y,1)}, z={round(self.z,1)}, \\\n",
    "      arm={self.arm}, sec={self.sec}, chi2={round(self.chi2,1)}, id={self.id}\""
   ]
  },
  {
   "cell_type": "code",
   "execution_count": 4,
   "metadata": {},
   "outputs": [],
   "source": [
    "class hadron:\n",
    "  def __init__(self, i, x, y, z, id):\n",
    "    self.i = i\n",
    "    self.x = x\n",
    "    self.y = y\n",
    "    self.z = z\n",
    "    self.id = id\n",
    "\n",
    "  def __str__(self):\n",
    "    return f\"i={self.i}, x={self.x}, y={self.y}, z={self.z}, id={self.id}\""
   ]
  },
  {
   "cell_type": "markdown",
   "metadata": {},
   "source": [
    "Define structures"
   ]
  },
  {
   "cell_type": "code",
   "execution_count": 5,
   "metadata": {},
   "outputs": [],
   "source": [
    "def is_photon_good(photon):\n",
    "    if photon.E > E_def_core_cut and photon.chi2 < Chi2_def_cut: return True\n",
    "    return False"
   ]
  },
  {
   "cell_type": "code",
   "execution_count": 6,
   "metadata": {},
   "outputs": [],
   "source": [
    "def is_hadron_good(hadron):\n",
    "    if hadron.x<-900 or hadron.y<-900 or hadron.z<-900: return False\n",
    "    return True"
   ]
  },
  {
   "cell_type": "code",
   "execution_count": 7,
   "metadata": {},
   "outputs": [],
   "source": [
    "def alpha(photon1, photon2):\n",
    "    alpha = abs(photon1.E-photon2.E)/(photon1.E+photon2.E)\n",
    "    return alpha"
   ]
  },
  {
   "cell_type": "code",
   "execution_count": 8,
   "metadata": {},
   "outputs": [],
   "source": [
    "def Distance(photon1, photon2):\n",
    "    Distance = ((photon1.x-photon2.x)**2+(photon1.y-photon2.y)**2+(photon1.z-photon2.z)**2)**0.5\n",
    "    return Distance"
   ]
  },
  {
   "cell_type": "code",
   "execution_count": 9,
   "metadata": {},
   "outputs": [],
   "source": [
    "def is_pair_good(photon1, photon2):\n",
    "    if photon1.arm == photon2.arm and abs(photon1.sec-photon2.sec) < 2: \n",
    "        if alpha(photon1, photon2) < alpha_def_cut and Distance(photon1, photon2) > distance_def_cut: return True\n",
    "    return False"
   ]
  },
  {
   "cell_type": "code",
   "execution_count": 10,
   "metadata": {},
   "outputs": [],
   "source": [
    "def inv_mass(photon1, photon2):\n",
    "    e1, px1, py1, pz1 = photon1.E, photon1.px, photon1.py, photon1.pz\n",
    "    e2, px2, py2, pz2 = photon2.E, photon2.px, photon2.py, photon2.pz\n",
    "    m2 = (e1+e2)**2 - (px1+px2)**2 - (py1+py2)**2 - (pz1+pz2)**2\n",
    "    if m2<0: return 0\n",
    "    return math.sqrt(m2)"
   ]
  },
  {
   "cell_type": "code",
   "execution_count": 11,
   "metadata": {},
   "outputs": [],
   "source": [
    "centrality_suffix=[\"0-20%\",\"20-40%\",\"40-60%\",\"60-88%\"]\n",
    "dphi_mean_fits_name, dphi_sigma_fits_name = \"fit_mean_functions_emc_min_r_dphi_\", \"fit_functions_sigma_emc_min_r_dphi_\"\n",
    "dzed_mean_fits_name, dzed_sigma_fits_name = \"fit_mean_functions_emc_min_r_dz_\", \"fit_functions_sigma_emc_min_r_dz_\"\n",
    "inFileFuncs = ROOT.TFile.Open(\"input/HeAu_emcid.root\",\"read\")\n",
    "Opt_par = (Option-1)%4\n",
    "dphi_mean_fits, dphi_sigma_fits = inFileFuncs.Get(dphi_mean_fits_name+centrality_suffix[Opt_par]), inFileFuncs.Get(dphi_sigma_fits_name+centrality_suffix[Opt_par])\n",
    "dzed_mean_fits, dzed_sigma_fits = inFileFuncs.Get(dzed_mean_fits_name+centrality_suffix[Opt_par]), inFileFuncs.Get(dzed_sigma_fits_name+centrality_suffix[Opt_par])"
   ]
  },
  {
   "cell_type": "code",
   "execution_count": 12,
   "metadata": {},
   "outputs": [],
   "source": [
    "class real_event:\n",
    "  \n",
    "  def __init__(self,N_hadrons):\n",
    "    self.N_hadrons = N_hadrons\n",
    "    self.hadron = []\n",
    "  \n",
    "  def __str__(self):\n",
    "    return f\"N_hadrons = {self.N_hadrons}\"\n",
    "  \n",
    "  def add_hadron(self, hadron):\n",
    "    self.hadron.append(hadron)\n",
    "  \n",
    "  def set_N_good_hadrons(self):\n",
    "    self.N_hadrons = len(self.hadron)"
   ]
  },
  {
   "cell_type": "code",
   "execution_count": 13,
   "metadata": {},
   "outputs": [],
   "source": [
    "def get_real_events(ii, jj):\n",
    "    inFileCharged = ROOT.TFile.Open(\"input/tracks_new.root\",\"read\")\n",
    "    tree_real_event = inFileCharged.Get(f\"TracksTree{(ii-5)%4+1}\")\n",
    "    N_real_ev = tree_real_event.GetEntries()\n",
    "    my_real_events=[]\n",
    "    #def get_real_event(tree_real_event, ievent):\n",
    "    my_real_events=[]\n",
    "    for iev in range(int(N_real_ev*jj/Ntr),int(N_real_ev*(jj+1)/Ntr)):\n",
    "        tree_real_event.GetEntry(iev)\n",
    "        ev = tree_real_event\n",
    "        N_ch = len(ev.trk_emc_x)\n",
    "        my_real_event = real_event(N_ch)\n",
    "        for ihadron in range(N_ch):\n",
    "            my_real_hadron = hadron(0,ev.trk_emc_x[ihadron],ev.trk_emc_y[ihadron],ev.trk_emc_z[ihadron],ev.trk_emc_id[ihadron])\n",
    "            if is_hadron_good(my_real_hadron):\n",
    "                my_real_event.add_hadron(my_real_hadron)\n",
    "        my_real_event.set_N_good_hadrons()\n",
    "        my_real_events.append(my_real_event)\n",
    "        iev+=1\n",
    "\n",
    "    return my_real_events, int(N_real_ev/Ntr)"
   ]
  },
  {
   "cell_type": "code",
   "execution_count": 14,
   "metadata": {},
   "outputs": [],
   "source": [
    "def is_charged_vetoed(photon, event, r_cut=3):\n",
    "    r_min = 50\n",
    "    for hadron in event.hadron:\n",
    "        dphi = math.atan2(photon.y, photon.x) - math.atan2(hadron.y, hadron.x)\n",
    "        dzed = photon.z - hadron.z\n",
    "        pt = photon.pt\n",
    "        if pt<0.5: pt = 0.5\n",
    "        if pt>15: pt =15\n",
    "        sdphi = (dphi - dphi_mean_fits.Eval(pt))/dphi_sigma_fits.Eval(pt)\n",
    "        sdzed = (dzed - dzed_mean_fits.Eval(pt))/dzed_sigma_fits.Eval(pt)\n",
    "        r = (sdphi**2+sdzed**2)**0.5\n",
    "        if r < r_cut: return True\n",
    "        #if r < r_min: r_min = r\n",
    "    #if r_min < 25: return True\n",
    "    return False"
   ]
  },
  {
   "cell_type": "code",
   "execution_count": 15,
   "metadata": {},
   "outputs": [],
   "source": [
    "def is_charged_vetoed_sigma(photon, event):\n",
    "    for hadron in event.hadron:\n",
    "        dphi = math.atan2(photon.y, photon.x) - math.atan2(hadron.y, hadron.x)\n",
    "        dzed = photon.z - hadron.z\n",
    "        pt = photon.pt\n",
    "        if pt<0.5: pt = 0.5\n",
    "        if pt>15: pt =15\n",
    "        sdphi = (dphi - dphi_mean_fits.Eval(photon.pt))/dphi_sigma_fits.Eval(photon.pt)\n",
    "        sdzed = (dzed - dzed_mean_fits.Eval(photon.pt))/dzed_sigma_fits.Eval(photon.pt)\n",
    "    \n",
    "        if abs(sdphi) < 2 or abs(sdzed) < 2 : return True\n",
    "    return False"
   ]
  },
  {
   "cell_type": "code",
   "execution_count": 16,
   "metadata": {},
   "outputs": [],
   "source": [
    "def is_charged_vetoed_emcid(photon, event):\n",
    "    for hadron in event.hadron:\n",
    "        if photon.id == hadron.id and photon.id > 0: return True\n",
    "    return False"
   ]
  },
  {
   "cell_type": "code",
   "execution_count": 17,
   "metadata": {},
   "outputs": [],
   "source": [
    "def is_photon_not_vetoed(photon, event, event_real):\n",
    "    if   Option<5: return True\n",
    "    elif Option<9  and not is_charged_vetoed(photon, event) and not is_charged_vetoed(photon, event_real): return True\n",
    "    elif Option<13 and not is_charged_vetoed(photon, event) and not is_charged_vetoed_sigma(photon, event_real): return True\n",
    "    elif Option<17 and not is_charged_vetoed(photon, event) and not is_charged_vetoed_emcid(photon, event_real): return True\n",
    "    else: return False"
   ]
  },
  {
   "cell_type": "code",
   "execution_count": 18,
   "metadata": {},
   "outputs": [],
   "source": [
    "class event:\n",
    "  \n",
    "  def __init__(self, i, N_photons, N_hadrons, vertex):\n",
    "    self.i = i\n",
    "    self.N_photons = N_photons\n",
    "    self.N_hadrons = N_hadrons\n",
    "    self.vertex = vertex\n",
    "    self.N_good_photons = self.N_photons\n",
    "    self.N_good_hadrons = self.N_hadrons\n",
    "    self.photon = []\n",
    "    self.hadron = []\n",
    "    self.m_inv = []  \n",
    "  \n",
    "  def __str__(self):\n",
    "    return f\"i = {self.i}, vertex = {round(self.vertex)}, N_photons = {self.N_photons}, N_hadrons = {self.N_hadrons}, N_good_photons = {self.N_good_photons}, N_good_hadrons = {self.N_good_hadrons}\"\n",
    "  \n",
    "  def add_hadron(self, hadron):\n",
    "    self.hadron.append(hadron)\n",
    "\n",
    "  def add_photon(self, photon):\n",
    "    self.photon.append(photon)\n",
    "  \n",
    "  def set_N_good_photons(self):\n",
    "    self.N_good_photons = len(self.photon)\n",
    "  \n",
    "  def set_N_good_hadrons(self):\n",
    "    self.N_good_hadrons = len(self.hadron)\n",
    "  \n",
    "  def get_inv_masses(self):\n",
    "    for iphoton1 in range(min(self.N_good_photons,200)):\n",
    "      for iphoton2 in range(iphoton1+1,min(self.N_good_photons,200)):\n",
    "        photon1 = self.photon[iphoton1]\n",
    "        photon2 = self.photon[iphoton2]\n",
    "        if is_pair_good(photon1,photon2):\n",
    "          self.m_inv.append([inv_mass(photon1,photon2), photon1.pt + photon2.pt, self.vertex])\n",
    "    return self.m_inv"
   ]
  },
  {
   "cell_type": "markdown",
   "metadata": {},
   "source": [
    "Create TTree creator"
   ]
  },
  {
   "cell_type": "code",
   "execution_count": 19,
   "metadata": {},
   "outputs": [],
   "source": [
    "class pool:\n",
    "  \n",
    "  def __init__(self, depth, VTX):\n",
    "    self.depth = depth\n",
    "    self.VTX = VTX\n",
    "    self.N_events = [0]*(len(self.VTX)-1)\n",
    "    self.photons_in_event = [ [] for _ in range(len(self.VTX)-1)]\n",
    "    self.m_inv = []  \n",
    "  \n",
    "  def __str__(self):\n",
    "    return f\"depth = {self.depth}\"\n",
    "  \n",
    "\n",
    "  def add_photons(self, event):\n",
    "    for i in range(len(self.N_events)):\n",
    "      if(event.vertex> self.VTX[i], event.vertex < self.VTX[i+1]): \n",
    "        self.N_events[i]+=1\n",
    "        self.photons_in_event[i].append(event.photon)\n",
    "\n",
    "  \n",
    "  def get_inv_masses(self):\n",
    "    is_filled = False\n",
    "    for iev in range(len(self.N_events)):\n",
    "      if self.N_events[iev]>=self.depth:\n",
    "        self.m_inv = []\n",
    "        is_filled = True\n",
    "        for iphoton1 in range(len(self.photons_in_event[iev][0])):\n",
    "          for second_event in range(1,self.depth):\n",
    "            for iphoton2 in range(len(self.photons_in_event[iev][second_event])):\n",
    "              photon1 = self.photons_in_event[iev][0][iphoton1]\n",
    "              photon2 = self.photons_in_event[iev][second_event][iphoton2]\n",
    "              if is_pair_good(photon1,photon2):\n",
    "                self.m_inv.append([inv_mass(photon1,photon2), photon1.pt + photon2.pt, 0.5*(photon1.vertex + photon2.vertex)])\n",
    "        self.N_events[iev] = self.depth-1\n",
    "        self.photons_in_event[iev].pop(0)\n",
    "    if is_filled: return self.m_inv\n",
    "    else: return []\n"
   ]
  },
  {
   "cell_type": "markdown",
   "metadata": {},
   "source": [
    "Create file reader"
   ]
  },
  {
   "cell_type": "code",
   "execution_count": 20,
   "metadata": {},
   "outputs": [],
   "source": [
    "def hist_creator(nameFG = \"hist_inv_mass_FG\", nameBG = \"hist_inv_mass_BG\", nameP = \"hist_pt_orig\"):\n",
    "    hist_inv_mass_FG = ROOT.TH3D(nameFG,nameFG,1000,0,1,40,0,20,60,-30,30)\n",
    "    hist_inv_mass_FG.SetDirectory(ROOT.nullptr)\n",
    "    hist_inv_mass_BG = ROOT.TH3D(nameBG,nameBG,1000,0,1,40,0,20,60,-30,30)\n",
    "    hist_inv_mass_BG.SetDirectory(ROOT.nullptr)\n",
    "    hist_pt_orig = ROOT.TH2D(nameP,nameP,40,0,20,60,-30,30)\n",
    "    hist_pt_orig.SetDirectory(ROOT.nullptr)\n",
    "\n",
    "    return [hist_inv_mass_FG, hist_inv_mass_BG, hist_pt_orig]"
   ]
  },
  {
   "cell_type": "code",
   "execution_count": 21,
   "metadata": {},
   "outputs": [],
   "source": [
    "def main_func(ii, Ntr, jj):\n",
    "\n",
    "    [hist_inv_mass_FG, hist_inv_mass_BG, hist_pt_orig] = hist_creator(f\"hist_inv_mass_FG{ii}\", f\"hist_inv_mass_BG{ii}\", f\"hist_pt_orig{ii}\")\n",
    "    inFile = ROOT.TFile.Open(files_path+file_names[ii]+'.root',\"read\")\n",
    "    if Option>4: my_real_events, N_real_ev = get_real_events(ii,jj)\n",
    "    else: my_real_events, N_real_ev = [[]], 1\n",
    "    tree_read_event = inFile.Get(treenames[ii])\n",
    "    Nev = tree_read_event.GetEntries()\n",
    "    Low, High = int(Nev/Ntr*jj), int(Nev/Ntr*(jj+1))\n",
    "    print(Nev)\n",
    "    \n",
    "    my_pool = pool(3,[-30,-8,8, 30])\n",
    "    for ievent in range(Low,High):\n",
    "        tree_read_event.GetEntry(ievent)\n",
    "        ev = tree_read_event\n",
    "        my_event  = event(ievent, ev.n_gammas, ev.n_charged, ev.bbc_vertex)    \n",
    "        hist_pt_orig.Fill((ev.p_orig[0]**2+ev.p_orig[1]**2)**0.5,ev.bbc_vertex)\n",
    "        \n",
    "        for ihadron in range(ev.n_charged):\n",
    "            my_hadron = hadron(ihadron,ev.trk_emcxs[ihadron],ev.trk_emcys[ihadron],ev.trk_emczs[ihadron],ev.trk_ids[ihadron])\n",
    "            if is_hadron_good(my_hadron):\n",
    "                my_event.add_hadron(my_hadron)\n",
    "        my_event.set_N_good_hadrons()\n",
    "        \n",
    "        for iphoton in range(my_event.N_photons):\n",
    "            my_photon = photon(iphoton, ev.g_es[iphoton], ev.g_xs[iphoton], ev.g_ys[iphoton], ev.g_zs[iphoton], ev.bbc_vertex, ev.g_arms[iphoton], ev.g_secs[iphoton], ev.g_chi2s[iphoton], ev.g_ids[iphoton])\n",
    "            #my_real_event = get_real_event(tree_real_event,ievent%N_real_ev)\n",
    "            if is_photon_good(my_photon) and is_photon_not_vetoed(my_photon, my_event, my_real_events[ievent%N_real_ev]):\n",
    "                my_event.add_photon(my_photon)\n",
    "        my_event.set_N_good_photons()\n",
    "        if my_event.N_good_photons>0: my_pool.add_photons(my_event)\n",
    "        \n",
    "        my_inv_masses = my_event.get_inv_masses()\n",
    "        my_inv_masses_bg = my_pool.get_inv_masses()\n",
    "        for my_inv_mass in my_inv_masses:\n",
    "            hist_inv_mass_FG.Fill(my_inv_mass[0],my_inv_mass[1],my_inv_mass[2])\n",
    "        for my_inv_mass_bg in my_inv_masses_bg:\n",
    "            hist_inv_mass_BG.Fill(my_inv_mass_bg[0],my_inv_mass_bg[1],my_inv_mass_bg[2])\n",
    "\n",
    "    inFile.Close()\n",
    "    print(\"all good\", Low, High)\n",
    "\n",
    "    return [hist_inv_mass_FG, hist_inv_mass_BG, hist_pt_orig, High-Low]"
   ]
  },
  {
   "cell_type": "code",
   "execution_count": 22,
   "metadata": {},
   "outputs": [
    {
     "name": "stdout",
     "output_type": "stream",
     "text": [
      "[(5, 4, 0), (5, 4, 1), (5, 4, 2), (5, 4, 3)]\n"
     ]
    },
    {
     "name": "stdout",
     "output_type": "stream",
     "text": [
      "5990000\n",
      "5990000\n",
      "5990000\n",
      "5990000\n",
      "all good 4492500 5990000\n",
      "all good 0 1497500\n",
      "all good 2995000 4492500\n",
      "all good 1497500 2995000\n"
     ]
    }
   ],
   "source": [
    "params = [(Option, Ntr, i) for i in range(Ntr)]\n",
    "print(params)\n",
    "pool = mp.Pool(Ntr)\n",
    "output_array = pool.starmap(main_func, params)\n",
    "pool.close()"
   ]
  },
  {
   "cell_type": "code",
   "execution_count": 23,
   "metadata": {},
   "outputs": [],
   "source": [
    "[hist_inv_mass_FG, hist_inv_mass_BG, hist_pt_orig, Nev] = [output_array[0][0], output_array[0][1], output_array[0][2], output_array[0][3]]\n",
    "for i in range(1, len(output_array)):\n",
    "    hist_inv_mass_FG.Add(output_array[i][0])\n",
    "    hist_inv_mass_BG.Add(output_array[i][1])\n",
    "    hist_pt_orig.Add(output_array[i][2])\n",
    "    Nev+=output_array[i][3]"
   ]
  },
  {
   "cell_type": "code",
   "execution_count": 24,
   "metadata": {},
   "outputs": [
    {
     "name": "stdout",
     "output_type": "stream",
     "text": [
      "input/HeAu_sim_hists_6M_0.root\n"
     ]
    }
   ],
   "source": [
    "if IfWriteHists:\n",
    "    FileOut = ROOT.TFile(\"input/\"+outnames[Option]+\".root\",\"recreate\")\n",
    "    print(\"input/\"+outnames[Option]+\".root\")\n",
    "    hist_inv_mass_FG.Write()\n",
    "    hist_inv_mass_BG.Write()\n",
    "    hist_pt_orig.Write()\n",
    "    FileOut.Close()"
   ]
  },
  {
   "cell_type": "code",
   "execution_count": 25,
   "metadata": {},
   "outputs": [
    {
     "name": "stdout",
     "output_type": "stream",
     "text": [
      "105.79320992514731 5990000\n"
     ]
    },
    {
     "name": "stderr",
     "output_type": "stream",
     "text": [
      "Info in <TCanvas::Print>: png file output/kek.png has been created\n"
     ]
    },
    {
     "data": {
      "text/html": [
       "\n",
       "\n",
       "<div id=\"root_plot_1699719540700\"\n",
       "     style=\"width: 716px; height: 692px\">\n",
       "</div>\n",
       "<script>\n",
       "\n",
       "function display_root_plot_1699719540700(Core) {\n",
       "   let obj = Core.parse({\"_typename\":\"TCanvas\",\"fUniqueID\":0,\"fBits\":3342344,\"fLineColor\":1,\"fLineStyle\":1,\"fLineWidth\":1,\"fFillColor\":0,\"fFillStyle\":1001,\"fLeftMargin\":0.1,\"fRightMargin\":0.1,\"fBottomMargin\":0.1,\"fTopMargin\":0.1,\"fXfile\":2,\"fYfile\":2,\"fAfile\":1,\"fXstat\":0.99,\"fYstat\":0.99,\"fAstat\":2,\"fFrameFillColor\":0,\"fFrameLineColor\":1,\"fFrameFillStyle\":1001,\"fFrameLineStyle\":1,\"fFrameLineWidth\":1,\"fFrameBorderSize\":1,\"fFrameBorderMode\":0,\"fX1\":-0.125000009313226,\"fY1\":-3327.31899790458,\"fX2\":1.12500000931323,\"fY2\":29945.8689979046,\"fXtoAbsPixelk\":71.6000542676928,\"fXtoPixelk\":71.6000542676928,\"fXtoPixel\":572.799991464615,\"fYtoAbsPixelk\":622.800045875358,\"fYtoPixelk\":622.800045875358,\"fYtoPixel\":-0.0207975262270378,\"fUtoAbsPixelk\":5e-5,\"fUtoPixelk\":5e-5,\"fUtoPixel\":716,\"fVtoAbsPixelk\":692.00005,\"fVtoPixelk\":692,\"fVtoPixel\":-692,\"fAbsPixeltoXk\":-0.125000009313226,\"fPixeltoXk\":-0.125000009313226,\"fPixeltoX\":0.00174581008188052,\"fAbsPixeltoYk\":29945.8689979046,\"fPixeltoYk\":-3327.31899790458,\"fPixeltoY\":-48.082641612441,\"fXlowNDC\":0,\"fYlowNDC\":0,\"fXUpNDC\":1,\"fYUpNDC\":1,\"fWNDC\":1,\"fHNDC\":1,\"fAbsXlowNDC\":0,\"fAbsYlowNDC\":0,\"fAbsWNDC\":1,\"fAbsHNDC\":1,\"fUxmin\":0,\"fUymin\":0,\"fUxmax\":1,\"fUymax\":26618.55,\"fTheta\":30,\"fPhi\":30,\"fAspectRatio\":0,\"fNumber\":0,\"fTickx\":0,\"fTicky\":0,\"fLogx\":0,\"fLogy\":0,\"fLogz\":0,\"fPadPaint\":0,\"fCrosshair\":0,\"fCrosshairPos\":0,\"fBorderSize\":2,\"fBorderMode\":0,\"fModified\":false,\"fGridx\":false,\"fGridy\":false,\"fAbsCoord\":false,\"fEditable\":true,\"fFixedAspectRatio\":false,\"fPrimitives\":{\"_typename\":\"TList\",\"name\":\"TList\",\"arr\":[{\"_typename\":\"TFrame\",\"fUniqueID\":0,\"fBits\":8,\"fLineColor\":1,\"fLineStyle\":1,\"fLineWidth\":1,\"fFillColor\":0,\"fFillStyle\":1001,\"fX1\":0,\"fY1\":0,\"fX2\":1,\"fY2\":26618.55,\"fBorderSize\":1,\"fBorderMode\":0},{\"_typename\":\"TH1D\",\"fUniqueID\":0,\"fBits\":8,\"fName\":\"proj\",\"fTitle\":\"hist_inv_mass_FG5 ( Projection X )\",\"fLineColor\":602,\"fLineStyle\":1,\"fLineWidth\":1,\"fFillColor\":0,\"fFillStyle\":1001,\"fMarkerColor\":1,\"fMarkerStyle\":1,\"fMarkerSize\":1,\"fNcells\":1002,\"fXaxis\":{\"_typename\":\"TAxis\",\"fUniqueID\":0,\"fBits\":0,\"fName\":\"xaxis\",\"fTitle\":\"\",\"fNdivisions\":510,\"fAxisColor\":1,\"fLabelColor\":1,\"fLabelFont\":42,\"fLabelOffset\":0.005,\"fLabelSize\":0.035,\"fTickLength\":0.03,\"fTitleOffset\":1,\"fTitleSize\":0.035,\"fTitleColor\":1,\"fTitleFont\":42,\"fNbins\":1000,\"fXmin\":0,\"fXmax\":1,\"fXbins\":[],\"fFirst\":0,\"fLast\":0,\"fBits2\":0,\"fTimeDisplay\":false,\"fTimeFormat\":\"\",\"fLabels\":null,\"fModLabs\":null},\"fYaxis\":{\"_typename\":\"TAxis\",\"fUniqueID\":0,\"fBits\":0,\"fName\":\"yaxis\",\"fTitle\":\"\",\"fNdivisions\":510,\"fAxisColor\":1,\"fLabelColor\":1,\"fLabelFont\":42,\"fLabelOffset\":0.005,\"fLabelSize\":0.035,\"fTickLength\":0.03,\"fTitleOffset\":0,\"fTitleSize\":0.035,\"fTitleColor\":1,\"fTitleFont\":42,\"fNbins\":1,\"fXmin\":0,\"fXmax\":1,\"fXbins\":[],\"fFirst\":0,\"fLast\":0,\"fBits2\":0,\"fTimeDisplay\":false,\"fTimeFormat\":\"\",\"fLabels\":null,\"fModLabs\":null},\"fZaxis\":{\"_typename\":\"TAxis\",\"fUniqueID\":0,\"fBits\":0,\"fName\":\"zaxis\",\"fTitle\":\"\",\"fNdivisions\":510,\"fAxisColor\":1,\"fLabelColor\":1,\"fLabelFont\":42,\"fLabelOffset\":0.005,\"fLabelSize\":0.035,\"fTickLength\":0.03,\"fTitleOffset\":1,\"fTitleSize\":0.035,\"fTitleColor\":1,\"fTitleFont\":42,\"fNbins\":1,\"fXmin\":0,\"fXmax\":1,\"fXbins\":[],\"fFirst\":0,\"fLast\":0,\"fBits2\":0,\"fTimeDisplay\":false,\"fTimeFormat\":\"\",\"fLabels\":null,\"fModLabs\":null},\"fBarOffset\":0,\"fBarWidth\":1000,\"fEntries\":742725,\"fTsumw\":742723,\"fTsumw2\":742723,\"fTsumwx\":111704.4315,\"fTsumwx2\":20307.20948275,\"fMaximum\":-1111,\"fMinimum\":-1111,\"fNormFactor\":0,\"fContour\":[],\"fSumw2\":[],\"fOption\":\"\",\"fFunctions\":{\"_typename\":\"TList\",\"name\":\"TList\",\"arr\":[{\"_typename\":\"TPaveStats\",\"fUniqueID\":0,\"fBits\":9,\"fLineColor\":1,\"fLineStyle\":1,\"fLineWidth\":1,\"fFillColor\":0,\"fFillStyle\":1001,\"fX1\":0.850000025331974,\"fY1\":22459.4018971712,\"fX2\":1.10000003278256,\"fY2\":27783.1118575064,\"fX1NDC\":0.780000016093254,\"fY1NDC\":0.775000005960464,\"fX2NDC\":0.980000019073486,\"fY2NDC\":0.935000002384186,\"fBorderSize\":1,\"fInit\":1,\"fShadowColor\":1,\"fCornerRadius\":0,\"fOption\":\"brNDC\",\"fName\":\"stats\",\"fTextAngle\":0,\"fTextSize\":0,\"fTextAlign\":12,\"fTextColor\":1,\"fTextFont\":42,\"fLabel\":\"\",\"fLongest\":19,\"fMargin\":0.05,\"fLines\":{\"_typename\":\"TList\",\"name\":\"TList\",\"arr\":[{\"_typename\":\"TLatex\",\"fUniqueID\":0,\"fBits\":0,\"fName\":\"\",\"fTitle\":\"proj\",\"fTextAngle\":0,\"fTextSize\":0.0368,\"fTextAlign\":0,\"fTextColor\":0,\"fTextFont\":0,\"fX\":0,\"fY\":0,\"fLineColor\":1,\"fLineStyle\":1,\"fLineWidth\":2,\"fLimitFactorSize\":3,\"fOriginSize\":0.0367999991774559},{\"_typename\":\"TLatex\",\"fUniqueID\":0,\"fBits\":0,\"fName\":\"\",\"fTitle\":\"Entries = 742725 \",\"fTextAngle\":0,\"fTextSize\":0,\"fTextAlign\":0,\"fTextColor\":0,\"fTextFont\":0,\"fX\":0,\"fY\":0,\"fLineColor\":1,\"fLineStyle\":1,\"fLineWidth\":2,\"fLimitFactorSize\":3,\"fOriginSize\":0.0236550234258175},{\"_typename\":\"TLatex\",\"fUniqueID\":0,\"fBits\":0,\"fName\":\"\",\"fTitle\":\"Mean  = 0.1504\",\"fTextAngle\":0,\"fTextSize\":0,\"fTextAlign\":0,\"fTextColor\":0,\"fTextFont\":0,\"fX\":0,\"fY\":0,\"fLineColor\":1,\"fLineStyle\":1,\"fLineWidth\":2,\"fLimitFactorSize\":3,\"fOriginSize\":0.0236550234258175},{\"_typename\":\"TLatex\",\"fUniqueID\":0,\"fBits\":0,\"fName\":\"\",\"fTitle\":\"Std Dev   = 0.06872\",\"fTextAngle\":0,\"fTextSize\":0,\"fTextAlign\":0,\"fTextColor\":0,\"fTextFont\":0,\"fX\":0,\"fY\":0,\"fLineColor\":1,\"fLineStyle\":1,\"fLineWidth\":2,\"fLimitFactorSize\":3,\"fOriginSize\":0.0236550234258175}],\"opt\":[\"\",\"\",\"\",\"\"]},\"fOptFit\":0,\"fOptStat\":1111,\"fFitFormat\":\"5.4g\",\"fStatFormat\":\"6.4g\",\"fParent\":{\"$ref\":3}}],\"opt\":[\"brNDC\"]},\"fBufferSize\":0,\"fBuffer\":[],\"fBinStatErrOpt\":0,\"fStatOverflows\":2,\"fArray\":{\"$arr\":\"Float64\",\"len\":1002,\"p\":8,\"v\":[1,7,25,29,47,76,102,103,107,135,131,147,139,152,193,206,195,225,233,242,251,299,321,351,342,353,394,426,409,465,452,494,493,507,495,514,550,540,553,559,542,624,618,606,677,625,648,609,618,615,610,636,648,707,662,694,650,688,686,646,718,718,716,733,687,725,698,758,707,712,735,746,707,735,757,722,759,749,700,761,790,733,741,827,809,779,843,772,823,839,884,915,893,973,969,972,1014,1008,1080,1081,1132,1165,1287,1335,1423,1509,1649,1824,1999,2277,2542,2924,3244,3792,4389,5258,6111,7230,8515,9831,11552,13329,14736,16610,18698,20045,21794,23152,23989,24534,25351,24977,24861,24580,23389,22848,21606,20269,18826,17604,16041,14794,13553,11950,10836,9638,8410,7388,6669,5799,5065,4278,3908,3460,2891,2458,2309,1886,1704,1463,1378,1167,1091,973,847,837,720,639,600,547,515,510,459,431,398,375,395,378,375,323,307,321,304,275,281,277,269,259,230,266,252,218,246,242,233,228,249,203,210,198,244,227,234,241,218,221,203,221,208,225,203,218,216,241,237,213,195,219,188,228,207,223,239,230,208,226,215,222,213,216,230,203,224,207,199,205,231,200,220,202,241,191,217,179,200,216,206,217,201,198,210,203,186,197,238,196,189,211,202,212,196,182,196,203,169,181,211,209,187,189,212,179,204,192,193,190,180,191,180,167,173,187,186,213,170,194,198,173,192,193,195,185,177,195,207,197,177,200,167,186,185,165,164,176,163,143,156,192,188,156,173,168,163,190,159,159,152,171,167,138,152,166,172,168,162,140,171,170,163,168,162,175,143,152,145,164,150,144,152,146,172,154,153,153,129,159,145,148,146,148,147,147,130,147,131,159,134,131,127,128,134,122,143,123,123,134,122,122,136,125,121,139,134,101,131,127,139,120,135,119,119,109,99,134,106,104,98,126,119,103,125,109,111,106,101,104,103,96,104,117,121,126,95,87,94,81,97,113,103,106,100,96,93,102,124,99,111,101,90,117,93,86,88,78,90,110,107,97,92,85,108,125,114,92,97,110,106,108,103,97,101,113,95,111,90,94,118,95,103,123,86,109,106,112,114,120,107,104,120,115,98,117,106,126,106,113,114,111,97,105,119,126,120,98,121,118,129,106,114,109,109,112,112,126,109,106,100,94,96,106,96,98,93,91,92,95,84,112,97,97,113,107,110,100,93,87,95,91,108,86,88,82,86,75,91,93,74,73,66,83,72,84,94,60,87,72,93,71,67,61,76,68,73,69,67,73,79,71,75,64,68,62,56,57,63,71,69,63,54,56,58,71,50,66,56,38,57,54,62,46,36,45,41,40,43,50,52,45,34,31,39,41,42,29,45,31,35,26,35,37,36,30,42,26,31,34,26,40,36,24,24,27,26,29,16,27,25,24,18,18,19,28,17,26,9,17,13,24,18,18,18,13,9,16,22,11,19,19,13,20,14,9,14,11,10,14,11,9,8,17,10,11,12,17,8,6,9,7,10,11,7,11,5,5,10,7,10,5,3,5,4,9,4,5,8,5,4,10,3,5,6,5,8,5,5,2,3,2,5,5,3,5,4,3,6,4,1,5,8,4,2,1,1,6,5,4,2,2,2,1,1,2,1,7,1,1,0,4,4,1,1,3,0,0,1,1,0,3,1,1,0,1,1,1,1,0,3,0,0,2,1,0,0,1],\"p1\":745,\"v1\":[1,0,0,1,0,1,0,0,2,0,0,1,0,1,1,1,1,0,0,0,1],\"p2\":777,\"v2\":[2,0,0,0,0,0,0,0,1,0,0,0,0,0,0,0,0,0,1],\"p3\":821,\"v3\":[1,0,0,0,0,2],\"p4\":864,\"v4\":[1,0,0,0,0,0,0,1],\"p5\":887,\"v5\":1,\"p6\":902,\"v6\":1,\"p7\":926,\"v7\":[1,0,1],\"p8\":1001,\"v8\":2}},{\"_typename\":\"TH1D\",\"fUniqueID\":0,\"fBits\":8,\"fName\":\"proj_BG\",\"fTitle\":\"hist_inv_mass_BG5 ( Projection X )\",\"fLineColor\":2,\"fLineStyle\":1,\"fLineWidth\":1,\"fFillColor\":0,\"fFillStyle\":1001,\"fMarkerColor\":1,\"fMarkerStyle\":1,\"fMarkerSize\":1,\"fNcells\":52,\"fXaxis\":{\"_typename\":\"TAxis\",\"fUniqueID\":0,\"fBits\":0,\"fName\":\"xaxis\",\"fTitle\":\"\",\"fNdivisions\":510,\"fAxisColor\":1,\"fLabelColor\":1,\"fLabelFont\":42,\"fLabelOffset\":0.005,\"fLabelSize\":0.035,\"fTickLength\":0.03,\"fTitleOffset\":1,\"fTitleSize\":0.035,\"fTitleColor\":1,\"fTitleFont\":42,\"fNbins\":50,\"fXmin\":0,\"fXmax\":1,\"fXbins\":[],\"fFirst\":1,\"fLast\":1000,\"fBits2\":0,\"fTimeDisplay\":false,\"fTimeFormat\":\"\",\"fLabels\":null,\"fModLabs\":null},\"fYaxis\":{\"_typename\":\"TAxis\",\"fUniqueID\":0,\"fBits\":0,\"fName\":\"yaxis\",\"fTitle\":\"\",\"fNdivisions\":510,\"fAxisColor\":1,\"fLabelColor\":1,\"fLabelFont\":42,\"fLabelOffset\":0.005,\"fLabelSize\":0.035,\"fTickLength\":0.03,\"fTitleOffset\":0,\"fTitleSize\":0.035,\"fTitleColor\":1,\"fTitleFont\":42,\"fNbins\":1,\"fXmin\":0,\"fXmax\":1,\"fXbins\":[],\"fFirst\":0,\"fLast\":0,\"fBits2\":0,\"fTimeDisplay\":false,\"fTimeFormat\":\"\",\"fLabels\":null,\"fModLabs\":null},\"fZaxis\":{\"_typename\":\"TAxis\",\"fUniqueID\":0,\"fBits\":0,\"fName\":\"zaxis\",\"fTitle\":\"\",\"fNdivisions\":510,\"fAxisColor\":1,\"fLabelColor\":1,\"fLabelFont\":42,\"fLabelOffset\":0.005,\"fLabelSize\":0.035,\"fTickLength\":0.03,\"fTitleOffset\":1,\"fTitleSize\":0.035,\"fTitleColor\":1,\"fTitleFont\":42,\"fNbins\":1,\"fXmin\":0,\"fXmax\":1,\"fXbins\":[],\"fFirst\":0,\"fLast\":0,\"fBits2\":0,\"fTimeDisplay\":false,\"fTimeFormat\":\"\",\"fLabels\":null,\"fModLabs\":null},\"fBarOffset\":0,\"fBarWidth\":1000,\"fEntries\":1866176,\"fTsumw\":12439.819171705,\"fTsumw2\":208.916007885148,\"fTsumwx\":6973.32044814843,\"fTsumwx2\":4684.1281545385,\"fMaximum\":-1111,\"fMinimum\":-1111,\"fNormFactor\":0,\"fContour\":[],\"fSumw2\":{\"$arr\":\"Float64\",\"len\":52,\"p\":1,\"v\":[0.113381279896195,0.51331823236586,0.920588302440751,1.3219354698345,1.71341113275967,2.05411905841789,2.38890408139496,2.71466372885791,2.94537489043773,3.25957077552321,3.44825753236538,3.73227481807551,4.00331812648407,4.16013402604199,4.41397271237676,4.53243076599965,4.72111752284183,4.80178181649932,4.97495620917659,5.06746630819637,5.12951576485598,5.19382156539413,5.26151188175006,5.26461435458304,5.28463940650501,5.2691270423401,5.26602456950712,5.2775883318846,5.25051220534222,5.27279360114272,5.21694909014907,5.17774511525959,5.08946566101205,5.11400340069108,5.00626298049121,4.9836995417059,4.9303934175756,4.87483094956677,4.83985761944953,4.70983580344917,4.65399129245552,4.64017118619952,4.56007097851166,4.56486570925354,4.53299485196928,4.47348378217302,4.38999905866737,4.33753906349151,4.2788741226497,4.26984874713558,317.425841347594]},\"fOption\":\"\",\"fFunctions\":{\"_typename\":\"TList\",\"name\":\"TList\",\"arr\":[],\"opt\":[]},\"fBufferSize\":0,\"fBuffer\":[],\"fBinStatErrOpt\":0,\"fStatOverflows\":2,\"fArray\":{\"$arr\":\"Float64\",\"len\":52,\"p\":1,\"v\":[6.75124244256348,30.5653264812576,54.8160580411125,78.7141127569528,102.024372732769,122.311688331318,142.246327085852,161.643553506651,175.381156287787,194.089823155985,205.325099758162,222.236794135429,238.37595828295,247.71349758162,262.828219467957,269.881756348247,281.117032950423,285.920155683192,296.231754836759,301.740231257557,305.434941051995,309.264003929867,313.29459643289,313.479331922612,314.67171553809,313.74803808948,313.563302599758,314.251862152358,312.639625151149,313.96636185006,310.641123035067,308.306738210399,303.05017382104,304.511263603386,298.095903869407,296.752373035067,293.578281438936,290.269836759371,288.187363966143,280.445267533253,277.120028718259,276.297116082225,271.527581620314,271.813081922612,269.915344619105,266.371782043531,261.400717956469,258.277008766626,254.78382859734,254.246416263603,18900.9933071342]}},{\"_typename\":\"TPaveText\",\"fUniqueID\":0,\"fBits\":9,\"fLineColor\":1,\"fLineStyle\":1,\"fLineWidth\":1,\"fFillColor\":0,\"fFillStyle\":0,\"fX1\":0.0624999934807416,\"fY1\":27760.0322688619,\"fX2\":0.937500006519258,\"fY2\":29779.5032165845,\"fX1NDC\":0.15,\"fY1NDC\":0.934306363149874,\"fX2NDC\":0.85,\"fY2NDC\":0.995000004768372,\"fBorderSize\":0,\"fInit\":1,\"fShadowColor\":1,\"fCornerRadius\":0,\"fOption\":\"blNDC\",\"fName\":\"title\",\"fTextAngle\":0,\"fTextSize\":0,\"fTextAlign\":22,\"fTextColor\":1,\"fTextFont\":42,\"fLabel\":\"\",\"fLongest\":34,\"fMargin\":0.05,\"fLines\":{\"_typename\":\"TList\",\"name\":\"TList\",\"arr\":[{\"_typename\":\"TLatex\",\"fUniqueID\":0,\"fBits\":0,\"fName\":\"\",\"fTitle\":\"hist_inv_mass_FG5 ( Projection X )\",\"fTextAngle\":0,\"fTextSize\":0,\"fTextAlign\":0,\"fTextColor\":0,\"fTextFont\":0,\"fX\":0,\"fY\":0,\"fLineColor\":1,\"fLineStyle\":1,\"fLineWidth\":2,\"fLimitFactorSize\":3,\"fOriginSize\":0.0460119321942329}],\"opt\":[\"\"]}},{\"_typename\":\"TStyle\",\"fUniqueID\":0,\"fBits\":0,\"fName\":\"Modern\",\"fTitle\":\"Modern Style\",\"fLineColor\":1,\"fLineStyle\":1,\"fLineWidth\":1,\"fFillColor\":19,\"fFillStyle\":1001,\"fMarkerColor\":1,\"fMarkerStyle\":1,\"fMarkerSize\":1,\"fTextAngle\":0,\"fTextSize\":0.05,\"fTextAlign\":11,\"fTextColor\":1,\"fTextFont\":62,\"fXaxis\":{\"_typename\":\"TAttAxis\",\"fNdivisions\":510,\"fAxisColor\":1,\"fLabelColor\":1,\"fLabelFont\":42,\"fLabelOffset\":0.005,\"fLabelSize\":0.035,\"fTickLength\":0.03,\"fTitleOffset\":1,\"fTitleSize\":0.035,\"fTitleColor\":1,\"fTitleFont\":42},\"fYaxis\":{\"_typename\":\"TAttAxis\",\"fNdivisions\":510,\"fAxisColor\":1,\"fLabelColor\":1,\"fLabelFont\":42,\"fLabelOffset\":0.005,\"fLabelSize\":0.035,\"fTickLength\":0.03,\"fTitleOffset\":0,\"fTitleSize\":0.035,\"fTitleColor\":1,\"fTitleFont\":42},\"fZaxis\":{\"_typename\":\"TAttAxis\",\"fNdivisions\":510,\"fAxisColor\":1,\"fLabelColor\":1,\"fLabelFont\":42,\"fLabelOffset\":0.005,\"fLabelSize\":0.035,\"fTickLength\":0.03,\"fTitleOffset\":1,\"fTitleSize\":0.035,\"fTitleColor\":1,\"fTitleFont\":42},\"fBarWidth\":1,\"fBarOffset\":0,\"fColorModelPS\":0,\"fDrawBorder\":0,\"fOptLogx\":0,\"fOptLogy\":0,\"fOptLogz\":0,\"fOptDate\":0,\"fOptStat\":1111,\"fOptTitle\":1,\"fOptFile\":0,\"fOptFit\":0,\"fShowEventStatus\":0,\"fShowEditor\":0,\"fShowToolBar\":0,\"fNumberContours\":20,\"fAttDate\":{\"_typename\":\"TAttText\",\"fTextAngle\":0,\"fTextSize\":0.025,\"fTextAlign\":11,\"fTextColor\":1,\"fTextFont\":62},\"fDateX\":0.01,\"fDateY\":0.01,\"fEndErrorSize\":2,\"fErrorX\":0.5,\"fFuncColor\":2,\"fFuncStyle\":1,\"fFuncWidth\":2,\"fGridColor\":0,\"fGridStyle\":3,\"fGridWidth\":1,\"fLegendBorderSize\":1,\"fLegendFillColor\":0,\"fLegendFont\":42,\"fLegendTextSize\":0,\"fHatchesLineWidth\":1,\"fHatchesSpacing\":1,\"fFrameFillColor\":0,\"fFrameLineColor\":1,\"fFrameFillStyle\":1001,\"fFrameLineStyle\":1,\"fFrameLineWidth\":1,\"fFrameBorderSize\":1,\"fFrameBorderMode\":0,\"fHistFillColor\":0,\"fHistLineColor\":602,\"fHistFillStyle\":1001,\"fHistLineStyle\":1,\"fHistLineWidth\":1,\"fHistMinimumZero\":false,\"fHistTopMargin\":0.05,\"fCanvasPreferGL\":false,\"fCanvasColor\":0,\"fCanvasBorderSize\":2,\"fCanvasBorderMode\":0,\"fCanvasDefH\":500,\"fCanvasDefW\":700,\"fCanvasDefX\":10,\"fCanvasDefY\":10,\"fPadColor\":0,\"fPadBorderSize\":2,\"fPadBorderMode\":0,\"fPadBottomMargin\":0.1,\"fPadTopMargin\":0.1,\"fPadLeftMargin\":0.1,\"fPadRightMargin\":0.1,\"fPadGridX\":false,\"fPadGridY\":false,\"fPadTickX\":0,\"fPadTickY\":0,\"fPaperSizeX\":20,\"fPaperSizeY\":26,\"fScreenFactor\":1,\"fStatColor\":0,\"fStatTextColor\":1,\"fStatBorderSize\":1,\"fStatFont\":42,\"fStatFontSize\":0,\"fStatStyle\":1001,\"fStatFormat\":\"6.4g\",\"fStatX\":0.98,\"fStatY\":0.935,\"fStatW\":0.2,\"fStatH\":0.16,\"fStripDecimals\":true,\"fTitleAlign\":23,\"fTitleColor\":0,\"fTitleTextColor\":1,\"fTitleBorderSize\":0,\"fTitleFont\":42,\"fTitleFontSize\":0.05,\"fTitleStyle\":0,\"fTitleX\":0.5,\"fTitleY\":0.995,\"fTitleW\":0,\"fTitleH\":0,\"fLegoInnerR\":0.5,\"fLineStyles\":[\"\",\"  \",\" 12 12\",\" 4 8\",\" 12 16 4 16\",\" 20 12 4 12\",\" 20 12 4 12 4 12 4 12\",\" 20 20\",\" 20 12 4 12 4 12\",\" 80 20\",\" 80 40 4 40\",\"  \",\"  \",\"  \",\"  \",\"  \",\"  \",\"  \",\"  \",\"  \",\"  \",\"  \",\"  \",\"  \",\"  \",\"  \",\"  \",\"  \",\"  \",\"  \"],\"fHeaderPS\":\"\",\"fTitlePS\":\"\",\"fFitFormat\":\"5.4g\",\"fPaintTextFormat\":\"g\",\"fLineScalePS\":3,\"fJoinLinePS\":0,\"fCapLinePS\":0,\"fTimeOffset\":788918400,\"fImageScaling\":1,\"fCandleWhiskerRange\":1,\"fCandleBoxRange\":0.5,\"fCandleScaled\":false,\"fViolinScaled\":true,\"fXAxisExpXOffset\":0,\"fXAxisExpYOffset\":0,\"fYAxisExpXOffset\":0,\"fYAxisExpYOffset\":0,\"fAxisMaxDigits\":5}],\"opt\":[\"\",\"\",\"same\",\"blNDC\",\"\"]},\"fExecs\":null,\"fName\":\"c1\",\"fTitle\":\"c1\",\"fNumPaletteColor\":0,\"fNextPaletteColor\":0,\"fDISPLAY\":\"$DISPLAY\",\"fDoubleBuffer\":0,\"fRetained\":true,\"fXsizeUser\":0,\"fYsizeUser\":0,\"fXsizeReal\":20,\"fYsizeReal\":20,\"fWindowTopX\":0,\"fWindowTopY\":0,\"fWindowWidth\":0,\"fWindowHeight\":0,\"fCw\":716,\"fCh\":692,\"fCatt\":{\"_typename\":\"TAttCanvas\",\"fXBetween\":2,\"fYBetween\":2,\"fTitleFromTop\":1.2,\"fXdate\":0.2,\"fYdate\":0.3,\"fAdate\":1},\"kMoveOpaque\":true,\"kResizeOpaque\":true,\"fHighLightColor\":2,\"fBatch\":true,\"kShowEventStatus\":false,\"kAutoExec\":true,\"kMenuBar\":true});\n",
       "   Core.settings.HandleKeys = false;\n",
       "   Core.draw(\"root_plot_1699719540700\", obj, \"\");\n",
       "}\n",
       "\n",
       "function script_load_root_plot_1699719540700(src, on_error) {\n",
       "    let script = document.createElement('script');\n",
       "    script.src = src;\n",
       "    script.onload = function() { display_root_plot_1699719540700(JSROOT); };\n",
       "    script.onerror = function() { script.remove(); on_error(); };\n",
       "    document.head.appendChild(script);\n",
       "}\n",
       "\n",
       "if (typeof requirejs !== 'undefined') {\n",
       "\n",
       "    // We are in jupyter notebooks, use require.js which should be configured already\n",
       "    requirejs.config({\n",
       "       paths: { 'JSRootCore' : [ 'build/jsroot', 'https://root.cern/js/7.2.1/build/jsroot', 'https://jsroot.gsi.de/7.2.1/build/jsroot' ] }\n",
       "    })(['JSRootCore'],  function(Core) {\n",
       "       display_root_plot_1699719540700(Core);\n",
       "    });\n",
       "\n",
       "} else if (typeof JSROOT !== 'undefined') {\n",
       "\n",
       "   // JSROOT already loaded, just use it\n",
       "   display_root_plot_1699719540700(JSROOT);\n",
       "\n",
       "} else {\n",
       "\n",
       "    // We are in jupyterlab without require.js, directly loading jsroot\n",
       "    // Jupyterlab might be installed in a different base_url so we need to know it.\n",
       "    try {\n",
       "        var base_url = JSON.parse(document.getElementById('jupyter-config-data').innerHTML).baseUrl;\n",
       "    } catch(_) {\n",
       "        var base_url = '/';\n",
       "    }\n",
       "\n",
       "    // Try loading a local version of requirejs and fallback to cdn if not possible.\n",
       "    script_load_root_plot_1699719540700(base_url + 'static/build/jsroot.js', function(){\n",
       "        console.error('Fail to load JSROOT locally, please check your jupyter_notebook_config.py file');\n",
       "        script_load_root_plot_1699719540700('https://root.cern/js/7.2.1/build/jsroot.js', function(){\n",
       "            document.getElementById(\"root_plot_1699719540700\").innerHTML = \"Failed to load JSROOT\";\n",
       "        });\n",
       "    });\n",
       "}\n",
       "\n",
       "</script>\n"
      ],
      "text/plain": [
       "<IPython.core.display.HTML object>"
      ]
     },
     "metadata": {},
     "output_type": "display_data"
    }
   ],
   "source": [
    "\n",
    "c1 = ROOT.TCanvas(\"c1\",\"c1\",720,720)\n",
    "hist = hist_inv_mass_FG.ProjectionX(\"proj\",1,39,1,59)\n",
    "hist_BG = hist_inv_mass_BG.ProjectionX(\"proj_BG\",1,39,1,59)\n",
    "hist.Draw()\n",
    "hist_BG.Scale(hist.Integral(hist.FindBin(0.2),hist.FindBin(0.25))/hist_BG.Integral(hist.FindBin(0.2),hist.FindBin(0.25)))\n",
    "hist_BG.SetLineColor(2)\n",
    "hist_BG.Rebin(20)\n",
    "hist_BG.Scale(1./20)\n",
    "hist_BG.Draw('same')\n",
    "\n",
    "integralFG = hist.Integral(hist.FindBin(0.10),hist.FindBin(0.18))\n",
    "integralBG = hist_BG.Integral(hist_BG.FindBin(0.10),hist_BG.FindBin(0.18))\n",
    "integral = (integralFG - integralBG)/Nev*1000\n",
    "print(integral, Nev)\n",
    "\n",
    "c1.Draw()\n",
    "c1.SaveAs(\"output/kek.png\")"
   ]
  },
  {
   "cell_type": "code",
   "execution_count": 26,
   "metadata": {},
   "outputs": [
    {
     "name": "stdout",
     "output_type": "stream",
     "text": [
      "TFile**\t\tinput/HeAu_sim_hists_6M_0.root\t\n",
      " TFile*\t\tinput/HeAu_sim_hists_6M_0.root\t\n",
      "  KEY: TH3D\thist_inv_mass_FG5;1\thist_inv_mass_FG5\n",
      "  KEY: TH3D\thist_inv_mass_BG5;1\thist_inv_mass_BG5\n",
      "  KEY: TH2D\thist_pt_orig5;1\thist_pt_orig5\n"
     ]
    }
   ],
   "source": [
    "FileOut = ROOT.TFile(\"input/\"+outnames[Option]+\".root\")\n",
    "FileOut.ls()"
   ]
  }
 ],
 "metadata": {
  "kernelspec": {
   "display_name": "Python 3",
   "language": "python",
   "name": "python3"
  },
  "language_info": {
   "codemirror_mode": {
    "name": "ipython",
    "version": 3
   },
   "file_extension": ".py",
   "mimetype": "text/x-python",
   "name": "python",
   "nbconvert_exporter": "python",
   "pygments_lexer": "ipython3",
   "version": "3.10.12"
  }
 },
 "nbformat": 4,
 "nbformat_minor": 4
}
